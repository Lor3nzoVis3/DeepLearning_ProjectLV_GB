{
  "nbformat": 4,
  "nbformat_minor": 0,
  "metadata": {
    "colab": {
      "name": "TransferLearningV3.ipynb",
      "provenance": [],
      "collapsed_sections": [],
      "include_colab_link": true
    },
    "kernelspec": {
      "display_name": "Python 3",
      "language": "python",
      "name": "python3"
    },
    "language_info": {
      "codemirror_mode": {
        "name": "ipython",
        "version": 3
      },
      "file_extension": ".py",
      "mimetype": "text/x-python",
      "name": "python",
      "nbconvert_exporter": "python",
      "pygments_lexer": "ipython3",
      "version": "3.7.3"
    },
    "accelerator": "GPU"
  },
  "cells": [
    {
      "cell_type": "markdown",
      "metadata": {
        "id": "view-in-github",
        "colab_type": "text"
      },
      "source": [
        "<a href=\"https://colab.research.google.com/github/Lor3nzoVis3/DeepLearning_ProjectLV_GB/blob/master/TransferLearningV3_sourceLight.ipynb\" target=\"_parent\"><img src=\"https://colab.research.google.com/assets/colab-badge.svg\" alt=\"Open In Colab\"/></a>"
      ]
    },
    {
      "cell_type": "code",
      "metadata": {
        "colab_type": "code",
        "id": "dLWDTXgdyOa6",
        "colab": {}
      },
      "source": [
        "\"\"\"\n",
        "@author: LorenzoVisentini\n",
        "\"\"\"\n",
        "\n",
        "modelName = \"InceptionV3\"\n",
        "\n",
        "#import\n",
        "import numpy as np\n",
        "import pandas as pd\n",
        "import matplotlib.pyplot as plt\n",
        "\n",
        "from sklearn.model_selection import train_test_split\n",
        "#keras\n",
        "import keras\n",
        "from keras.layers import Dense, Dropout, Flatten, GlobalAveragePooling2D\n",
        "from keras.models import Model\n",
        "from keras import optimizers\n",
        "from keras.preprocessing.image import ImageDataGenerator\n",
        "#inception v3\n",
        "from keras.applications.inception_v3 import InceptionV3\n",
        "from keras.applications.inception_v3 import preprocess_input, decode_predictions"
      ],
      "execution_count": 2,
      "outputs": []
    },
    {
      "cell_type": "code",
      "metadata": {
        "id": "h7TvUtZWCd3W",
        "colab_type": "code",
        "colab": {
          "base_uri": "https://localhost:8080/",
          "height": 121
        },
        "outputId": "e5a4630f-a758-46b3-85f0-29ed26f30b39"
      },
      "source": [
        "from google.colab import drive\n",
        "drive.mount('/content/drive')"
      ],
      "execution_count": 3,
      "outputs": [
        {
          "output_type": "stream",
          "text": [
            "Go to this URL in a browser: https://accounts.google.com/o/oauth2/auth?client_id=947318989803-6bn6qk8qdgf4n4g3pfee6491hc0brc4i.apps.googleusercontent.com&redirect_uri=urn%3aietf%3awg%3aoauth%3a2.0%3aoob&response_type=code&scope=email%20https%3a%2f%2fwww.googleapis.com%2fauth%2fdocs.test%20https%3a%2f%2fwww.googleapis.com%2fauth%2fdrive%20https%3a%2f%2fwww.googleapis.com%2fauth%2fdrive.photos.readonly%20https%3a%2f%2fwww.googleapis.com%2fauth%2fpeopleapi.readonly\n",
            "\n",
            "Enter your authorization code:\n",
            "··········\n",
            "Mounted at /content/drive\n"
          ],
          "name": "stdout"
        }
      ]
    },
    {
      "cell_type": "code",
      "metadata": {
        "colab_type": "code",
        "id": "CWOmwzOeySHO",
        "colab": {}
      },
      "source": [
        "#Images parameters\n",
        "img_width = 299\n",
        "img_height = 299\n",
        "\n",
        "# train_dir = './source_light/training'\n",
        "# validation_dir = './source_light/validation' \n",
        "train_dir = '/content/drive/My Drive/Deep Learning Project - Image Classification/source_light/training'\n",
        "validation_dir = '/content/drive/My Drive/Deep Learning Project - Image Classification/source_light/validation' \n",
        "\n",
        "batch_size = 64\n",
        "epochs = 20"
      ],
      "execution_count": 12,
      "outputs": []
    },
    {
      "cell_type": "code",
      "metadata": {
        "colab_type": "code",
        "id": "ytYyW1qpyTWm",
        "colab": {}
      },
      "source": [
        "#from https://edebrouwer.github.io/deeplearning/carvision/transfer/neural/networks/learning/2017/08/05/TransferLearning.html\n",
        "\n",
        "#Transfer learning on InceptionV3 model\n",
        "#use all the layers except for the last fully connected layer (because its \n",
        "#specific to the ImageNet competition)\n",
        "#we will retrain layers with new inputs\n",
        "pre_trained_model = InceptionV3(input_shape = (img_height, img_width, 3),\n",
        "                               include_top = False, #exclude last flatten layer\n",
        "                               weights = 'imagenet' #weights from imageNet\n",
        "                               ) \n",
        "\n",
        "# pre_trained_model.summary() #check V3 structure"
      ],
      "execution_count": 13,
      "outputs": []
    },
    {
      "cell_type": "code",
      "metadata": {
        "colab_type": "code",
        "id": "PzRXA6HMylNv",
        "colab": {}
      },
      "source": [
        "n_classes = 3\n",
        "\n",
        "#transfer learning phase\n",
        "x = pre_trained_model.output\n",
        "x = GlobalAveragePooling2D()(x)\n",
        "x = Dense(1024, activation= 'relu')(x) #add fully connected layer\n",
        "x = Dropout(0.5)(x)\n",
        "x = Dense(1024, activation= 'relu')(x)\n",
        "x = Dense(n_classes, activation= 'softmax')(x)\n",
        "model = Model(inputs = pre_trained_model.input, outputs = x)\n",
        "\n",
        "#freeze the model excepted added layers\n",
        "#freeze the model excepted added layers\n",
        "for layer in pre_trained_model.layers:\n",
        "    layer.trainable = False\n",
        "\n",
        "model.compile(optimizer = 'Adam',\n",
        "              loss = 'categorical_crossentropy',  #because we have 3 possible outputs\n",
        "              metrics = ['accuracy'])"
      ],
      "execution_count": 14,
      "outputs": []
    },
    {
      "cell_type": "code",
      "metadata": {
        "colab_type": "code",
        "id": "DscGjJZl2mHk",
        "colab": {
          "base_uri": "https://localhost:8080/",
          "height": 50
        },
        "outputId": "b954c249-ca34-43f0-9488-8cba241e5fa6"
      },
      "source": [
        "#preprocessing\n",
        "datagen = ImageDataGenerator(preprocessing_function = preprocess_input)\n",
        "train_generator = datagen.flow_from_directory(directory=train_dir,\n",
        "                                                    target_size=(img_height, img_width),\n",
        "                                                    color_mode=\"rgb\",\n",
        "                                                    batch_size=batch_size,\n",
        "                                                    class_mode=\"categorical\",\n",
        "                                                    shuffle=True,\n",
        "                                                    seed=42\n",
        "                                                    )\n",
        "\n",
        "val_generator = datagen.flow_from_directory(directory=validation_dir,\n",
        "                                                    target_size=(img_height, img_width),\n",
        "                                                    color_mode=\"rgb\",\n",
        "                                                    batch_size=batch_size,\n",
        "                                                    class_mode=\"categorical\",\n",
        "                                                    shuffle=True,\n",
        "                                                    seed=42\n",
        "                                                    )"
      ],
      "execution_count": 15,
      "outputs": [
        {
          "output_type": "stream",
          "text": [
            "Found 7000 images belonging to 3 classes.\n",
            "Found 3000 images belonging to 3 classes.\n"
          ],
          "name": "stdout"
        }
      ]
    },
    {
      "cell_type": "code",
      "metadata": {
        "id": "ZgVssD27zr1L",
        "colab_type": "code",
        "colab": {
          "base_uri": "https://localhost:8080/",
          "height": 689
        },
        "outputId": "273262a0-0cfa-48c3-d3c0-be00344ce51b"
      },
      "source": [
        "history = model.fit_generator(generator = train_generator,\n",
        "                             steps_per_epoch = train_generator.n//batch_size,\n",
        "                             epochs = epochs,\n",
        "                             validation_data = val_generator,\n",
        "                             validation_steps=val_generator.n//batch_size\n",
        "                             )\n"
      ],
      "execution_count": 16,
      "outputs": [
        {
          "output_type": "stream",
          "text": [
            "Epoch 1/20\n",
            "109/109 [==============================] - 127s 1s/step - loss: 1.0520 - accuracy: 0.5458 - val_loss: 0.8538 - val_accuracy: 0.5516\n",
            "Epoch 2/20\n",
            "109/109 [==============================] - 116s 1s/step - loss: 0.8298 - accuracy: 0.5992 - val_loss: 0.9537 - val_accuracy: 0.5807\n",
            "Epoch 3/20\n",
            "109/109 [==============================] - 112s 1s/step - loss: 0.7977 - accuracy: 0.6236 - val_loss: 1.0398 - val_accuracy: 0.5654\n",
            "Epoch 4/20\n",
            "109/109 [==============================] - 112s 1s/step - loss: 0.7849 - accuracy: 0.6275 - val_loss: 1.0432 - val_accuracy: 0.5739\n",
            "Epoch 5/20\n",
            "109/109 [==============================] - 112s 1s/step - loss: 0.7540 - accuracy: 0.6426 - val_loss: 1.1009 - val_accuracy: 0.5702\n",
            "Epoch 6/20\n",
            "109/109 [==============================] - 113s 1s/step - loss: 0.7514 - accuracy: 0.6531 - val_loss: 1.0115 - val_accuracy: 0.5416\n",
            "Epoch 7/20\n",
            "109/109 [==============================] - 112s 1s/step - loss: 0.7331 - accuracy: 0.6602 - val_loss: 0.8723 - val_accuracy: 0.5702\n",
            "Epoch 8/20\n",
            "109/109 [==============================] - 113s 1s/step - loss: 0.7187 - accuracy: 0.6625 - val_loss: 1.4977 - val_accuracy: 0.5463\n",
            "Epoch 9/20\n",
            "109/109 [==============================] - 112s 1s/step - loss: 0.7409 - accuracy: 0.6584 - val_loss: 1.0071 - val_accuracy: 0.5916\n",
            "Epoch 10/20\n",
            "109/109 [==============================] - 113s 1s/step - loss: 0.7175 - accuracy: 0.6716 - val_loss: 0.8116 - val_accuracy: 0.5729\n",
            "Epoch 11/20\n",
            "109/109 [==============================] - 113s 1s/step - loss: 0.7183 - accuracy: 0.6724 - val_loss: 0.9559 - val_accuracy: 0.5685\n",
            "Epoch 12/20\n",
            "109/109 [==============================] - 112s 1s/step - loss: 0.7033 - accuracy: 0.6752 - val_loss: 0.9949 - val_accuracy: 0.5834\n",
            "Epoch 13/20\n",
            "109/109 [==============================] - 112s 1s/step - loss: 0.7201 - accuracy: 0.6685 - val_loss: 0.8579 - val_accuracy: 0.5906\n",
            "Epoch 14/20\n",
            "109/109 [==============================] - 112s 1s/step - loss: 0.6805 - accuracy: 0.6993 - val_loss: 1.0528 - val_accuracy: 0.5766\n",
            "Epoch 15/20\n",
            "109/109 [==============================] - 112s 1s/step - loss: 0.6811 - accuracy: 0.6889 - val_loss: 1.0892 - val_accuracy: 0.5756\n",
            "Epoch 16/20\n",
            "109/109 [==============================] - 112s 1s/step - loss: 0.6629 - accuracy: 0.7052 - val_loss: 0.7863 - val_accuracy: 0.5862\n",
            "Epoch 17/20\n",
            "109/109 [==============================] - 112s 1s/step - loss: 0.6495 - accuracy: 0.7047 - val_loss: 1.3126 - val_accuracy: 0.5804\n",
            "Epoch 18/20\n",
            "109/109 [==============================] - 112s 1s/step - loss: 0.6464 - accuracy: 0.7033 - val_loss: 0.8544 - val_accuracy: 0.5838\n",
            "Epoch 19/20\n",
            "109/109 [==============================] - 112s 1s/step - loss: 0.6628 - accuracy: 0.7053 - val_loss: 1.2467 - val_accuracy: 0.5722\n",
            "Epoch 20/20\n",
            "109/109 [==============================] - 112s 1s/step - loss: 0.6129 - accuracy: 0.7310 - val_loss: 1.1637 - val_accuracy: 0.5834\n"
          ],
          "name": "stdout"
        }
      ]
    },
    {
      "cell_type": "code",
      "metadata": {
        "id": "djig05C7I3XQ",
        "colab_type": "code",
        "colab": {
          "base_uri": "https://localhost:8080/",
          "height": 34
        },
        "outputId": "5abf3b47-12c6-4d98-9a32-059c914446c3"
      },
      "source": [
        "#save model and history\n",
        "file_model = '/content/drive/My Drive/Deep Learning Project - Image Classification/Models/'+ 'SourceLight' + 'Dropout' + modelName + '_' + str(batch_size) + '_' + str(epochs)\n",
        "model.save(file_model + '.h5')\n",
        "print(file_model)\n",
        "#save history\n",
        "file_hist = '/content/drive/My Drive/Deep Learning Project - Image Classification/History/'+ 'SourceLight' + 'Dropout' + modelName + '_' + str(batch_size) + '_' + str(epochs) + '.csv'\n",
        "df_history = pd.DataFrame(history.history)\n",
        "with open(file_hist, 'w') as file:\n",
        "    df_history.to_csv(file)"
      ],
      "execution_count": 17,
      "outputs": [
        {
          "output_type": "stream",
          "text": [
            "/content/drive/My Drive/Deep Learning Project - Image Classification/Models/SourceLightInceptionV3_64_20\n"
          ],
          "name": "stdout"
        }
      ]
    },
    {
      "cell_type": "code",
      "metadata": {
        "id": "SdpO2G_gzr1P",
        "colab_type": "code",
        "colab": {
          "base_uri": "https://localhost:8080/",
          "height": 573
        },
        "outputId": "8cfd5137-de61-4a45-bd47-d612dbb2026e"
      },
      "source": [
        "#plot results\n",
        "plt.plot(history.history['accuracy'])\n",
        "plt.plot(history.history['val_accuracy'])\n",
        "plt.title('model accuracy')\n",
        "plt.ylabel('accuracy')\n",
        "plt.xlabel('epoch')\n",
        "plt.legend(['train', 'test'], loc='upper left')\n",
        "plt.show()\n",
        "\n",
        "# summarize history for loss\n",
        "plt.plot(history.history['loss'])\n",
        "plt.plot(history.history['val_loss'])\n",
        "plt.title('model loss')\n",
        "plt.ylabel('loss')\n",
        "plt.xlabel('epoch')\n",
        "plt.legend(['train', 'test'], loc='upper left')\n",
        "plt.show()"
      ],
      "execution_count": 18,
      "outputs": [
        {
          "output_type": "display_data",
          "data": {
            "image/png": "[encoded data removed]",
            "text/plain": [
              "<Figure size 432x288 with 1 Axes>"
            ]
          },
          "metadata": {
            "tags": [],
            "needs_background": "light"
          }
        },
        {
          "output_type": "display_data",
          "data": {
            "image/png": "[encoded data removed]",
            "text/plain": [
              "<Figure size 432x288 with 1 Axes>"
            ]
          },
          "metadata": {
            "tags": [],
            "needs_background": "light"
          }
        }
      ]
    },
    {
      "cell_type": "code",
      "metadata": {
        "id": "Rz3p7fcx8zhB",
        "colab_type": "code",
        "colab": {
          "base_uri": "https://localhost:8080/",
          "height": 151
        },
        "outputId": "57057c64-7165-4bf2-d17d-5180d0e577f8"
      },
      "source": [
        "#evaluation\n",
        "# https://stackoverflow.com/questions/40564936/keras-what-is-the-difference-between-model-evaluate-generator-and-model-predict\n",
        "steps = val_generator.n // val_generator.batch_size\n",
        "\n",
        "accuracy_ontest = model.evaluate_generator(val_generator, steps)\n",
        "predictions_ontest = model.predict_generator(val_generator, steps)\n",
        "print(accuracy_ontest)\n",
        "print(predictions_ontest)"
      ],
      "execution_count": 19,
      "outputs": [
        {
          "output_type": "stream",
          "text": [
            "[1.1308155059814453, 0.576766312122345]\n",
            "[[8.9334238e-01 9.3390107e-02 1.3267538e-02]\n",
            " [9.1264921e-01 5.1269684e-02 3.6081038e-02]\n",
            " [9.9770552e-01 2.6387809e-04 2.0305661e-03]\n",
            " ...\n",
            " [4.5079005e-01 4.0709141e-01 1.4211847e-01]\n",
            " [4.4455102e-01 4.6343622e-01 9.2012756e-02]\n",
            " [9.1347122e-01 3.6538240e-02 4.9990546e-02]]\n"
          ],
          "name": "stdout"
        }
      ]
    }
  ]
}