{
  "nbformat": 4,
  "nbformat_minor": 0,
  "metadata": {
    "colab": {
      "name": "TransferLearningV3.ipynb",
      "provenance": [],
      "collapsed_sections": [],
      "include_colab_link": true
    },
    "kernelspec": {
      "display_name": "Python 3",
      "language": "python",
      "name": "python3"
    },
    "language_info": {
      "codemirror_mode": {
        "name": "ipython",
        "version": 3
      },
      "file_extension": ".py",
      "mimetype": "text/x-python",
      "name": "python",
      "nbconvert_exporter": "python",
      "pygments_lexer": "ipython3",
      "version": "3.7.3"
    },
    "accelerator": "GPU"
  },
  "cells": [
    {
      "cell_type": "markdown",
      "metadata": {
        "id": "view-in-github",
        "colab_type": "text"
      },
      "source": [
        "<a href=\"https://colab.research.google.com/github/Lor3nzoVis3/DeepLearning_ProjectLV_GB/blob/master/TransferLearningV3_sourceLight.ipynb\" target=\"_parent\"><img src=\"https://colab.research.google.com/assets/colab-badge.svg\" alt=\"Open In Colab\"/></a>"
      ]
    },
    {
      "cell_type": "code",
      "metadata": {
        "colab_type": "code",
        "id": "dLWDTXgdyOa6",
        "colab": {}
      },
      "source": [
        "\"\"\"\n",
        "@author: LorenzoVisentini\n",
        "\"\"\"\n",
        "\n",
        "modelName = \"InceptionV3\"\n",
        "\n",
        "#import\n",
        "import numpy as np\n",
        "import pandas as pd\n",
        "import matplotlib.pyplot as plt\n",
        "\n",
        "from sklearn.model_selection import train_test_split\n",
        "#keras\n",
        "import keras\n",
        "from keras.layers import Dense, Dropout, Flatten, GlobalAveragePooling2D\n",
        "from keras.models import Model\n",
        "from keras import optimizers\n",
        "from keras.preprocessing.image import ImageDataGenerator\n",
        "#inception v3\n",
        "from keras.applications.inception_v3 import InceptionV3\n",
        "from keras.applications.inception_v3 import preprocess_input, decode_predictions"
      ],
      "execution_count": 27,
      "outputs": []
    },
    {
      "cell_type": "code",
      "metadata": {
        "id": "h7TvUtZWCd3W",
        "colab_type": "code",
        "colab": {
          "base_uri": "https://localhost:8080/",
          "height": 34
        },
        "outputId": "3b7383fd-9399-4532-fa46-7e959f1e2ca4"
      },
      "source": [
        "from google.colab import drive\n",
        "drive.mount('/content/drive')"
      ],
      "execution_count": 20,
      "outputs": [
        {
          "output_type": "stream",
          "text": [
            "Drive already mounted at /content/drive; to attempt to forcibly remount, call drive.mount(\"/content/drive\", force_remount=True).\n"
          ],
          "name": "stdout"
        }
      ]
    },
    {
      "cell_type": "code",
      "metadata": {
        "colab_type": "code",
        "id": "CWOmwzOeySHO",
        "colab": {}
      },
      "source": [
        "#Images parameters\n",
        "img_width = 299\n",
        "img_height = 299\n",
        "\n",
        "# train_dir = './source_light/training'\n",
        "# validation_dir = './source_light/validation' \n",
        "train_dir = '/content/drive/My Drive/Deep Learning Project - Image Classification/source_light/training'\n",
        "validation_dir = '/content/drive/My Drive/Deep Learning Project - Image Classification/source_light/validation' \n",
        "\n",
        "batch_size = 32\n",
        "epochs = 20"
      ],
      "execution_count": 30,
      "outputs": []
    },
    {
      "cell_type": "code",
      "metadata": {
        "colab_type": "code",
        "id": "ytYyW1qpyTWm",
        "colab": {}
      },
      "source": [
        "#from https://edebrouwer.github.io/deeplearning/carvision/transfer/neural/networks/learning/2017/08/05/TransferLearning.html\n",
        "\n",
        "#Transfer learning on InceptionV3 model\n",
        "#use all the layers except for the last fully connected layer (because its \n",
        "#specific to the ImageNet competition)\n",
        "#we will retrain layers with new inputs\n",
        "pre_trained_model = InceptionV3(input_shape = (img_height, img_width, 3),\n",
        "                               include_top = False, #exclude last flatten layer\n",
        "                               weights = 'imagenet' #weights from imageNet\n",
        "                               ) \n",
        "\n",
        "# pre_trained_model.summary() #check V3 structure"
      ],
      "execution_count": 31,
      "outputs": []
    },
    {
      "cell_type": "code",
      "metadata": {
        "colab_type": "code",
        "id": "PzRXA6HMylNv",
        "colab": {}
      },
      "source": [
        "n_classes = 3\n",
        "\n",
        "#transfer learning phase\n",
        "x = pre_trained_model.output\n",
        "x = GlobalAveragePooling2D()(x)\n",
        "x = Dense(1024, activation= 'relu')(x) #add fully connected layer\n",
        "x = Dropout(0.5)(x)\n",
        "x = Dense(512, activation= 'relu')(x)\n",
        "x = Dense(n_classes, activation= 'softmax')(x)\n",
        "model = Model(inputs = pre_trained_model.input, outputs = x)\n",
        "\n",
        "#freeze the model excepted added layers\n",
        "#freeze the model excepted added layers\n",
        "for layer in pre_trained_model.layers:\n",
        "    layer.trainable = False\n",
        "\n",
        "model.compile(optimizer = 'Adam',\n",
        "              loss = 'categorical_crossentropy',  #because we have 3 possible outputs\n",
        "              metrics = ['accuracy'])"
      ],
      "execution_count": 32,
      "outputs": []
    },
    {
      "cell_type": "code",
      "metadata": {
        "colab_type": "code",
        "id": "DscGjJZl2mHk",
        "colab": {
          "base_uri": "https://localhost:8080/",
          "height": 50
        },
        "outputId": "0b0ab991-c03a-4910-f5dc-65dc5e996700"
      },
      "source": [
        "#preprocessing\n",
        "datagen = ImageDataGenerator(preprocessing_function = preprocess_input)\n",
        "train_generator = datagen.flow_from_directory(directory=train_dir,\n",
        "                                                    target_size=(img_height, img_width),\n",
        "                                                    color_mode=\"rgb\",\n",
        "                                                    batch_size=batch_size,\n",
        "                                                    class_mode=\"categorical\",\n",
        "                                                    shuffle=True,\n",
        "                                                    seed=42\n",
        "                                                    )\n",
        "\n",
        "val_generator = datagen.flow_from_directory(directory=validation_dir,\n",
        "                                                    target_size=(img_height, img_width),\n",
        "                                                    color_mode=\"rgb\",\n",
        "                                                    batch_size=batch_size,\n",
        "                                                    class_mode=\"categorical\",\n",
        "                                                    shuffle=True,\n",
        "                                                    seed=42\n",
        "                                                    )"
      ],
      "execution_count": 33,
      "outputs": [
        {
          "output_type": "stream",
          "text": [
            "Found 7000 images belonging to 3 classes.\n",
            "Found 3000 images belonging to 3 classes.\n"
          ],
          "name": "stdout"
        }
      ]
    },
    {
      "cell_type": "code",
      "metadata": {
        "id": "ZgVssD27zr1L",
        "colab_type": "code",
        "colab": {
          "base_uri": "https://localhost:8080/",
          "height": 689
        },
        "outputId": "255c3ddb-3b7f-4e9f-91f9-2033982d3bde"
      },
      "source": [
        "history = model.fit_generator(generator = train_generator,\n",
        "                             steps_per_epoch = train_generator.n//batch_size,\n",
        "                             epochs = epochs,\n",
        "                             validation_data = val_generator,\n",
        "                             validation_steps=val_generator.n//batch_size\n",
        "                             )\n"
      ],
      "execution_count": 34,
      "outputs": [
        {
          "output_type": "stream",
          "text": [
            "Epoch 1/20\n",
            "218/218 [==============================] - 127s 582ms/step - loss: 1.0350 - accuracy: 0.5161 - val_loss: 0.9979 - val_accuracy: 0.5524\n",
            "Epoch 2/20\n",
            "218/218 [==============================] - 120s 552ms/step - loss: 0.8797 - accuracy: 0.5751 - val_loss: 0.7281 - val_accuracy: 0.5515\n",
            "Epoch 3/20\n",
            "218/218 [==============================] - 121s 555ms/step - loss: 0.8613 - accuracy: 0.5792 - val_loss: 0.9512 - val_accuracy: 0.5468\n",
            "Epoch 4/20\n",
            "218/218 [==============================] - 120s 552ms/step - loss: 0.8567 - accuracy: 0.5809 - val_loss: 1.0261 - val_accuracy: 0.5714\n",
            "Epoch 5/20\n",
            "218/218 [==============================] - 120s 552ms/step - loss: 0.8526 - accuracy: 0.5798 - val_loss: 0.9744 - val_accuracy: 0.5617\n",
            "Epoch 6/20\n",
            "218/218 [==============================] - 120s 551ms/step - loss: 0.8630 - accuracy: 0.5690 - val_loss: 0.7899 - val_accuracy: 0.5714\n",
            "Epoch 7/20\n",
            "218/218 [==============================] - 121s 553ms/step - loss: 0.8505 - accuracy: 0.5695 - val_loss: 0.7223 - val_accuracy: 0.5553\n",
            "Epoch 8/20\n",
            "218/218 [==============================] - 120s 552ms/step - loss: 0.8215 - accuracy: 0.5927 - val_loss: 0.7954 - val_accuracy: 0.5708\n",
            "Epoch 9/20\n",
            "218/218 [==============================] - 121s 553ms/step - loss: 0.8451 - accuracy: 0.5792 - val_loss: 1.1770 - val_accuracy: 0.5465\n",
            "Epoch 10/20\n",
            "218/218 [==============================] - 121s 554ms/step - loss: 0.8305 - accuracy: 0.5769 - val_loss: 0.9545 - val_accuracy: 0.5694\n",
            "Epoch 11/20\n",
            "218/218 [==============================] - 121s 553ms/step - loss: 0.8074 - accuracy: 0.5936 - val_loss: 0.8984 - val_accuracy: 0.5731\n",
            "Epoch 12/20\n",
            "218/218 [==============================] - 120s 550ms/step - loss: 0.8126 - accuracy: 0.5904 - val_loss: 0.8362 - val_accuracy: 0.5721\n",
            "Epoch 13/20\n",
            "218/218 [==============================] - 120s 551ms/step - loss: 0.8067 - accuracy: 0.5966 - val_loss: 0.8914 - val_accuracy: 0.5647\n",
            "Epoch 14/20\n",
            "218/218 [==============================] - 120s 552ms/step - loss: 0.8065 - accuracy: 0.6009 - val_loss: 0.9339 - val_accuracy: 0.5728\n",
            "Epoch 15/20\n",
            "218/218 [==============================] - 121s 554ms/step - loss: 0.8020 - accuracy: 0.5986 - val_loss: 1.0134 - val_accuracy: 0.5697\n",
            "Epoch 16/20\n",
            "218/218 [==============================] - 121s 553ms/step - loss: 0.8091 - accuracy: 0.5926 - val_loss: 0.9218 - val_accuracy: 0.5815\n",
            "Epoch 17/20\n",
            "218/218 [==============================] - 120s 552ms/step - loss: 0.8192 - accuracy: 0.5862 - val_loss: 1.0033 - val_accuracy: 0.5475\n",
            "Epoch 18/20\n",
            "218/218 [==============================] - 120s 551ms/step - loss: 0.7993 - accuracy: 0.6024 - val_loss: 0.8753 - val_accuracy: 0.5812\n",
            "Epoch 19/20\n",
            "218/218 [==============================] - 120s 552ms/step - loss: 0.7925 - accuracy: 0.6037 - val_loss: 0.9186 - val_accuracy: 0.5610\n",
            "Epoch 20/20\n",
            "218/218 [==============================] - 120s 551ms/step - loss: 0.8117 - accuracy: 0.5874 - val_loss: 0.9227 - val_accuracy: 0.5735\n"
          ],
          "name": "stdout"
        }
      ]
    },
    {
      "cell_type": "code",
      "metadata": {
        "id": "djig05C7I3XQ",
        "colab_type": "code",
        "colab": {
          "base_uri": "https://localhost:8080/",
          "height": 34
        },
        "outputId": "746f6848-1f6b-4b70-aa9d-618346359646"
      },
      "source": [
        "#save model and history\n",
        "file_model = '/content/drive/My Drive/Deep Learning Project - Image Classification/Models/'+ 'SourceLight' + 'Dropout' + modelName + '_' + str(batch_size) + '_' + str(epochs)\n",
        "model.save(file_model + '.h5')\n",
        "print(file_model)\n",
        "#save history\n",
        "file_hist = '/content/drive/My Drive/Deep Learning Project - Image Classification/History/'+ 'SourceLight' + 'Dropout' + modelName + '_' + str(batch_size) + '_' + str(epochs) + '.csv'\n",
        "df_history = pd.DataFrame(history.history)\n",
        "with open(file_hist, 'w') as file:\n",
        "    df_history.to_csv(file)"
      ],
      "execution_count": 35,
      "outputs": [
        {
          "output_type": "stream",
          "text": [
            "/content/drive/My Drive/Deep Learning Project - Image Classification/Models/SourceLightDropoutInceptionV3_32_20\n"
          ],
          "name": "stdout"
        }
      ]
    },
    {
      "cell_type": "code",
      "metadata": {
        "id": "SdpO2G_gzr1P",
        "colab_type": "code",
        "colab": {
          "base_uri": "https://localhost:8080/",
          "height": 573
        },
        "outputId": "b1d4067e-fc26-4591-f3a5-b5532649519c"
      },
      "source": [
        "#plot results\n",
        "plt.plot(history.history['accuracy'])\n",
        "plt.plot(history.history['val_accuracy'])\n",
        "plt.title('model accuracy')\n",
        "plt.ylabel('accuracy')\n",
        "plt.xlabel('epoch')\n",
        "plt.legend(['train', 'test'], loc='upper left')\n",
        "plt.show()\n",
        "\n",
        "# summarize history for loss\n",
        "plt.plot(history.history['loss'])\n",
        "plt.plot(history.history['val_loss'])\n",
        "plt.title('model loss')\n",
        "plt.ylabel('loss')\n",
        "plt.xlabel('epoch')\n",
        "plt.legend(['train', 'test'], loc='upper left')\n",
        "plt.show()"
      ],
      "execution_count": 36,
      "outputs": [
        {
          "output_type": "display_data",
          "data": {
            "image/png": "[encoded data removed]",
            "text/plain": [
              "<Figure size 432x288 with 1 Axes>"
            ]
          },
          "metadata": {
            "tags": [],
            "needs_background": "light"
          }
        },
        {
          "output_type": "display_data",
          "data": {
            "image/png": "[encoded data removed]",
            "text/plain": [
              "<Figure size 432x288 with 1 Axes>"
            ]
          },
          "metadata": {
            "tags": [],
            "needs_background": "light"
          }
        }
      ]
    },
    {
      "cell_type": "code",
      "metadata": {
        "id": "Rz3p7fcx8zhB",
        "colab_type": "code",
        "colab": {
          "base_uri": "https://localhost:8080/",
          "height": 151
        },
        "outputId": "7b46b1ab-fd5a-481a-d6ad-44b0a5a28b38"
      },
      "source": [
        "#evaluation\n",
        "# https://stackoverflow.com/questions/40564936/keras-what-is-the-difference-between-model-evaluate-generator-and-model-predict\n",
        "steps = val_generator.n // val_generator.batch_size\n",
        "\n",
        "accuracy_ontest = model.evaluate_generator(val_generator, steps)\n",
        "predictions_ontest = model.predict_generator(val_generator, steps)\n",
        "print(accuracy_ontest)\n",
        "print(predictions_ontest)"
      ],
      "execution_count": 37,
      "outputs": [
        {
          "output_type": "stream",
          "text": [
            "[0.8843996524810791, 0.5702285170555115]\n",
            "[[0.57272303 0.18682872 0.24044827]\n",
            " [0.9332937  0.03379965 0.03290672]\n",
            " [0.33088627 0.31552404 0.35358974]\n",
            " ...\n",
            " [0.3575384  0.3011969  0.34126472]\n",
            " [0.4061261  0.27339473 0.32047915]\n",
            " [0.27184367 0.3465508  0.38160554]]\n"
          ],
          "name": "stdout"
        }
      ]
    }
  ]
}