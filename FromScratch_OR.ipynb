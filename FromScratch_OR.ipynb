{
 "cells": [
  {
   "cell_type": "markdown",
   "metadata": {
    "colab_type": "text",
    "id": "view-in-github"
   },
   "source": [
    "<a href=\"https://colab.research.google.com/github/Lor3nzoVis3/DeepLearning_ProjectLV_GB/blob/master/FromScratch.ipynb\" target=\"_parent\"><img src=\"https://colab.research.google.com/assets/colab-badge.svg\" alt=\"Open In Colab\"/></a>"
   ]
  },
  {
   "cell_type": "code",
   "execution_count": 1,
   "metadata": {
    "colab": {},
    "colab_type": "code",
    "id": "2jUKpzuaOVxc"
   },
   "outputs": [
    {
     "name": "stderr",
     "output_type": "stream",
     "text": [
      "Using TensorFlow backend.\n"
     ]
    }
   ],
   "source": [
    "\"\"\"\n",
    "@authors: LorenzoVisentini and Gianmarco Bolcato\n",
    "\"\"\"\n",
    "\n",
    "modelName = \"FromScratch\"\n",
    "\n",
    "\n",
    "#import\n",
    "import os\n",
    "import numpy as np\n",
    "import pandas as pd\n",
    "import matplotlib.pyplot as plt\n",
    "\n",
    "#keras\n",
    "# import keras\n",
    "from keras.layers import Dense, Dropout, Flatten, Conv2D\n",
    "from keras.layers import BatchNormalization, MaxPooling2D, Dropout, AveragePooling2D\n",
    "from keras.models import Model, Sequential\n",
    "from keras import optimizers\n",
    "from keras.preprocessing.image  import ImageDataGenerator\n",
    "from keras.utils import plot_model"
   ]
  },
  {
   "cell_type": "code",
   "execution_count": 2,
   "metadata": {
    "colab": {
     "base_uri": "https://localhost:8080/",
     "height": 34
    },
    "colab_type": "code",
    "id": "wnhRbECxPMlP",
    "outputId": "f06f9f8c-c177-4632-db6c-b2401af2d61e"
   },
   "outputs": [],
   "source": [
    "# link with Google Drive\n",
    "# from google.colab import drive\n",
    "# drive.mount('/content/drive')"
   ]
  },
  {
   "cell_type": "code",
   "execution_count": 3,
   "metadata": {
    "colab": {},
    "colab_type": "code",
    "id": "bkt1Gm2GPO60"
   },
   "outputs": [],
   "source": [
    "#Images parameters\n",
    "img_width = 178 \n",
    "img_height = 218\n",
    "img_target_size = (img_height, img_width)\n",
    "shape = (img_height, img_width, 3)\n",
    "\n",
    "# Source Light\n",
    "# Jupyter notebook paths\n",
    "train_dir = './orient/train'\n",
    "val_dir = './orient/val' \n",
    "test_dir = './orient/test' \n",
    "\n",
    "# Google Colab paths\n",
    "# train_dir = '/content/drive/My Drive/Deep Learning Project - Image Classification/orient/train'\n",
    "# val_dir = '/content/drive/My Drive/Deep Learning Project - Image Classification/orient/val' \n",
    "# test_dir = '/content/drive/My Drive/Deep Learning Project - Image Classification/orient/test' "
   ]
  },
  {
   "cell_type": "code",
   "execution_count": 4,
   "metadata": {},
   "outputs": [],
   "source": [
    "n_classes = 3\n",
    "\n",
    "# Hyperparameters\n",
    "batch_size = 32\n",
    "epochs = 10\n",
    "conv_depth = 8\n",
    "drop_rate = 0.8\n",
    "lr = 0.001\n",
    "\n",
    "# Give a model a unique name\n",
    "# file_model = '/content/drive/My Drive/Deep Learning Project - Image Classification/Models/'+ modelName + 'OR' + '_Bs' + str(batch_size) + '_Ep' + str(epochs) + '_Dr' + str(drop_rate) + '_Lr' + str(lr)\n",
    "file_model = modelName + 'OR' + '_Bs' + str(batch_size) + '_Ep' + str(epochs) + '_Dr' + str(drop_rate) + '_ConvD' + str(conv_depth) +'_Lr' + str(lr)"
   ]
  },
  {
   "cell_type": "code",
   "execution_count": 5,
   "metadata": {
    "colab": {},
    "colab_type": "code",
    "id": "F9PWfuatPRrf"
   },
   "outputs": [
    {
     "name": "stdout",
     "output_type": "stream",
     "text": [
      "WARNING:tensorflow:Large dropout rate: 0.8 (>0.5). In TensorFlow 2.x, dropout() uses dropout rate instead of keep_prob. Please ensure that this is intended.\n"
     ]
    }
   ],
   "source": [
    "#model\n",
    "model = Sequential()\n",
    "\n",
    "model.add(Conv2D(conv_depth, kernel_size = (3,3), activation= 'relu', input_shape = shape))\n",
    "model.add(Conv2D(conv_depth, kernel_size = (3,3), activation= 'relu'))\n",
    "model.add(BatchNormalization())\n",
    "model.add(AveragePooling2D(pool_size=(2,2)))\n",
    "model.add(Dropout(drop_rate//3))\n",
    "# model.add(Dropout(drop_rate))\n",
    "\n",
    "model.add(Conv2D(conv_depth, kernel_size = (3,3), activation= 'relu'))\n",
    "model.add(Conv2D(conv_depth, kernel_size = (3,3), activation= 'relu'))\n",
    "model.add(BatchNormalization())\n",
    "model.add(AveragePooling2D(pool_size=(2,2)))\n",
    "model.add(Dropout(drop_rate//3))\n",
    "# model.add(Dropout(drop_rate))\n",
    "\n",
    "model.add(Conv2D(conv_depth*2, kernel_size = (3,3), activation= 'relu'))\n",
    "model.add(Conv2D(conv_depth*2, kernel_size = (3,3), activation= 'relu'))\n",
    "model.add(BatchNormalization())\n",
    "model.add(AveragePooling2D(pool_size=(2,2)))\n",
    "model.add(Dropout(drop_rate//3))\n",
    "# model.add(Dropout(drop_rate))\n",
    "\n",
    "model.add(Conv2D(conv_depth*2, kernel_size = (3,3), activation= 'relu'))\n",
    "model.add(Conv2D(conv_depth*2, kernel_size = (3,3), activation= 'relu'))\n",
    "model.add(BatchNormalization())\n",
    "model.add(AveragePooling2D(pool_size=(2,2)))\n",
    "model.add(Dropout(drop_rate//3))\n",
    "# # model.add(Dropout(drop_rate))\n",
    "\n",
    "\n",
    "model.add(Flatten())\n",
    "model.add(Dense(512, activation= 'relu'))\n",
    "model.add(BatchNormalization())\n",
    "model.add(Dropout(drop_rate))\n",
    "model.add(Dense(n_classes, activation= 'softmax'))\n",
    "\n",
    "# custom optimizer\n",
    "opt = optimizers.Adam(learning_rate=lr)\n",
    "\n",
    "model.compile(optimizer = opt,\n",
    "              loss = 'categorical_crossentropy',  #because we have 3 possible outputs\n",
    "              metrics = ['accuracy'])"
   ]
  },
  {
   "cell_type": "code",
   "execution_count": null,
   "metadata": {},
   "outputs": [],
   "source": [
    "# plot model tree\n",
    "tree_path = './ModelTrees/'\n",
    "if os.path.exists(tree_path) == False:\n",
    "    os.makedirs(tree_path)\n",
    "else: \n",
    "    print('Folder Plots already exists')\n",
    "plot_model(model, to_file=f\"{tree_path}/{file_model}.png\", show_layer_names=True, show_shapes=True)"
   ]
  },
  {
   "cell_type": "code",
   "execution_count": 6,
   "metadata": {
    "colab": {
     "base_uri": "https://localhost:8080/",
     "height": 50
    },
    "colab_type": "code",
    "id": "widg6uNKPa5g",
    "outputId": "c983ddd2-c901-4d07-a9fe-227106d02986"
   },
   "outputs": [
    {
     "name": "stdout",
     "output_type": "stream",
     "text": [
      "Found 7135 images belonging to 3 classes.\n",
      "Found 1529 images belonging to 3 classes.\n",
      "Found 1530 images belonging to 3 classes.\n"
     ]
    }
   ],
   "source": [
    "# preprocessing\n",
    "# https://machinelearningmastery.com/how-to-configure-image-data-augmentation-when-training-deep-learning-neural-networks/\n",
    "# https://www.pyimagesearch.com/2019/07/08/keras-imagedatagenerator-and-data-augmentation/\n",
    "\n",
    "# train_gen = ImageDataGenerator(width_shift_range=[0,0.25],\n",
    "#                             height_shift_range=[0,0.25],\n",
    "#                             zoom_range=[0.75,1.0],\n",
    "#                             fill_mode=\"nearest\")\n",
    "train_gen = ImageDataGenerator()\n",
    "\n",
    "# Set aug variable to save if the model used data augmentation or not\n",
    "aug = False\n",
    "if aug == True:\n",
    "    modelName = modelName+'Aug'\n",
    "\n",
    "test_gen = ImageDataGenerator()\n",
    "\n",
    "train_generator = train_gen.flow_from_directory(directory=train_dir,\n",
    "                                                    target_size=img_target_size,\n",
    "                                                    color_mode=\"rgb\",\n",
    "                                                    batch_size=batch_size,\n",
    "                                                    class_mode=\"categorical\",\n",
    "                                                    shuffle=True,\n",
    "                                                    seed=42\n",
    "                                                    )\n",
    "\n",
    "val_generator = test_gen.flow_from_directory(directory=val_dir,\n",
    "                                                    target_size=img_target_size,\n",
    "                                                    color_mode=\"rgb\",\n",
    "                                                    batch_size=batch_size,\n",
    "                                                    class_mode=\"categorical\",\n",
    "                                                    shuffle=True,\n",
    "                                                    seed=42\n",
    "                                                    )\n",
    "\n",
    "test_generator = test_gen.flow_from_directory(directory = test_dir,\n",
    "                                                    target_size = img_target_size,\n",
    "                                                    color_mode=\"rgb\",\n",
    "                                                    batch_size = batch_size,\n",
    "                                                    class_mode = \"categorical\",\n",
    "                                                    shuffle=True,\n",
    "                                                    seed=42\n",
    "                                                )"
   ]
  },
  {
   "cell_type": "code",
   "execution_count": 7,
   "metadata": {
    "colab": {
     "base_uri": "https://localhost:8080/",
     "height": 353
    },
    "colab_type": "code",
    "id": "IVNt2_-ydsSZ",
    "outputId": "27ccaa46-6c62-4f6c-a8fe-10427c07aa43"
   },
   "outputs": [
    {
     "name": "stdout",
     "output_type": "stream",
     "text": [
      "Epoch 1/10\n",
      "222/222 [==============================] - 15s 66ms/step - loss: 1.1848 - accuracy: 0.6668 - val_loss: 0.5197 - val_accuracy: 0.7746\n",
      "Epoch 2/10\n",
      "222/222 [==============================] - 10s 46ms/step - loss: 0.5835 - accuracy: 0.8035 - val_loss: 0.3142 - val_accuracy: 0.8437\n",
      "Epoch 3/10\n",
      "222/222 [==============================] - 10s 46ms/step - loss: 0.4850 - accuracy: 0.8228 - val_loss: 0.3501 - val_accuracy: 0.8417\n",
      "Epoch 4/10\n",
      "222/222 [==============================] - 10s 45ms/step - loss: 0.4260 - accuracy: 0.8389 - val_loss: 0.4806 - val_accuracy: 0.8577\n",
      "Epoch 5/10\n",
      "222/222 [==============================] - 10s 45ms/step - loss: 0.3961 - accuracy: 0.8481 - val_loss: 0.5868 - val_accuracy: 0.8497\n",
      "Epoch 6/10\n",
      "222/222 [==============================] - 10s 46ms/step - loss: 0.3807 - accuracy: 0.8570 - val_loss: 0.5637 - val_accuracy: 0.8544\n",
      "Epoch 7/10\n",
      "222/222 [==============================] - 10s 46ms/step - loss: 0.3681 - accuracy: 0.8603 - val_loss: 0.4895 - val_accuracy: 0.8564\n",
      "Epoch 8/10\n",
      "222/222 [==============================] - 10s 45ms/step - loss: 0.3623 - accuracy: 0.8629 - val_loss: 0.1789 - val_accuracy: 0.8550\n",
      "Epoch 9/10\n",
      "222/222 [==============================] - 10s 45ms/step - loss: 0.3541 - accuracy: 0.8619 - val_loss: 0.7488 - val_accuracy: 0.8090\n",
      "Epoch 10/10\n",
      "222/222 [==============================] - 10s 46ms/step - loss: 0.3532 - accuracy: 0.8646 - val_loss: 0.3330 - val_accuracy: 0.8570\n"
     ]
    }
   ],
   "source": [
    "history = model.fit_generator(generator = train_generator,\n",
    "                             steps_per_epoch = train_generator.n//batch_size,\n",
    "                             epochs = epochs,\n",
    "                             validation_data = val_generator,\n",
    "                             validation_steps=val_generator.n//batch_size\n",
    "                             )"
   ]
  },
  {
   "cell_type": "code",
   "execution_count": 10,
   "metadata": {
    "colab": {
     "base_uri": "https://localhost:8080/",
     "height": 34
    },
    "colab_type": "code",
    "id": "J5zMfS8TeRcN",
    "outputId": "d34aef99-f78c-4b2f-aa4f-74d906ca2e2f"
   },
   "outputs": [
    {
     "name": "stdout",
     "output_type": "stream",
     "text": [
      "Folder Models already exists\n",
      "FromScratchOR_Bs32_Ep10_Dr0.8_ConvD8_Lr0.001\n",
      "Folder History already exists\n",
      "./History/FromScratchOR_Bs32_Ep10_Dr0.8_ConvD8_Lr0.001.csv\n"
     ]
    }
   ],
   "source": [
    "# consider highlight the different values of hyperparameters used\n",
    "# OR orient o SL source light, Bs batch size, Ep epochs, Dr drop rate, Lr learning rate\n",
    "# CHECK ALWAYS BOOLEAN PATCH VALUES (on top)\n",
    "\n",
    "# create models folder if doesn't exist\n",
    "path_models = './Models/'\n",
    "if os.path.exists(path_models) == False:\n",
    "    os.makedirs(path_models)\n",
    "else: \n",
    "    print('Folder Models already exists')\n",
    "    \n",
    "# save model\n",
    "model.save(path_models + file_model + '.h5')\n",
    "print(file_model)\n",
    "\n",
    "#save history\n",
    "# create models folder if doesn't exist\n",
    "path_history = './History/'\n",
    "if os.path.exists(path_history) == False:\n",
    "    os.makedirs(path_history)\n",
    "else: \n",
    "    print('Folder History already exists')\n",
    "file_hist = path_history + file_model + '.csv'\n",
    "df_history = pd.DataFrame(history.history)\n",
    "with open(file_hist, 'w') as file:\n",
    "    df_history.to_csv(file)\n",
    "print(file_hist)"
   ]
  },
  {
   "cell_type": "code",
   "execution_count": 11,
   "metadata": {
    "colab": {
     "base_uri": "https://localhost:8080/",
     "height": 573
    },
    "colab_type": "code",
    "id": "0Iq2k-jpeTmf",
    "outputId": "cdafc51c-bb2e-4868-9995-4b0ed6d170ff"
   },
   "outputs": [
    {
     "data": {
      "image/png": "[encoded data removed]",
      "text/plain": [
       "<Figure size 432x288 with 1 Axes>"
      ]
     },
     "metadata": {
      "needs_background": "light"
     },
     "output_type": "display_data"
    },
    {
     "data": {
      "image/png": "[encoded data removed]",
      "text/plain": [
       "<Figure size 432x288 with 1 Axes>"
      ]
     },
     "metadata": {
      "needs_background": "light"
     },
     "output_type": "display_data"
    }
   ],
   "source": [
    "# Plot path\n",
    "plot_path = './Plots/'\n",
    "if os.path.exists(plot_path) == False:\n",
    "    os.makedirs(plot_path)\n",
    "else: \n",
    "    print('Folder Plots already exists')\n",
    "plot_file = plot_path + file_model + '.png'\n",
    "\n",
    "#plot results\n",
    "plt.plot(history.history['accuracy'])\n",
    "plt.plot(history.history['val_accuracy'])\n",
    "plt.title('model accuracy')\n",
    "plt.ylabel('accuracy')\n",
    "plt.xlabel('epoch')\n",
    "plt.legend(['train', 'val'], loc='upper left')\n",
    "plt.show()\n",
    "\n",
    "# summarize history for loss\n",
    "plt.plot(history.history['loss'])\n",
    "plt.plot(history.history['val_loss'])\n",
    "plt.title('model loss')\n",
    "plt.ylabel('loss')\n",
    "plt.xlabel('epoch')\n",
    "plt.legend(['train', 'val'], loc='upper left')\n",
    "plt.show()\n",
    "\n",
    "plt.savefig(plot_file)"
   ]
  },
  {
   "cell_type": "code",
   "execution_count": 12,
   "metadata": {
    "colab": {
     "base_uri": "https://localhost:8080/",
     "height": 151
    },
    "colab_type": "code",
    "id": "uAVuWVxIeWTA",
    "outputId": "c39731a4-099a-4fbb-8435-6c0b7f748dbf"
   },
   "outputs": [
    {
     "name": "stdout",
     "output_type": "stream",
     "text": [
      "[0.17903482913970947, 0.8756648898124695]\n"
     ]
    }
   ],
   "source": [
    "#evaluation\n",
    "# https://stackoverflow.com/questions/40564936/keras-what-is-the-difference-between-model-evaluate-generator-and-model-predict\n",
    "steps = test_generator.n // test_generator.batch_size\n",
    "accuracy_ontest = model.evaluate_generator(test_generator, steps)\n",
    "print(accuracy_ontest)"
   ]
  },
  {
   "cell_type": "code",
   "execution_count": null,
   "metadata": {},
   "outputs": [],
   "source": []
  }
 ],
 "metadata": {
  "accelerator": "GPU",
  "colab": {
   "authorship_tag": "ABX9TyPtQ7KXkTkZS5Vu7zwR5p5Y",
   "include_colab_link": true,
   "name": "FromScratch.ipynb",
   "provenance": []
  },
  "kernelspec": {
   "display_name": "Python 3",
   "language": "python",
   "name": "python3"
  },
  "language_info": {
   "codemirror_mode": {
    "name": "ipython",
    "version": 3
   },
   "file_extension": ".py",
   "mimetype": "text/x-python",
   "name": "python",
   "nbconvert_exporter": "python",
   "pygments_lexer": "ipython3",
   "version": "3.7.3"
  }
 },
 "nbformat": 4,
 "nbformat_minor": 1
}
