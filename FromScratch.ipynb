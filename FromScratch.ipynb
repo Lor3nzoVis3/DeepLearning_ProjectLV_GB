{
  "nbformat": 4,
  "nbformat_minor": 0,
  "metadata": {
    "colab": {
      "name": "FromScratch.ipynb",
      "provenance": [],
      "authorship_tag": "ABX9TyOL2Uu6hkf2bp30BE9r4Z9p",
      "include_colab_link": true
    },
    "kernelspec": {
      "name": "python3",
      "display_name": "Python 3"
    }
  },
  "cells": [
    {
      "cell_type": "markdown",
      "metadata": {
        "id": "view-in-github",
        "colab_type": "text"
      },
      "source": [
        "<a href=\"https://colab.research.google.com/github/Lor3nzoVis3/DeepLearning_ProjectLV_GB/blob/master/FromScratch.ipynb\" target=\"_parent\"><img src=\"https://colab.research.google.com/assets/colab-badge.svg\" alt=\"Open In Colab\"/></a>"
      ]
    },
    {
      "cell_type": "code",
      "metadata": {
        "id": "2jUKpzuaOVxc",
        "colab_type": "code",
        "colab": {}
      },
      "source": [
        "\"\"\"\n",
        "@author: LorenzoVisentini\n",
        "\"\"\"\n",
        "model = \"FromScratch\"\n",
        "\n",
        "#import\n",
        "import numpy as np\n",
        "import pandas as pd\n",
        "import matplotlib.pyplot as plt\n",
        "\n",
        "from sklearn.model_selection import train_test_split\n",
        "#keras\n",
        "# import keras\n",
        "from keras.layers import Dense, Dropout, Flatten, GlobalAveragePooling2D\n",
        "from keras.models import Model, Sequential\n",
        "from keras import optimizers"
      ],
      "execution_count": null,
      "outputs": []
    },
    {
      "cell_type": "code",
      "metadata": {
        "id": "wnhRbECxPMlP",
        "colab_type": "code",
        "colab": {}
      },
      "source": [
        "from google.colab import drive\n",
        "drive.mount('/content/drive')"
      ],
      "execution_count": null,
      "outputs": []
    },
    {
      "cell_type": "code",
      "metadata": {
        "id": "bkt1Gm2GPO60",
        "colab_type": "code",
        "colab": {}
      },
      "source": [
        "#Images parameters\n",
        "img_width = 178 \n",
        "img_height = 218\n",
        "\n",
        "# train_dir = './source_light/training'\n",
        "# validation_dir = './source_light/validation' \n",
        "train_dir = '/content/drive/My Drive/Deep Learning Project - Image Classification/orient/train'\n",
        "validation_dir = '/content/drive/My Drive/Deep Learning Project - Image Classification/orient/valid' \n",
        "\n",
        "batch_size = 64\n",
        "epochs = 10"
      ],
      "execution_count": null,
      "outputs": []
    },
    {
      "cell_type": "code",
      "metadata": {
        "id": "F9PWfuatPRrf",
        "colab_type": "code",
        "colab": {}
      },
      "source": [
        "#model\n",
        "model = Sequential()\n",
        "\n",
        "model.add(Conv2D(8), kernel_size = (3,3), activation= 'relu')\n",
        "model.add(Conv2D(8), kernel_size = (3,3), activation= 'relu')\n",
        "model.add(BatchNormalization())\n",
        "model.add(MaxPooling2D(pool_size=(2,2),strides = 1))\n",
        "model.add(Dropout(0.5))\n",
        "\n",
        "model.add(Conv2D(8), kernel_size = (5,5), activation= 'relu')\n",
        "model.add(Conv2D(8), kernel_size = (5,5), activation= 'relu')\n",
        "model.add(BatchNormalization())\n",
        "model.add(MaxPooling2D(pool_size=(2,2),strides = 2))\n",
        "model.add(Dropout(0.5))\n",
        "\n",
        "model.add(Conv2D(16), kernel_size = (5,5), activation= 'relu')\n",
        "model.add(Conv2D(16), kernel_size = (5,5), activation= 'relu')\n",
        "model.add(BatchNormalization())\n",
        "model.add(MaxPooling2D(pool_size=(2,2),strides = 2))\n",
        "model.add(Dropout(0.5))\n",
        "\n",
        "model.add(Conv2D(16), kernel_size = (5,5), activation= 'relu')\n",
        "model.add(Conv2D(16), kernel_size = (5,5), activation= 'relu')\n",
        "model.add(BatchNormalization())\n",
        "model.add(MaxPooling2D(pool_size=(2,2),strides = 2))\n",
        "model.add(Dropout(0.5))\n",
        "\n",
        "model.add(Flatten())\n",
        "model.add(Dense(512, activation= 'relu'))\n",
        "model.add(Dense(512, activation= 'relu'))\n",
        "model.add(BatchNormalization())\n",
        "model.add(Dense(3), activation= 'softmax')"
      ],
      "execution_count": null,
      "outputs": []
    },
    {
      "cell_type": "code",
      "metadata": {
        "id": "rx-a3axJdimW",
        "colab_type": "code",
        "colab": {}
      },
      "source": [
        "model.compile(optimizer = 'Adam',\n",
        "              loss = 'categorical_crossentropy',  #because we have 3 possible outputs\n",
        "              metrics = ['accuracy'])"
      ],
      "execution_count": null,
      "outputs": []
    },
    {
      "cell_type": "code",
      "metadata": {
        "id": "widg6uNKPa5g",
        "colab_type": "code",
        "colab": {}
      },
      "source": [
        "#preprocessing\n",
        "datagen = ImageDataGenerator(preprocessing_function = preprocess_input)\n",
        "train_generator = datagen.flow_from_directory(directory=train_dir,\n",
        "                                                    target_size=(img_height, img_width),\n",
        "                                                    color_mode=\"rgb\",\n",
        "                                                    batch_size=batch_size,\n",
        "                                                    class_mode=\"categorical\",\n",
        "                                                    shuffle=True,\n",
        "                                                    seed=42\n",
        "                                                    )\n",
        "\n",
        "val_generator = datagen.flow_from_directory(directory=validation_dir,\n",
        "                                                    target_size=(img_height, img_width),\n",
        "                                                    color_mode=\"rgb\",\n",
        "                                                    batch_size=batch_size,\n",
        "                                                    class_mode=\"categorical\",\n",
        "                                                    shuffle=True,\n",
        "                                                    seed=42\n",
        "                                                    )"
      ],
      "execution_count": null,
      "outputs": []
    },
    {
      "cell_type": "code",
      "metadata": {
        "id": "IVNt2_-ydsSZ",
        "colab_type": "code",
        "colab": {}
      },
      "source": [
        "history = model.fit_generator(generator = train_generator,\n",
        "                             steps_per_epoch = train_generator.n//batch_size,\n",
        "                             epochs = epochs,\n",
        "                             validation_data = val_generator,\n",
        "                             validation_steps=val_generator.n//batch_size\n",
        "                             )"
      ],
      "execution_count": null,
      "outputs": []
    },
    {
      "cell_type": "code",
      "metadata": {
        "id": "J5zMfS8TeRcN",
        "colab_type": "code",
        "colab": {}
      },
      "source": [
        "#save model and history\n",
        "file_model = '/content/drive/My Drive/Deep Learning Project - Image Classification/Models/'+ 'SourceLight' + modelName + '_' + str(batch_size) + '_' + str(epochs)\n",
        "model.save(file_model + '.h5')\n",
        "print(file_model)\n",
        "#save history\n",
        "file_hist = '/content/drive/My Drive/Deep Learning Project - Image Classification/History/'+ 'SourceLight' + modelName + '_' + str(batch_size) + '_' + str(epochs) + '.csv'\n",
        "df_history = pd.DataFrame(history.history)\n",
        "with open(file_hist, 'w') as file:\n",
        "    df_history.to_csv(file)"
      ],
      "execution_count": null,
      "outputs": []
    },
    {
      "cell_type": "code",
      "metadata": {
        "id": "0Iq2k-jpeTmf",
        "colab_type": "code",
        "colab": {}
      },
      "source": [
        "#plot results\n",
        "plt.plot(history.history['accuracy'])\n",
        "plt.plot(history.history['val_accuracy'])\n",
        "plt.title('model accuracy')\n",
        "plt.ylabel('accuracy')\n",
        "plt.xlabel('epoch')\n",
        "plt.legend(['train', 'test'], loc='upper left')\n",
        "plt.show()\n",
        "\n",
        "# summarize history for loss\n",
        "plt.plot(history.history['loss'])\n",
        "plt.plot(history.history['val_loss'])\n",
        "plt.title('model loss')\n",
        "plt.ylabel('loss')\n",
        "plt.xlabel('epoch')\n",
        "plt.legend(['train', 'test'], loc='upper left')\n",
        "plt.show()"
      ],
      "execution_count": null,
      "outputs": []
    },
    {
      "cell_type": "code",
      "metadata": {
        "id": "uAVuWVxIeWTA",
        "colab_type": "code",
        "colab": {}
      },
      "source": [
        "#evaluation\n",
        "# https://stackoverflow.com/questions/40564936/keras-what-is-the-difference-between-model-evaluate-generator-and-model-predict\n",
        "steps = val_generator.n // val_generator.batch_size\n",
        "\n",
        "accuracy_ontest = model.evaluate_generator(val_generator, steps)\n",
        "predictions_ontest = model.predict_generator(val_generator, steps)\n",
        "print(accuracy_ontest)\n",
        "print(predictions_ontest)"
      ],
      "execution_count": null,
      "outputs": []
    }
  ]
}