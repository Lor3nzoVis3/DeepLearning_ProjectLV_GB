{
  "nbformat": 4,
  "nbformat_minor": 0,
  "metadata": {
    "colab": {
      "name": "FromScratch.ipynb",
      "provenance": [],
      "authorship_tag": "ABX9TyMstrfgEO8P9eUaIDe3mbnt",
      "include_colab_link": true
    },
    "kernelspec": {
      "name": "python3",
      "display_name": "Python 3"
    },
    "accelerator": "GPU"
  },
  "cells": [
    {
      "cell_type": "markdown",
      "metadata": {
        "id": "view-in-github",
        "colab_type": "text"
      },
      "source": [
        "<a href=\"https://colab.research.google.com/github/Lor3nzoVis3/DeepLearning_ProjectLV_GB/blob/master/FromScratch.ipynb\" target=\"_parent\"><img src=\"https://colab.research.google.com/assets/colab-badge.svg\" alt=\"Open In Colab\"/></a>"
      ]
    },
    {
      "cell_type": "code",
      "metadata": {
        "id": "2jUKpzuaOVxc",
        "colab_type": "code",
        "colab": {}
      },
      "source": [
        "\"\"\"\n",
        "@author: LorenzoVisentini\n",
        "\"\"\"\n",
        "modelName = \"FromScratch\"\n",
        "\n",
        "\n",
        "#import\n",
        "import numpy as np\n",
        "import pandas as pd\n",
        "import matplotlib.pyplot as plt\n",
        "\n",
        "from keras.preprocessing.image  import ImageDataGenerator\n",
        "\n",
        "# from sklearn.model_selection import train_test_split\n",
        "#keras\n",
        "# import keras\n",
        "from keras.layers import Dense, Dropout, Flatten, Conv2D\n",
        "from keras.layers import BatchNormalization, MaxPooling2D, Dropout\n",
        "from keras.models import Model, Sequential\n",
        "from keras import optimizers"
      ],
      "execution_count": null,
      "outputs": []
    },
    {
      "cell_type": "code",
      "metadata": {
        "id": "wnhRbECxPMlP",
        "colab_type": "code",
        "colab": {
          "base_uri": "https://localhost:8080/",
          "height": 34
        },
        "outputId": "f06f9f8c-c177-4632-db6c-b2401af2d61e"
      },
      "source": [
        "from google.colab import drive\n",
        "drive.mount('/content/drive')"
      ],
      "execution_count": null,
      "outputs": [
        {
          "output_type": "stream",
          "text": [
            "Drive already mounted at /content/drive; to attempt to forcibly remount, call drive.mount(\"/content/drive\", force_remount=True).\n"
          ],
          "name": "stdout"
        }
      ]
    },
    {
      "cell_type": "code",
      "metadata": {
        "id": "bkt1Gm2GPO60",
        "colab_type": "code",
        "colab": {}
      },
      "source": [
        "#Images parameters\n",
        "img_width = 178 \n",
        "img_height = 218\n",
        "shape = (img_height, img_width)\n",
        "\n",
        "# train_dir = './source_light/training'\n",
        "# validation_dir = './source_light/validation' \n",
        "train_dir = '/content/drive/My Drive/Deep Learning Project - Image Classification/orient/train'\n",
        "validation_dir = '/content/drive/My Drive/Deep Learning Project - Image Classification/orient/valid' \n",
        "\n",
        "batch_size = 64\n",
        "epochs = 10\n",
        "convDepth = 16\n",
        "dropRate = 0.7"
      ],
      "execution_count": null,
      "outputs": []
    },
    {
      "cell_type": "code",
      "metadata": {
        "id": "F9PWfuatPRrf",
        "colab_type": "code",
        "colab": {}
      },
      "source": [
        "#model\n",
        "model = Sequential()\n",
        "\n",
        "model.add(Conv2D(convDepth, kernel_size = (3,3), activation= 'relu', input_shape=shape))\n",
        "model.add(Conv2D(convDepth, kernel_size = (3,3), activation= 'relu'))\n",
        "model.add(BatchNormalization())\n",
        "model.add(MaxPooling2D(pool_size=(2,2),strides = 2))\n",
        "model.add(Dropout(dropRate))\n",
        "\n",
        "model.add(Conv2D(convDepth, kernel_size = (3,3), activation= 'relu'))\n",
        "model.add(Conv2D(convDepth, kernel_size = (3,3), activation= 'relu'))\n",
        "model.add(BatchNormalization())\n",
        "model.add(MaxPooling2D(pool_size=(2,2),strides = 2))\n",
        "model.add(Dropout(dropRate))\n",
        "\n",
        "model.add(Conv2D(convDepth*2, kernel_size = (5,5), activation= 'relu'))\n",
        "model.add(Conv2D(convDepth*2, kernel_size = (5,5), activation= 'relu'))\n",
        "model.add(BatchNormalization())\n",
        "model.add(MaxPooling2D(pool_size=(2,2),strides = 2))\n",
        "model.add(Dropout(dropRate))\n",
        "\n",
        "model.add(Conv2D(convDepth*2, kernel_size = (5,5), activation= 'relu'))\n",
        "model.add(Conv2D(convDepth*2, kernel_size = (5,5), activation= 'relu'))\n",
        "model.add(BatchNormalization())\n",
        "model.add(MaxPooling2D(pool_size=(2,2),strides = 2))\n",
        "model.add(Dropout(dropRate))\n",
        "\n",
        "model.add(Flatten())\n",
        "model.add(Dense(512, activation= 'relu'))\n",
        "model.add(Dense(512, activation= 'relu'))\n",
        "model.add(BatchNormalization())\n",
        "model.add(Dense(3, activation= 'softmax'))"
      ],
      "execution_count": null,
      "outputs": []
    },
    {
      "cell_type": "code",
      "metadata": {
        "id": "rx-a3axJdimW",
        "colab_type": "code",
        "colab": {}
      },
      "source": [
        "model.compile(optimizer = 'Adam',\n",
        "              loss = 'categorical_crossentropy',  #because we have 3 possible outputs\n",
        "              metrics = ['accuracy'])"
      ],
      "execution_count": null,
      "outputs": []
    },
    {
      "cell_type": "code",
      "metadata": {
        "id": "widg6uNKPa5g",
        "colab_type": "code",
        "colab": {
          "base_uri": "https://localhost:8080/",
          "height": 50
        },
        "outputId": "c983ddd2-c901-4d07-a9fe-227106d02986"
      },
      "source": [
        "#preprocessing\n",
        "datagen = ImageDataGenerator()\n",
        "train_generator = datagen.flow_from_directory(directory=train_dir,\n",
        "                                                    target_size=(img_height, img_width),\n",
        "                                                    color_mode=\"rgb\",\n",
        "                                                    batch_size=batch_size,\n",
        "                                                    class_mode=\"categorical\",\n",
        "                                                    shuffle=True,\n",
        "                                                    seed=42\n",
        "                                                    )\n",
        "\n",
        "val_generator = datagen.flow_from_directory(directory=validation_dir,\n",
        "                                                    target_size=(img_height, img_width),\n",
        "                                                    color_mode=\"rgb\",\n",
        "                                                    batch_size=batch_size,\n",
        "                                                    class_mode=\"categorical\",\n",
        "                                                    shuffle=True,\n",
        "                                                    seed=42\n",
        "                                                    )"
      ],
      "execution_count": null,
      "outputs": [
        {
          "output_type": "stream",
          "text": [
            "Found 8383 images belonging to 3 classes.\n",
            "Found 1811 images belonging to 3 classes.\n"
          ],
          "name": "stdout"
        }
      ]
    },
    {
      "cell_type": "code",
      "metadata": {
        "id": "IVNt2_-ydsSZ",
        "colab_type": "code",
        "colab": {
          "base_uri": "https://localhost:8080/",
          "height": 353
        },
        "outputId": "27ccaa46-6c62-4f6c-a8fe-10427c07aa43"
      },
      "source": [
        "history = model.fit_generator(generator = train_generator,\n",
        "                             steps_per_epoch = train_generator.n//batch_size,\n",
        "                             epochs = epochs,\n",
        "                             validation_data = val_generator,\n",
        "                             validation_steps=val_generator.n//batch_size\n",
        "                             )"
      ],
      "execution_count": null,
      "outputs": [
        {
          "output_type": "stream",
          "text": [
            "Epoch 1/10\n",
            "130/130 [==============================] - 27s 211ms/step - loss: 0.9905 - accuracy: 0.5792 - val_loss: 0.9201 - val_accuracy: 0.6055\n",
            "Epoch 2/10\n",
            "130/130 [==============================] - 27s 207ms/step - loss: 0.5556 - accuracy: 0.7787 - val_loss: 0.8464 - val_accuracy: 0.6261\n",
            "Epoch 3/10\n",
            "130/130 [==============================] - 27s 210ms/step - loss: 0.4779 - accuracy: 0.8084 - val_loss: 0.5965 - val_accuracy: 0.7232\n",
            "Epoch 4/10\n",
            "130/130 [==============================] - 27s 208ms/step - loss: 0.4219 - accuracy: 0.8299 - val_loss: 0.5085 - val_accuracy: 0.8019\n",
            "Epoch 5/10\n",
            "130/130 [==============================] - 27s 207ms/step - loss: 0.4049 - accuracy: 0.8383 - val_loss: 0.5686 - val_accuracy: 0.7595\n",
            "Epoch 6/10\n",
            "130/130 [==============================] - 27s 207ms/step - loss: 0.3988 - accuracy: 0.8365 - val_loss: 0.6055 - val_accuracy: 0.7679\n",
            "Epoch 7/10\n",
            "130/130 [==============================] - 27s 208ms/step - loss: 0.3896 - accuracy: 0.8458 - val_loss: 0.4606 - val_accuracy: 0.8047\n",
            "Epoch 8/10\n",
            "130/130 [==============================] - 27s 206ms/step - loss: 0.3731 - accuracy: 0.8471 - val_loss: 0.4887 - val_accuracy: 0.8030\n",
            "Epoch 9/10\n",
            "130/130 [==============================] - 28s 214ms/step - loss: 0.3677 - accuracy: 0.8509 - val_loss: 0.5241 - val_accuracy: 0.8214\n",
            "Epoch 10/10\n",
            "130/130 [==============================] - 27s 208ms/step - loss: 0.3762 - accuracy: 0.8471 - val_loss: 0.4773 - val_accuracy: 0.7930\n"
          ],
          "name": "stdout"
        }
      ]
    },
    {
      "cell_type": "code",
      "metadata": {
        "id": "J5zMfS8TeRcN",
        "colab_type": "code",
        "colab": {
          "base_uri": "https://localhost:8080/",
          "height": 34
        },
        "outputId": "d34aef99-f78c-4b2f-aa4f-74d906ca2e2f"
      },
      "source": [
        "#save model and history\n",
        "file_model = '/content/drive/My Drive/Deep Learning Project - Image Classification/Models/'+ 'FaceOrientation' + modelName + '_Dropout'+ str(dropRate) + '_' + str(batch_size) + '_' + str(epochs) + '_' + str(convDepth)\n",
        "model.save(file_model + '.h5')\n",
        "print(file_model)\n",
        "#save history\n",
        "file_hist = '/content/drive/My Drive/Deep Learning Project - Image Classification/History/'+ 'FaceOrientation' + modelName + '_Dropout'+ str(dropRate) + '_' + str(batch_size) + str(epochs) + '_' + str(convDepth) + '.csv'\n",
        "df_history = pd.DataFrame(history.history)\n",
        "with open(file_hist, 'w') as file:\n",
        "    df_history.to_csv(file)"
      ],
      "execution_count": null,
      "outputs": [
        {
          "output_type": "stream",
          "text": [
            "/content/drive/My Drive/Deep Learning Project - Image Classification/Models/FaceOrientationFromScratch_Dropout0.7_64_10_16\n"
          ],
          "name": "stdout"
        }
      ]
    },
    {
      "cell_type": "code",
      "metadata": {
        "id": "0Iq2k-jpeTmf",
        "colab_type": "code",
        "colab": {
          "base_uri": "https://localhost:8080/",
          "height": 573
        },
        "outputId": "cdafc51c-bb2e-4868-9995-4b0ed6d170ff"
      },
      "source": [
        "#plot results\n",
        "plt.plot(history.history['accuracy'])\n",
        "plt.plot(history.history['val_accuracy'])\n",
        "plt.title('model accuracy')\n",
        "plt.ylabel('accuracy')\n",
        "plt.xlabel('epoch')\n",
        "plt.legend(['train', 'test'], loc='upper left')\n",
        "plt.show()\n",
        "\n",
        "# summarize history for loss\n",
        "plt.plot(history.history['loss'])\n",
        "plt.plot(history.history['val_loss'])\n",
        "plt.title('model loss')\n",
        "plt.ylabel('loss')\n",
        "plt.xlabel('epoch')\n",
        "plt.legend(['train', 'test'], loc='upper left')\n",
        "plt.show()"
      ],
      "execution_count": null,
      "outputs": [
        {
          "output_type": "display_data",
          "data": {
            "image/png": "[encoded data removed]",
            "text/plain": [
              "<Figure size 432x288 with 1 Axes>"
            ]
          },
          "metadata": {
            "tags": [],
            "needs_background": "light"
          }
        },
        {
          "output_type": "display_data",
          "data": {
            "image/png": "[encoded data removed]",
            "text/plain": [
              "<Figure size 432x288 with 1 Axes>"
            ]
          },
          "metadata": {
            "tags": [],
            "needs_background": "light"
          }
        }
      ]
    },
    {
      "cell_type": "code",
      "metadata": {
        "id": "uAVuWVxIeWTA",
        "colab_type": "code",
        "colab": {
          "base_uri": "https://localhost:8080/",
          "height": 151
        },
        "outputId": "c39731a4-099a-4fbb-8435-6c0b7f748dbf"
      },
      "source": [
        "#evaluation\n",
        "# https://stackoverflow.com/questions/40564936/keras-what-is-the-difference-between-model-evaluate-generator-and-model-predict\n",
        "steps = val_generator.n // val_generator.batch_size\n",
        "\n",
        "accuracy_ontest = model.evaluate_generator(val_generator, steps)\n",
        "predictions_ontest = model.predict_generator(val_generator, steps)\n",
        "print(accuracy_ontest)\n",
        "print(predictions_ontest)"
      ],
      "execution_count": null,
      "outputs": [
        {
          "output_type": "stream",
          "text": [
            "[0.5681671500205994, 0.7801339030265808]\n",
            "[[9.8549992e-01 1.2812923e-02 1.6871827e-03]\n",
            " [9.6882105e-01 2.9962994e-02 1.2159452e-03]\n",
            " [9.4868684e-01 5.2116010e-03 4.6101529e-02]\n",
            " ...\n",
            " [5.3691190e-01 4.6215317e-01 9.3489233e-04]\n",
            " [9.6647537e-01 2.9924531e-02 3.6000514e-03]\n",
            " [9.6090108e-01 3.5115849e-02 3.9830389e-03]]\n"
          ],
          "name": "stdout"
        }
      ]
    }
  ]
}