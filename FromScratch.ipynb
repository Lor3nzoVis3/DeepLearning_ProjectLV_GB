{
 "cells": [
  {
   "cell_type": "markdown",
   "metadata": {
    "colab_type": "text",
    "id": "view-in-github"
   },
   "source": [
    "<a href=\"https://colab.research.google.com/github/Lor3nzoVis3/DeepLearning_ProjectLV_GB/blob/master/FromScratch.ipynb\" target=\"_parent\"><img src=\"https://colab.research.google.com/assets/colab-badge.svg\" alt=\"Open In Colab\"/></a>"
   ]
  },
  {
   "cell_type": "code",
   "execution_count": 22,
   "metadata": {
    "colab": {},
    "colab_type": "code",
    "id": "2jUKpzuaOVxc"
   },
   "outputs": [],
   "source": [
    "\"\"\"\n",
    "@authors: LorenzoVisentini and Gianmarco Bolcato\n",
    "\"\"\"\n",
    "\n",
    "modelName = \"FromScratch\"\n",
    "\n",
    "\n",
    "#import\n",
    "import os\n",
    "import numpy as np\n",
    "import pandas as pd\n",
    "import matplotlib.pyplot as plt\n",
    "\n",
    "#keras\n",
    "# import keras\n",
    "from keras.layers import Dense, Dropout, Flatten, Conv2D\n",
    "from keras.layers import BatchNormalization, MaxPooling2D, Dropout, AveragePooling2D\n",
    "from keras.models import Model, Sequential\n",
    "from keras import optimizers\n",
    "from keras.preprocessing.image  import ImageDataGenerator"
   ]
  },
  {
   "cell_type": "code",
   "execution_count": 23,
   "metadata": {
    "colab": {
     "base_uri": "https://localhost:8080/",
     "height": 34
    },
    "colab_type": "code",
    "id": "wnhRbECxPMlP",
    "outputId": "f06f9f8c-c177-4632-db6c-b2401af2d61e"
   },
   "outputs": [],
   "source": [
    "# link with Google Drive\n",
    "# from google.colab import drive\n",
    "# drive.mount('/content/drive')"
   ]
  },
  {
   "cell_type": "code",
   "execution_count": 24,
   "metadata": {
    "colab": {},
    "colab_type": "code",
    "id": "bkt1Gm2GPO60"
   },
   "outputs": [],
   "source": [
    "#Images parameters\n",
    "img_width = 178 \n",
    "img_height = 218\n",
    "img_target_size = (img_height, img_width)\n",
    "shape = (img_height, img_width, 3)\n",
    "\n",
    "# Source Light\n",
    "# Jupyter notebook paths\n",
    "train_dir = './source_light/train'\n",
    "val_dir = './source_light/val' \n",
    "test_dir = './source_light/test' \n",
    "\n",
    "# Google Colab paths\n",
    "# train_dir = '/content/drive/My Drive/Deep Learning Project - Image Classification/source_light/train'\n",
    "# val_dir = '/content/drive/My Drive/Deep Learning Project - Image Classification/source_light/val' \n",
    "# test_dir = '/content/drive/My Drive/Deep Learning Project - Image Classification/source_light/test' "
   ]
  },
  {
   "cell_type": "code",
   "execution_count": 25,
   "metadata": {},
   "outputs": [],
   "source": [
    "n_classes = 3\n",
    "\n",
    "# Hyperparameters\n",
    "batch_size = 32\n",
    "epochs = 10\n",
    "conv_depth = 8\n",
    "drop_rate = 0.6\n",
    "lr = 0.002"
   ]
  },
  {
   "cell_type": "code",
   "execution_count": 26,
   "metadata": {
    "colab": {},
    "colab_type": "code",
    "id": "F9PWfuatPRrf"
   },
   "outputs": [],
   "source": [
    "#model\n",
    "model = Sequential()\n",
    "\n",
    "model.add(Conv2D(conv_depth, kernel_size = (3,3), activation= 'relu', input_shape = shape))\n",
    "model.add(Conv2D(conv_depth, kernel_size = (3,3), activation= 'relu'))\n",
    "model.add(BatchNormalization())\n",
    "model.add(AveragePooling2D(pool_size=(2,2),strides = 2))\n",
    "model.add(Dropout(drop_rate))\n",
    "\n",
    "model.add(Conv2D(conv_depth, kernel_size = (3,3), activation= 'relu'))\n",
    "model.add(Conv2D(conv_depth, kernel_size = (3,3), activation= 'relu'))\n",
    "model.add(BatchNormalization())\n",
    "model.add(AveragePooling2D(pool_size=(2,2),strides = 2))\n",
    "model.add(Dropout(drop_rate))\n",
    "\n",
    "model.add(Conv2D(conv_depth*2, kernel_size = (5,5), activation= 'relu'))\n",
    "model.add(Conv2D(conv_depth*2, kernel_size = (5,5), activation= 'relu'))\n",
    "model.add(BatchNormalization())\n",
    "model.add(AveragePooling2D(pool_size=(2,2),strides = 2))\n",
    "model.add(Dropout(drop_rate))\n",
    "\n",
    "model.add(Conv2D(conv_depth*2, kernel_size = (5,5), activation= 'relu'))\n",
    "model.add(Conv2D(conv_depth*2, kernel_size = (5,5), activation= 'relu'))\n",
    "model.add(BatchNormalization())\n",
    "model.add(AveragePooling2D(pool_size=(2,2),strides = 2))\n",
    "model.add(Dropout(drop_rate))\n",
    "\n",
    "model.add(Flatten())\n",
    "model.add(Dense(512, activation= 'relu'))\n",
    "model.add(Dense(512, activation= 'relu'))\n",
    "model.add(BatchNormalization())\n",
    "model.add(Dense(n_classes, activation= 'softmax'))\n",
    "\n",
    "# custom optimizer\n",
    "opt = optimizers.Adam(learning_rate=lr)\n",
    "\n",
    "model.compile(optimizer = opt,\n",
    "              loss = 'categorical_crossentropy',  #because we have 3 possible outputs\n",
    "              metrics = ['accuracy'])"
   ]
  },
  {
   "cell_type": "code",
   "execution_count": 27,
   "metadata": {
    "colab": {
     "base_uri": "https://localhost:8080/",
     "height": 50
    },
    "colab_type": "code",
    "id": "widg6uNKPa5g",
    "outputId": "c983ddd2-c901-4d07-a9fe-227106d02986"
   },
   "outputs": [
    {
     "name": "stdout",
     "output_type": "stream",
     "text": [
      "Found 5998 images belonging to 3 classes.\n",
      "Found 2501 images belonging to 3 classes.\n",
      "Found 1501 images belonging to 3 classes.\n"
     ]
    }
   ],
   "source": [
    "# preprocessing\n",
    "# https://machinelearningmastery.com/how-to-configure-image-data-augmentation-when-training-deep-learning-neural-networks/\n",
    "# https://www.pyimagesearch.com/2019/07/08/keras-imagedatagenerator-and-data-augmentation/\n",
    "\n",
    "train_gen = ImageDataGenerator(width_shift_range=[0,0.2],\n",
    "                            height_shift_range=[0,0.2],\n",
    "                            zoom_range=[0.8,1.0],\n",
    "                            fill_mode=\"nearest\")\n",
    "# train_gen = ImageDataGenerator()\n",
    "\n",
    "\n",
    "test_gen = ImageDataGenerator()\n",
    "\n",
    "train_generator = train_gen.flow_from_directory(directory=train_dir,\n",
    "                                                    target_size=img_target_size,\n",
    "                                                    color_mode=\"rgb\",\n",
    "                                                    batch_size=batch_size,\n",
    "                                                    class_mode=\"categorical\",\n",
    "                                                    shuffle=True,\n",
    "                                                    seed=42\n",
    "                                                    )\n",
    "\n",
    "val_generator = test_gen.flow_from_directory(directory=val_dir,\n",
    "                                                    target_size=img_target_size,\n",
    "                                                    color_mode=\"rgb\",\n",
    "                                                    batch_size=batch_size,\n",
    "                                                    class_mode=\"categorical\",\n",
    "                                                    shuffle=True,\n",
    "                                                    seed=42\n",
    "                                                    )\n",
    "\n",
    "test_generator = test_gen.flow_from_directory(directory = test_dir,\n",
    "                                                    target_size = img_target_size,\n",
    "                                                    color_mode=\"rgb\",\n",
    "                                                    batch_size = batch_size,\n",
    "                                                    class_mode = \"categorical\",\n",
    "                                                    shuffle=True,\n",
    "                                                    seed=42\n",
    "                                                )"
   ]
  },
  {
   "cell_type": "code",
   "execution_count": null,
   "metadata": {
    "colab": {
     "base_uri": "https://localhost:8080/",
     "height": 353
    },
    "colab_type": "code",
    "id": "IVNt2_-ydsSZ",
    "outputId": "27ccaa46-6c62-4f6c-a8fe-10427c07aa43"
   },
   "outputs": [
    {
     "name": "stdout",
     "output_type": "stream",
     "text": [
      "Epoch 1/10\n",
      "187/187 [==============================] - 37s 200ms/step - loss: 1.2534 - accuracy: 0.4596 - val_loss: 0.7630 - val_accuracy: 0.6514\n",
      "Epoch 2/10\n",
      "187/187 [==============================] - 38s 201ms/step - loss: 0.9502 - accuracy: 0.5513 - val_loss: 0.6403 - val_accuracy: 0.7327\n",
      "Epoch 3/10\n",
      "187/187 [==============================] - 37s 200ms/step - loss: 0.8564 - accuracy: 0.6056 - val_loss: 0.4681 - val_accuracy: 0.7051\n",
      "Epoch 4/10\n",
      "187/187 [==============================] - 37s 199ms/step - loss: 0.7287 - accuracy: 0.6859 - val_loss: 0.4622 - val_accuracy: 0.8497\n",
      "Epoch 5/10\n",
      " 81/187 [===========>..................] - ETA: 19s - loss: 0.6708 - accuracy: 0.7130"
     ]
    }
   ],
   "source": [
    "history = model.fit_generator(generator = train_generator,\n",
    "                             steps_per_epoch = train_generator.n//batch_size,\n",
    "                             epochs = epochs,\n",
    "                             validation_data = val_generator,\n",
    "                             validation_steps=val_generator.n//batch_size\n",
    "                             )"
   ]
  },
  {
   "cell_type": "code",
   "execution_count": null,
   "metadata": {
    "colab": {
     "base_uri": "https://localhost:8080/",
     "height": 34
    },
    "colab_type": "code",
    "id": "J5zMfS8TeRcN",
    "outputId": "d34aef99-f78c-4b2f-aa4f-74d906ca2e2f"
   },
   "outputs": [
    {
     "name": "stdout",
     "output_type": "stream",
     "text": [
      "/content/drive/My Drive/Deep Learning Project - Image Classification/Models/FaceOrientationFromScratch_Dropout0.7_64_10_16\n"
     ]
    }
   ],
   "source": [
    "# consider highlight the different values of hyperparameters used\n",
    "# OR orient o SL source light, Bs batch size, Ep epochs, Dr drop rate, Lr learning rate\n",
    "# CHECK ALWAYS BOOLEAN PATCH VALUES (on top)\n",
    "\n",
    "# create models folder if doesn't exist\n",
    "path_models = './Models'\n",
    "if os.path.exists(path_models) == False:\n",
    "    os.makedirs(path_models)\n",
    "else: \n",
    "    print('Folder Models already exists')\n",
    "    \n",
    "# save model and history\n",
    "# file_model = '/content/drive/My Drive/Deep Learning Project - Image Classification/Models/'+ modelName + 'SL' + '_Bs' + str(batch_size) + '_Ep' + str(epochs) + '_Dr' + str(drop_rate) + '_Lr' + str(lr)\n",
    "file_model = './Models/'+ modelName + 'SL' + '_Bs' + str(batch_size) + '_Ep' + str(epochs) + '_Dr' + str(drop_rate) + '_ConvD' + str(conv_depth) +'_Lr' + str(lr)\n",
    "if patch == True:\n",
    "    file_model = file_model + '_patched'\n",
    "    model.save(file_model + '.h5')\n",
    "else:\n",
    "    model.save(file_model + '.h5')\n",
    "print(file_model)\n",
    "\n",
    "#save history\n",
    "file_hist = file_model + '.csv'\n",
    "df_history = pd.DataFrame(history.history)\n",
    "with open(file_hist, 'w') as file:\n",
    "    df_history.to_csv(file)"
   ]
  },
  {
   "cell_type": "code",
   "execution_count": 21,
   "metadata": {
    "colab": {
     "base_uri": "https://localhost:8080/",
     "height": 573
    },
    "colab_type": "code",
    "id": "0Iq2k-jpeTmf",
    "outputId": "cdafc51c-bb2e-4868-9995-4b0ed6d170ff"
   },
   "outputs": [
    {
     "data": {
      "image/png": "[encoded data removed]",
      "text/plain": [
       "<Figure size 432x288 with 1 Axes>"
      ]
     },
     "metadata": {
      "needs_background": "light"
     },
     "output_type": "display_data"
    },
    {
     "data": {
      "image/png": "[encoded data removed]",
      "text/plain": [
       "<Figure size 432x288 with 1 Axes>"
      ]
     },
     "metadata": {
      "needs_background": "light"
     },
     "output_type": "display_data"
    }
   ],
   "source": [
    "#plot results\n",
    "plt.plot(history.history['accuracy'])\n",
    "plt.plot(history.history['val_accuracy'])\n",
    "plt.title('model accuracy')\n",
    "plt.ylabel('accuracy')\n",
    "plt.xlabel('epoch')\n",
    "plt.legend(['train', 'val'], loc='upper left')\n",
    "plt.show()\n",
    "\n",
    "# summarize history for loss\n",
    "plt.plot(history.history['loss'])\n",
    "plt.plot(history.history['val_loss'])\n",
    "plt.title('model loss')\n",
    "plt.ylabel('loss')\n",
    "plt.xlabel('epoch')\n",
    "plt.legend(['train', 'val'], loc='upper left')\n",
    "plt.show()"
   ]
  },
  {
   "cell_type": "code",
   "execution_count": null,
   "metadata": {
    "colab": {
     "base_uri": "https://localhost:8080/",
     "height": 151
    },
    "colab_type": "code",
    "id": "uAVuWVxIeWTA",
    "outputId": "c39731a4-099a-4fbb-8435-6c0b7f748dbf"
   },
   "outputs": [
    {
     "name": "stdout",
     "output_type": "stream",
     "text": [
      "[0.5681671500205994, 0.7801339030265808]\n",
      "[[9.8549992e-01 1.2812923e-02 1.6871827e-03]\n",
      " [9.6882105e-01 2.9962994e-02 1.2159452e-03]\n",
      " [9.4868684e-01 5.2116010e-03 4.6101529e-02]\n",
      " ...\n",
      " [5.3691190e-01 4.6215317e-01 9.3489233e-04]\n",
      " [9.6647537e-01 2.9924531e-02 3.6000514e-03]\n",
      " [9.6090108e-01 3.5115849e-02 3.9830389e-03]]\n"
     ]
    }
   ],
   "source": [
    "#evaluation\n",
    "# https://stackoverflow.com/questions/40564936/keras-what-is-the-difference-between-model-evaluate-generator-and-model-predict\n",
    "steps = test_generator.n // test_generator.batch_size\n",
    "\n",
    "accuracy_ontest = model.evaluate_generator(test_generator, steps)\n",
    "# predictions_ontest = model.predict_generator(test_generator, steps)\n",
    "print(accuracy_ontest)\n",
    "# print(predictions_ontest)"
   ]
  }
 ],
 "metadata": {
  "accelerator": "GPU",
  "colab": {
   "authorship_tag": "ABX9TyPtQ7KXkTkZS5Vu7zwR5p5Y",
   "include_colab_link": true,
   "name": "FromScratch.ipynb",
   "provenance": []
  },
  "kernelspec": {
   "display_name": "Python 3",
   "language": "python",
   "name": "python3"
  },
  "language_info": {
   "codemirror_mode": {
    "name": "ipython",
    "version": 3
   },
   "file_extension": ".py",
   "mimetype": "text/x-python",
   "name": "python",
   "nbconvert_exporter": "python",
   "pygments_lexer": "ipython3",
   "version": "3.7.3"
  }
 },
 "nbformat": 4,
 "nbformat_minor": 1
}
