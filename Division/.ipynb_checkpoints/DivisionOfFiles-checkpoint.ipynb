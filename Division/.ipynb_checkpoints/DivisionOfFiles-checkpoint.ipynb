{
 "cells": [
  {
   "cell_type": "code",
   "execution_count": null,
   "metadata": {},
   "outputs": [],
   "source": [
    "# Import\n",
    "import os\n",
    "from os import path, listdir\n",
    "import shutil\n",
    "import cv2\n",
    "from itertools import islice"
   ]
  },
  {
   "cell_type": "code",
   "execution_count": null,
   "metadata": {},
   "outputs": [],
   "source": [
    "# Paths\n",
    "original_folder = './img_align_celeba'\n",
    "start_folder = './img_align_celeba_5000samples'\n",
    "end_folder = './source_light/train'\n",
    "\n",
    "#paths\n",
    "#left\n",
    "path_l = end_folder + '/left_light/'\n",
    "#center\n",
    "path_c = end_folder + '/center_light/'\n",
    "#right\n",
    "path_r = end_folder + '/right_light/'\n",
    "#idk\n",
    "path_idk = end_folder + '/idk/'"
   ]
  },
  {
   "cell_type": "code",
   "execution_count": null,
   "metadata": {},
   "outputs": [],
   "source": [
    "#first time\n",
    "if len(os.listdir(start_folder)) == 0:\n",
    "    #files\n",
    "    files_or = [os.path.join(original_folder, file) for file in os.listdir(original_folder) if os.path.isfile(os.path.join(original_folder, file))]\n",
    "    for file in files_or[15000:20000]:\n",
    "        shutil.copy(file, start_folder)\n",
    "\n",
    "files_end = [os.path.join(start_folder, file) for file in os.listdir(start_folder) if os.path.isfile(os.path.join(start_folder, file))]\n",
    "#sort\n",
    "files_end.sort()"
   ]
  },
  {
   "cell_type": "code",
   "execution_count": null,
   "metadata": {},
   "outputs": [],
   "source": [
    "for file in files_end:\n",
    "    redo = True\n",
    "    stop = False\n",
    "    while redo:\n",
    "        redo = False\n",
    "        print(file)\n",
    "        if file.endswith(('.jpeg', '.jpg')):\n",
    "            imgCeleba = cv2.imread(file)\n",
    "            cv2.imshow('Celeba Image', imgCeleba)\n",
    "\n",
    "            hsv_image = cv2.cvtColor(imgCeleba, cv2.COLOR_BGR2HSV)\n",
    "            cv2.imshow('Celeba Image_hsv', hsv_image)\n",
    "\n",
    "\n",
    "            # # CLAHE (Contrast Limited Adaptive Histogram Equalization)\n",
    "            # clahe = cv2.createCLAHE(clipLimit=3., tileGridSize=(8,8))\n",
    "            # lab = cv2.cvtColor(imgCeleba, cv2.COLOR_BGR2LAB)  # convert from BGR to LAB color space\n",
    "            # l, a, b = cv2.split(lab)  # split on 3 different channels\n",
    "            # l2 = clahe.apply(l)  # apply CLAHE to the L-channel\n",
    "            # lab = cv2.merge((l2,a,b))  # merge channels\n",
    "            # img2 = cv2.cvtColor(lab, cv2.COLOR_LAB2BGR)  # convert from LAB to BGR\n",
    "            # cv2.imshow('Increased contrast', img2)\n",
    "\n",
    "            #gray\n",
    "            gray = cv2.cvtColor(imgCeleba, cv2.COLOR_BGR2GRAY)\n",
    "            # blurred = cv2.GaussianBlur(gray, (11, 11), 0)\n",
    "            # threshold the image to reveal light regions in the\n",
    "            # blurred image\n",
    "            thresh = cv2.threshold(gray, 170, 255, cv2.THRESH_BINARY)[1]\n",
    "            cv2.imshow('Increased contrast', thresh)\n",
    "\n",
    "\n",
    "\n",
    "            #initialise the waitkey\n",
    "            keypressed = cv2.waitKey(0)\n",
    "            if keypressed == ord('a') or keypressed == 2:\n",
    "                shutil.move(file, path_l)\n",
    "                print(f\"{file} moved on left source folder\")\n",
    "            elif keypressed == ord('s') or keypressed == 1:\n",
    "                shutil.move(file, path_c)\n",
    "                print(f\"{file} moved on center source folder\")\n",
    "            elif keypressed == ord('d') or keypressed == 3:\n",
    "                shutil.move(file, path_r)\n",
    "                print(f\"{file} moved on right source folder\")\n",
    "            elif keypressed == ord('w'):\n",
    "                shutil.move(file, path_idk)\n",
    "                print(f\"{file}: idk\")\n",
    "            elif keypressed == ord('x'):\n",
    "                stop = True\n",
    "            else:\n",
    "                redo = True\n",
    "                print(\"Invalid key pressed\")\n",
    "                print(\"Select left arrow or a for left source, down arrow or s for center source, right arrow or d for right source. Press x for end\")\n",
    "    if stop: break\n",
    "\n",
    "\n",
    "cv2.destroyAllWindows()\n",
    "print(\"Image selection stopped\")"
   ]
  }
 ],
 "metadata": {
  "kernelspec": {
   "display_name": "Python 3",
   "language": "python",
   "name": "python3"
  },
  "language_info": {
   "codemirror_mode": {
    "name": "ipython",
    "version": 3
   },
   "file_extension": ".py",
   "mimetype": "text/x-python",
   "name": "python",
   "nbconvert_exporter": "python",
   "pygments_lexer": "ipython3",
   "version": "3.7.3"
  }
 },
 "nbformat": 4,
 "nbformat_minor": 4
}
