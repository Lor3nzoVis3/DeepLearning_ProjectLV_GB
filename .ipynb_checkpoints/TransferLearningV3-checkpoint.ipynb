{
 "cells": [
  {
   "cell_type": "markdown",
   "metadata": {
    "colab_type": "text",
    "id": "view-in-github"
   },
   "source": [
    "<a href=\"https://colab.research.google.com/github/Lor3nzoVis3/DeepLearning_ProjectLV_GB/blob/master/TransferLearningV3.ipynb\" target=\"_parent\"><img src=\"https://colab.research.google.com/assets/colab-badge.svg\" alt=\"Open In Colab\"/></a>"
   ]
  },
  {
   "cell_type": "code",
   "execution_count": 1,
   "metadata": {
    "colab": {},
    "colab_type": "code",
    "id": "dLWDTXgdyOa6"
   },
   "outputs": [
    {
     "name": "stderr",
     "output_type": "stream",
     "text": [
      "Using TensorFlow backend.\n"
     ]
    }
   ],
   "source": [
    "\"\"\"\n",
    "@author: LorenzoVisentini\n",
    "\"\"\"\n",
    "\n",
    "#import\n",
    "import numpy as np\n",
    "import pandas as pd\n",
    "import matplotlib as plt\n",
    "\n",
    "from sklearn.model_selection import train_test_split\n",
    "#keras\n",
    "import keras\n",
    "from keras.layers import Dense, Dropout, Flatten, GlobalAveragePooling2D\n",
    "from keras.models import Model\n",
    "from keras import optimizers\n",
    "from keras.preprocessing.image import ImageDataGenerator\n",
    "#inception v3\n",
    "from keras.applications.inception_v3 import InceptionV3\n",
    "from keras.applications.inception_v3 import preprocess_input, decode_predictions"
   ]
  },
  {
   "cell_type": "code",
   "execution_count": 6,
   "metadata": {
    "colab": {},
    "colab_type": "code",
    "id": "CWOmwzOeySHO"
   },
   "outputs": [],
   "source": [
    "#Images parameters\n",
    "img_width = 299\n",
    "img_height = 299\n",
    "\n",
    "train_dir = './source_light/training'\n",
    "validation_dir = './source_light/validation' \n",
    "\n"
   ]
  },
  {
   "cell_type": "code",
   "execution_count": 7,
   "metadata": {
    "colab": {},
    "colab_type": "code",
    "id": "ytYyW1qpyTWm"
   },
   "outputs": [],
   "source": [
    "#from https://edebrouwer.github.io/deeplearning/carvision/transfer/neural/networks/learning/2017/08/05/TransferLearning.html\n",
    "\n",
    "#Transfer learning on InceptionV3 model\n",
    "#use all the layers except for the last fully connected layer (because its \n",
    "#specific to the ImageNet competition)\n",
    "#we will retrain layers with new inputs\n",
    "pre_trained_model = InceptionV3(input_shape = (img_height, img_width, 3),\n",
    "                               include_top = False, #exclude last flatten layer\n",
    "                               weights = 'imagenet' #weights from imageNet\n",
    "                               ) \n",
    "\n",
    "# pre_trained_model.summary() #check V3 structure"
   ]
  },
  {
   "cell_type": "code",
   "execution_count": 8,
   "metadata": {
    "colab": {},
    "colab_type": "code",
    "id": "PzRXA6HMylNv"
   },
   "outputs": [],
   "source": [
    "n_classes = 3\n",
    "\n",
    "#transfer learning phase\n",
    "x = pre_trained_model.output\n",
    "x = GlobalAveragePooling2D()(x)\n",
    "x = Dense(1024, activation= 'relu')(x) #add fully connected layer\n",
    "x = Dense(n_classes, activation= 'sigmoid')(x)\n",
    "model = Model(inputs = pre_trained_model.input, outputs = x)\n",
    "\n",
    "#perchè 280\n",
    "#freeze the model excepted added layers\n",
    "for layer in model.layers[:280]:\n",
    "    layer.trainable = False\n",
    "for layer in model.layers[280:]:\n",
    "    layer.trainable = True\n",
    "\n",
    "model.compile(optimizer = 'Adam',\n",
    "              loss = 'categorical_crossentropy',  #because we have 3 possible outputs\n",
    "              metrics = ['accuracy'])"
   ]
  },
  {
   "cell_type": "code",
   "execution_count": 10,
   "metadata": {
    "colab": {
     "base_uri": "https://localhost:8080/",
     "height": 454
    },
    "colab_type": "code",
    "id": "DscGjJZl2mHk",
    "outputId": "7232b41d-1c6f-4377-c40c-be2a5a80f774"
   },
   "outputs": [
    {
     "name": "stdout",
     "output_type": "stream",
     "text": [
      "Found 7000 images belonging to 3 classes.\n",
      "Found 3000 images belonging to 3 classes.\n"
     ]
    }
   ],
   "source": [
    "#preprocessing\n",
    "train_datagen = ImageDataGenerator(preprocessing_function = preprocess_input)\n",
    "train_generator = train_datagen.flow_from_directory(directory=train_dir,\n",
    "                                                    target_size=(img_height, img_width),\n",
    "                                                    color_mode=\"rgb\",\n",
    "                                                    batch_size=32,\n",
    "                                                    class_mode=\"categorical\",\n",
    "                                                    shuffle=True,\n",
    "                                                    seed=42\n",
    "                                                    )\n",
    "\n",
    "val_datagen = ImageDataGenerator(preprocessing_function=preprocess_input)\n",
    "val_generator = val_datagen.flow_from_directory(directory=validation_dir,\n",
    "                                                    target_size=(img_height, img_width),\n",
    "                                                    color_mode=\"rgb\",\n",
    "                                                    batch_size=32,\n",
    "                                                    class_mode=\"categorical\",\n",
    "                                                    shuffle=True,\n",
    "                                                    seed=42\n",
    "                                                    )"
   ]
  },
  {
   "cell_type": "code",
   "execution_count": null,
   "metadata": {},
   "outputs": [],
   "source": [
    "history = model.fit_generator(generator = train_generator,\n",
    "                             step_per_epochs = ,\n",
    "                             epochs = epochs,\n",
    "                             validation_data = val_generator\n",
    "                             )"
   ]
  },
  {
   "cell_type": "code",
   "execution_count": null,
   "metadata": {},
   "outputs": [],
   "source": [
    "acc = history.history['acc']\n",
    "val_acc = history.history['val_acc']\n",
    "loss = history.history['loss']\n",
    "val_loss = history.history['val_loss']\n",
    "epochs = range(1, len(acc) + 1)\n",
    "\n",
    "print (acc,val_acc)\n",
    "\n",
    "plt.title('Training and validation accuracy')\n",
    "plt.plot(epochs, acc, 'red', label='Training acc')\n",
    "plt.plot(epochs, val_acc, 'blue', label='Validation acc')\n",
    "plt.legend()\n",
    "\n",
    "plt.figure()\n",
    "plt.title('Training and validation loss')\n",
    "plt.plot(epochs, loss, 'red', label='Training loss')\n",
    "plt.plot(epochs, val_loss, 'blue', label='Validation loss')\n",
    "\n",
    "plt.legend()\n",
    "\n",
    "plt.show()"
   ]
  }
 ],
 "metadata": {
  "colab": {
   "authorship_tag": "ABX9TyNJyisboASs7hzzie40f1wC",
   "collapsed_sections": [],
   "include_colab_link": true,
   "name": "TransferLearningV3.ipynb",
   "provenance": []
  },
  "kernelspec": {
   "display_name": "Python 3",
   "language": "python",
   "name": "python3"
  },
  "language_info": {
   "codemirror_mode": {
    "name": "ipython",
    "version": 3
   },
   "file_extension": ".py",
   "mimetype": "text/x-python",
   "name": "python",
   "nbconvert_exporter": "python",
   "pygments_lexer": "ipython3",
   "version": "3.7.3"
  }
 },
 "nbformat": 4,
 "nbformat_minor": 1
}
