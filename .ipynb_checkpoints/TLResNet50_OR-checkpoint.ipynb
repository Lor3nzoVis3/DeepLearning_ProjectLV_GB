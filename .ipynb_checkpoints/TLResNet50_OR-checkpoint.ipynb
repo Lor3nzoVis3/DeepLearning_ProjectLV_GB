{
 "cells": [
  {
   "cell_type": "markdown",
   "metadata": {
    "colab_type": "text",
    "id": "view-in-github"
   },
   "source": [
    "<a href=\"https://colab.research.google.com/github/Lor3nzoVis3/DeepLearning_ProjectLV_GB/blob/master/TransferLearningResNet50_sourceLight.ipynb\" target=\"_parent\"><img src=\"https://colab.research.google.com/assets/colab-badge.svg\" alt=\"Open In Colab\"/></a>"
   ]
  },
  {
   "cell_type": "code",
   "execution_count": 1,
   "metadata": {
    "colab": {},
    "colab_type": "code",
    "id": "uOrA5dznqP2X"
   },
   "outputs": [
    {
     "name": "stderr",
     "output_type": "stream",
     "text": [
      "Using TensorFlow backend.\n"
     ]
    }
   ],
   "source": [
    "\"\"\"\n",
    "@authors: LorenzoVisentini and Gianmarco Bolcato\n",
    "\"\"\"\n",
    "\n",
    "modelName = \"ResNet50\"\n",
    "\n",
    "#import\n",
    "import os\n",
    "import numpy as np\n",
    "import pandas as pd\n",
    "import matplotlib.pyplot as plt\n",
    "\n",
    "#keras\n",
    "import keras\n",
    "from keras import backend as K\n",
    "from keras.layers import Dense, Dropout, Flatten, GlobalAveragePooling2D, AveragePooling2D\n",
    "from keras.models import Model\n",
    "from keras import optimizers\n",
    "from keras.preprocessing.image import ImageDataGenerator\n",
    "#inception v3\n",
    "from keras.applications import ResNet50\n",
    "from keras.applications.resnet50 import preprocess_input\n",
    "from keras.utils import plot_model\n",
    "\n",
    "import random\n",
    "random.seed(42)"
   ]
  },
  {
   "cell_type": "code",
   "execution_count": 2,
   "metadata": {
    "colab": {
     "base_uri": "https://localhost:8080/",
     "height": 34
    },
    "colab_type": "code",
    "id": "5F95ZWJo22Fu",
    "outputId": "4b5df926-92c1-41e2-e303-a073a71d3cfb"
   },
   "outputs": [],
   "source": [
    "# link with Google Drive\n",
    "# from google.colab import drive\n",
    "# drive.mount('/content/drive')"
   ]
  },
  {
   "cell_type": "code",
   "execution_count": 3,
   "metadata": {
    "colab": {},
    "colab_type": "code",
    "id": "vLBLO2nU23ws"
   },
   "outputs": [],
   "source": [
    "# Images parameters\n",
    "img_target_size = (224, 224)\n",
    "shape = (224, 224, 3)\n",
    "\n",
    "# Jupyter notebook paths\n",
    "train_dir = './orient/train'\n",
    "val_dir = './orient/val' \n",
    "test_dir = './orient/test' \n",
    "\n",
    "# Google Colab paths\n",
    "# train_dir = '/content/drive/My Drive/Deep Learning Project - Image Classification/orient/train'\n",
    "# val_dir = '/content/drive/My Drive/Deep Learning Project - Image Classification/orient/val' \n",
    "# test_dir = '/content/drive/My Drive/Deep Learning Project - Image Classification/orient/test' "
   ]
  },
  {
   "cell_type": "code",
   "execution_count": 4,
   "metadata": {
    "colab": {},
    "colab_type": "code",
    "id": "q34m5OG411TQ"
   },
   "outputs": [],
   "source": [
    "n_classes = 3\n",
    "\n",
    "# Hyperparameters\n",
    "batch_size = 32\n",
    "epochs = 10\n",
    "drop_rate = 0.6\n",
    "lr = 0.005\n",
    "\n",
    "\n",
    "# variable to check if it's applied the batchNormalization patch\n",
    "patch = True\n",
    "\n",
    "# file_model = '/content/drive/My Drive/Deep Learning Project - Image Classification/Models/'+ modelName + 'OR' + '_Bs' + str(batch_size) + '_Ep' + str(epochs) + '_Dr' + str(drop_rate) + '_Lr' + str(lr)\n",
    "file_model = modelName + 'OR' + '_Bs' + str(batch_size) + '_Ep' + str(epochs) + '_Dr' + str(drop_rate) + '_Lr' + str(lr)\n",
    "if patch == True:\n",
    "    file_model = file_model + '_patched'"
   ]
  },
  {
   "cell_type": "code",
   "execution_count": 5,
   "metadata": {
    "colab": {
     "base_uri": "https://localhost:8080/",
     "height": 50
    },
    "colab_type": "code",
    "id": "wTTpms6q25mC",
    "outputId": "3d0b3782-3f0a-485d-c4d8-87ce1d9e7e76"
   },
   "outputs": [
    {
     "name": "stderr",
     "output_type": "stream",
     "text": [
      "C:\\Users\\Sviluppo\\anaconda3\\envs\\deeplearning\\lib\\site-packages\\keras_applications\\resnet50.py:265: UserWarning: The output shape of `ResNet50(include_top=False)` has been changed since Keras 2.2.0.\n",
      "  warnings.warn('The output shape of `ResNet50(include_top=False)` '\n"
     ]
    }
   ],
   "source": [
    "# from https://www.kaggle.com/suniliitb96/tutorial-keras-transfer-learning-with-resnet50\n",
    "# https://www.pyimagesearch.com/2020/04/27/fine-tuning-resnet-with-keras-tensorflow-and-deep-learning/\n",
    "\n",
    "# Transfer learning on ResNet50 model\n",
    "# use all the layers except for the last fully connected layer (because its \n",
    "# specific to the ImageNet competition)\n",
    "# we will retrain layers with new inputs\n",
    "pre_trained_model = ResNet50(input_shape = shape,\n",
    "                               include_top = False, #exclude last flatten layer\n",
    "                               weights = 'imagenet' #weights from imageNet\n",
    "                               ) \n",
    "\n",
    "# pre_trained_model.summary() #check ResNet50 structure"
   ]
  },
  {
   "cell_type": "code",
   "execution_count": 6,
   "metadata": {
    "colab": {},
    "colab_type": "code",
    "id": "rE6_Mley28tT"
   },
   "outputs": [
    {
     "name": "stdout",
     "output_type": "stream",
     "text": [
      "WARNING:tensorflow:Large dropout rate: 0.6 (>0.5). In TensorFlow 2.x, dropout() uses dropout rate instead of keep_prob. Please ensure that this is intended.\n"
     ]
    }
   ],
   "source": [
    "#transfer learning phase\n",
    "x = pre_trained_model.output\n",
    "\n",
    "# x = GlobalAveragePooling2D()(x)\n",
    "# x = Dense(128, activation= 'relu')(x)\n",
    "x = AveragePooling2D(pool_size=(7, 7))(x)\n",
    "x = Flatten()(x)\n",
    "\n",
    "x = Dropout(drop_rate)(x)\n",
    "x = Dense(128, activation= 'relu')(x)\n",
    "output = Dense(n_classes, activation= 'softmax')(x)\n",
    "model = Model(inputs = pre_trained_model.input, outputs = output)\n",
    "\n",
    "#freeze the model excepted added layers\n",
    "# for layer in pre_trained_model.layers:\n",
    "#     layer.trainable = False\n",
    "    \n",
    "#because of BN normalization problem: https://github.com/keras-team/keras/issues/9214\n",
    "for layer in pre_trained_model.layers:\n",
    "        if hasattr(layer, 'moving_mean') and hasattr(layer, 'moving_variance'):\n",
    "            layer.trainable = True\n",
    "            K.eval(K.update(layer.moving_mean, K.zeros_like(layer.moving_mean)))\n",
    "            K.eval(K.update(layer.moving_variance, K.zeros_like(layer.moving_variance)))\n",
    "        else:\n",
    "            layer.trainable = False\n",
    "\n",
    "# custom optimizer\n",
    "opt = optimizers.Adam(learning_rate=lr)\n",
    "\n",
    "model.compile(optimizer = opt,\n",
    "              loss = 'categorical_crossentropy',  #because we have 3 possible outputs\n",
    "              metrics = ['accuracy'])"
   ]
  },
  {
   "cell_type": "code",
   "execution_count": null,
   "metadata": {},
   "outputs": [],
   "source": [
    "# plot model tree\n",
    "tree_path = './ModelTrees/'\n",
    "if os.path.exists(tree_path) == False:\n",
    "    os.makedirs(tree_path)\n",
    "else: \n",
    "    print('Folder Plots already exists')\n",
    "plot_model(model, to_file=f\"{tree_path}/{file_model}.png\", show_layer_names=True, show_shapes=True)"
   ]
  },
  {
   "cell_type": "code",
   "execution_count": 7,
   "metadata": {
    "colab": {
     "base_uri": "https://localhost:8080/",
     "height": 50
    },
    "colab_type": "code",
    "id": "9qxK4EFG2-2k",
    "outputId": "6dcd73ec-a43d-4380-b5e1-b4b3438b0748"
   },
   "outputs": [
    {
     "name": "stdout",
     "output_type": "stream",
     "text": [
      "Found 7135 images belonging to 3 classes.\n",
      "Found 1529 images belonging to 3 classes.\n",
      "Found 1530 images belonging to 3 classes.\n"
     ]
    }
   ],
   "source": [
    "# preprocessing\n",
    "# https://machinelearningmastery.com/how-to-configure-image-data-augmentation-when-training-deep-learning-neural-networks/\n",
    "# https://www.pyimagesearch.com/2019/07/08/keras-imagedatagenerator-and-data-augmentation/\n",
    "\n",
    "train_gen = ImageDataGenerator(width_shift_range=[0,0.2],\n",
    "                            height_shift_range=[0,0.2],\n",
    "                            zoom_range=[0.8,1.0],\n",
    "                            fill_mode=\"nearest\")\n",
    "# train_gen = ImageDataGenerator()\n",
    "\n",
    "# Set aug variable to save if the model used data augmentation or not\n",
    "aug = True\n",
    "if aug == True:\n",
    "    modelName = modelName+'Aug'\n",
    "\n",
    "test_gen = ImageDataGenerator()\n",
    "\n",
    "train_generator = train_gen.flow_from_directory(directory=train_dir,\n",
    "                                                    target_size=img_target_size,\n",
    "                                                    color_mode=\"rgb\",\n",
    "                                                    batch_size=batch_size,\n",
    "                                                    class_mode=\"categorical\",\n",
    "                                                    shuffle=True,\n",
    "                                                    seed=42\n",
    "                                                    )\n",
    "\n",
    "val_generator = test_gen.flow_from_directory(directory=val_dir,\n",
    "                                                    target_size=img_target_size,\n",
    "                                                    color_mode=\"rgb\",\n",
    "                                                    batch_size=batch_size,\n",
    "                                                    class_mode=\"categorical\",\n",
    "                                                    shuffle=True,\n",
    "                                                    seed=42\n",
    "                                                    )\n",
    "\n",
    "test_generator = test_gen.flow_from_directory(directory = test_dir,\n",
    "                                                    target_size = img_target_size,\n",
    "                                                    color_mode=\"rgb\",\n",
    "                                                    batch_size = batch_size,\n",
    "                                                    class_mode = \"categorical\",\n",
    "                                                    shuffle=True,\n",
    "                                                    seed=42\n",
    "                                                )"
   ]
  },
  {
   "cell_type": "code",
   "execution_count": 8,
   "metadata": {
    "colab": {
     "base_uri": "https://localhost:8080/",
     "height": 353
    },
    "colab_type": "code",
    "id": "NChQDcRF3CNF",
    "outputId": "b63ca0a5-b5e6-47e3-fa42-09f44e96076f"
   },
   "outputs": [
    {
     "name": "stdout",
     "output_type": "stream",
     "text": [
      "Epoch 1/10\n",
      "222/222 [==============================] - 114s 514ms/step - loss: 0.7748 - accuracy: 0.6890 - val_loss: 0.6101 - val_accuracy: 0.8398\n",
      "Epoch 2/10\n",
      "222/222 [==============================] - 103s 463ms/step - loss: 0.3841 - accuracy: 0.8468 - val_loss: 0.3872 - val_accuracy: 0.8390\n",
      "Epoch 3/10\n",
      "222/222 [==============================] - 102s 462ms/step - loss: 0.3446 - accuracy: 0.8665 - val_loss: 0.2072 - val_accuracy: 0.8684\n",
      "Epoch 4/10\n",
      "222/222 [==============================] - 103s 462ms/step - loss: 0.3167 - accuracy: 0.8750 - val_loss: 0.5617 - val_accuracy: 0.8664\n",
      "Epoch 5/10\n",
      "222/222 [==============================] - 103s 463ms/step - loss: 0.3127 - accuracy: 0.8775 - val_loss: 0.2310 - val_accuracy: 0.8764\n",
      "Epoch 6/10\n",
      "222/222 [==============================] - 103s 462ms/step - loss: 0.2924 - accuracy: 0.8855 - val_loss: 0.3466 - val_accuracy: 0.8711\n",
      "Epoch 7/10\n",
      "222/222 [==============================] - 103s 464ms/step - loss: 0.2808 - accuracy: 0.8896 - val_loss: 0.4638 - val_accuracy: 0.8517\n",
      "Epoch 8/10\n",
      "222/222 [==============================] - 104s 468ms/step - loss: 0.2665 - accuracy: 0.8879 - val_loss: 0.9145 - val_accuracy: 0.8510\n",
      "Epoch 9/10\n",
      "222/222 [==============================] - 103s 463ms/step - loss: 0.2710 - accuracy: 0.8896 - val_loss: 0.4046 - val_accuracy: 0.8537\n",
      "Epoch 10/10\n",
      "222/222 [==============================] - 103s 464ms/step - loss: 0.2603 - accuracy: 0.8927 - val_loss: 0.0780 - val_accuracy: 0.8477\n"
     ]
    }
   ],
   "source": [
    "history = model.fit_generator(generator = train_generator,\n",
    "                             steps_per_epoch = train_generator.n//batch_size,\n",
    "                             epochs = epochs,\n",
    "                             validation_data = val_generator,\n",
    "                             validation_steps = val_generator.n//batch_size\n",
    "                             )"
   ]
  },
  {
   "cell_type": "code",
   "execution_count": 10,
   "metadata": {
    "colab": {
     "base_uri": "https://localhost:8080/",
     "height": 34
    },
    "colab_type": "code",
    "id": "uC6O5NqM3De2",
    "outputId": "8a36b29b-4c76-4fdc-be0f-f83e14b99d72"
   },
   "outputs": [
    {
     "name": "stdout",
     "output_type": "stream",
     "text": [
      "Folder Models already exists\n",
      "./Models/ResNet50AugOR_Bs32_Ep10_Dr0.6_Lr0.005_patched\n",
      "./Models/ResNet50AugOR_Bs32_Ep10_Dr0.6_Lr0.005_patched.csv\n"
     ]
    }
   ],
   "source": [
    "# consider highlight the different values of hyperparameters used\n",
    "# OR orient o SL source light, Bs batch size, Ep epochs, Dr drop rate, Lr learning rate\n",
    "# CHECK ALWAYS BOOLEAN PATCH VALUES (on top)\n",
    "\n",
    "# create models folder if doesn't exist\n",
    "path_models = './Models/'\n",
    "if os.path.exists(path_models) == False:\n",
    "    os.makedirs(path_models)\n",
    "else: \n",
    "    print('Folder Models already exists')\n",
    "    \n",
    "# save model and history\n",
    "model.save(path_models + file_model + '.h5')\n",
    "print(file_model)\n",
    "\n",
    "#save history\n",
    "# create models folder if doesn't exist\n",
    "path_history = './History/'\n",
    "if os.path.exists(path_history) == False:\n",
    "    os.makedirs(path_history)\n",
    "else: \n",
    "    print('Folder History already exists')\n",
    "file_hist = path_history + file_model + '.csv'\n",
    "df_history = pd.DataFrame(history.history)\n",
    "with open(file_hist, 'w') as file:\n",
    "    df_history.to_csv(file)\n",
    "print(file_hist)"
   ]
  },
  {
   "cell_type": "code",
   "execution_count": 9,
   "metadata": {
    "colab": {
     "base_uri": "https://localhost:8080/",
     "height": 573
    },
    "colab_type": "code",
    "id": "F0Pb9kTB3FcA",
    "outputId": "6d15e8af-0201-40c7-c90a-4deef8ef5921"
   },
   "outputs": [
    {
     "data": {
      "image/png": "[encoded data removed]",
      "text/plain": [
       "<Figure size 432x288 with 1 Axes>"
      ]
     },
     "metadata": {
      "needs_background": "light"
     },
     "output_type": "display_data"
    },
    {
     "data": {
      "image/png": "[encoded data removed]",
      "text/plain": [
       "<Figure size 432x288 with 1 Axes>"
      ]
     },
     "metadata": {
      "needs_background": "light"
     },
     "output_type": "display_data"
    }
   ],
   "source": [
    "# Plot path\n",
    "plot_path = './Plots/'\n",
    "if os.path.exists(plot_path) == False:\n",
    "    os.makedirs(plot_path)\n",
    "else: \n",
    "    print('Folder Plots already exists')\n",
    "plot_file = plot_path + file_model + '.png'\n",
    "\n",
    "#plot results\n",
    "plt.plot(history.history['accuracy'])\n",
    "plt.plot(history.history['val_accuracy'])\n",
    "plt.title('model accuracy')\n",
    "plt.ylabel('accuracy')\n",
    "plt.xlabel('epoch')\n",
    "plt.legend(['train', 'val'], loc='upper left')\n",
    "plt.show()\n",
    "\n",
    "# summarize history for loss\n",
    "plt.plot(history.history['loss'])\n",
    "plt.plot(history.history['val_loss'])\n",
    "plt.title('model loss')\n",
    "plt.ylabel('loss')\n",
    "plt.xlabel('epoch')\n",
    "plt.legend(['train', 'val'], loc='upper left')\n",
    "plt.show()\n",
    "\n",
    "plt.savefig(plot_file)"
   ]
  },
  {
   "cell_type": "code",
   "execution_count": 11,
   "metadata": {
    "colab": {
     "base_uri": "https://localhost:8080/",
     "height": 151
    },
    "colab_type": "code",
    "id": "q378f0hG3H8s",
    "outputId": "d1872bde-92ba-450a-9841-8035099cefef"
   },
   "outputs": [
    {
     "name": "stdout",
     "output_type": "stream",
     "text": [
      "[0.6234421133995056, 0.8530585169792175]\n"
     ]
    }
   ],
   "source": [
    "#evaluation\n",
    "# https://stackoverflow.com/questions/40564936/keras-what-is-the-difference-between-model-evaluate-generator-and-model-predict\n",
    "steps = test_generator.n // test_generator.batch_size\n",
    "accuracy_ontest = model.evaluate_generator(test_generator, steps)\n",
    "print(accuracy_ontest)"
   ]
  },
  {
   "cell_type": "code",
   "execution_count": null,
   "metadata": {},
   "outputs": [],
   "source": []
  }
 ],
 "metadata": {
  "accelerator": "GPU",
  "colab": {
   "authorship_tag": "ABX9TyORzwQ9xwlZuWfJw7HkNd3a",
   "include_colab_link": true,
   "name": "TransferLearningResNet50_sourceLight",
   "provenance": []
  },
  "kernelspec": {
   "display_name": "Python 3",
   "language": "python",
   "name": "python3"
  },
  "language_info": {
   "codemirror_mode": {
    "name": "ipython",
    "version": 3
   },
   "file_extension": ".py",
   "mimetype": "text/x-python",
   "name": "python",
   "nbconvert_exporter": "python",
   "pygments_lexer": "ipython3",
   "version": "3.7.3"
  }
 },
 "nbformat": 4,
 "nbformat_minor": 1
}
