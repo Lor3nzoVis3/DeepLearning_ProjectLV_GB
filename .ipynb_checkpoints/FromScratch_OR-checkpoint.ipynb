{
 "cells": [
  {
   "cell_type": "markdown",
   "metadata": {
    "colab_type": "text",
    "id": "view-in-github"
   },
   "source": [
    "<a href=\"https://colab.research.google.com/github/Lor3nzoVis3/DeepLearning_ProjectLV_GB/blob/master/FromScratch.ipynb\" target=\"_parent\"><img src=\"https://colab.research.google.com/assets/colab-badge.svg\" alt=\"Open In Colab\"/></a>"
   ]
  },
  {
   "cell_type": "code",
   "execution_count": 1,
   "metadata": {
    "colab": {},
    "colab_type": "code",
    "id": "2jUKpzuaOVxc"
   },
   "outputs": [
    {
     "name": "stderr",
     "output_type": "stream",
     "text": [
      "Using TensorFlow backend.\n"
     ]
    }
   ],
   "source": [
    "\"\"\"\n",
    "@authors: LorenzoVisentini and Gianmarco Bolcato\n",
    "\"\"\"\n",
    "\n",
    "modelName = \"FromScratch\"\n",
    "\n",
    "\n",
    "#import\n",
    "import os\n",
    "import numpy as np\n",
    "import pandas as pd\n",
    "import matplotlib.pyplot as plt\n",
    "\n",
    "#keras\n",
    "# import keras\n",
    "from keras.layers import Dense, Dropout, Flatten, Conv2D\n",
    "from keras.layers import BatchNormalization, MaxPooling2D, Dropout\n",
    "from keras.models import Model, Sequential\n",
    "from keras import optimizers\n",
    "from keras.preprocessing.image  import ImageDataGenerator\n",
    "from keras.utils import plot_model\n",
    "from keras_adabound import AdaBound"
   ]
  },
  {
   "cell_type": "code",
   "execution_count": 2,
   "metadata": {
    "colab": {
     "base_uri": "https://localhost:8080/",
     "height": 34
    },
    "colab_type": "code",
    "id": "wnhRbECxPMlP",
    "outputId": "f06f9f8c-c177-4632-db6c-b2401af2d61e"
   },
   "outputs": [],
   "source": [
    "# link with Google Drive\n",
    "from google.colab import drive\n",
    "drive.mount('/content/drive')"
   ]
  },
  {
   "cell_type": "code",
   "execution_count": 3,
   "metadata": {
    "colab": {},
    "colab_type": "code",
    "id": "bkt1Gm2GPO60"
   },
   "outputs": [],
   "source": [
    "#Images parameters\n",
    "img_width = 178 \n",
    "img_height = 218\n",
    "img_target_size = (img_height, img_width)\n",
    "shape = (img_height, img_width, 3)\n",
    "\n",
    "# Source Light\n",
    "# Jupyter notebook paths\n",
    "# train_dir = './orient/train'\n",
    "# val_dir = './orient/val' \n",
    "# test_dir = './orient/test' \n",
    "\n",
    "# Google Colab paths\n",
    "train_dir = '/content/drive/My Drive/Deep Learning Project - Image Classification/orient/train'\n",
    "val_dir = '/content/drive/My Drive/Deep Learning Project - Image Classification/orient/val' \n",
    "test_dir = '/content/drive/My Drive/Deep Learning Project - Image Classification/orient/test' "
   ]
  },
  {
   "cell_type": "code",
   "execution_count": 4,
   "metadata": {},
   "outputs": [],
   "source": [
    "n_classes = 3\n",
    "\n",
    "# Hyperparameters\n",
    "batch_size = 16\n",
    "epochs = 15\n",
    "conv_depth = 16\n",
    "drop_rate = 0.7\n",
    "lr = 0.005\n",
    "\n",
    "\n",
    "# Set aug variable to save if the model used data augmentation or not\n",
    "aug = False\n",
    "if aug == True:\n",
    "    modelName = modelName+'Aug'\n",
    "    \n",
    "    \n",
    "# Give a model a unique name\n",
    "file_model = modelName + 'SGD_ OR' + '_Bs' + str(batch_size) + '_Ep' + str(epochs) + '_Dr' + str(drop_rate) + '_ConvD' + str(conv_depth) +'_Lr' + str(lr)"
   ]
  },
  {
   "cell_type": "code",
   "execution_count": 5,
   "metadata": {
    "colab": {},
    "colab_type": "code",
    "id": "F9PWfuatPRrf"
   },
   "outputs": [
    {
     "name": "stdout",
     "output_type": "stream",
     "text": [
      "WARNING:tensorflow:Large dropout rate: 0.7 (>0.5). In TensorFlow 2.x, dropout() uses dropout rate instead of keep_prob. Please ensure that this is intended.\n",
      "Model: \"sequential_1\"\n",
      "_________________________________________________________________\n",
      "Layer (type)                 Output Shape              Param #   \n",
      "=================================================================\n",
      "conv2d_1 (Conv2D)            (None, 216, 176, 16)      448       \n",
      "_________________________________________________________________\n",
      "conv2d_2 (Conv2D)            (None, 214, 174, 16)      2320      \n",
      "_________________________________________________________________\n",
      "batch_normalization_1 (Batch (None, 214, 174, 16)      64        \n",
      "_________________________________________________________________\n",
      "max_pooling2d_1 (MaxPooling2 (None, 107, 87, 16)       0         \n",
      "_________________________________________________________________\n",
      "dropout_1 (Dropout)          (None, 107, 87, 16)       0         \n",
      "_________________________________________________________________\n",
      "conv2d_3 (Conv2D)            (None, 105, 85, 16)       2320      \n",
      "_________________________________________________________________\n",
      "conv2d_4 (Conv2D)            (None, 103, 83, 16)       2320      \n",
      "_________________________________________________________________\n",
      "batch_normalization_2 (Batch (None, 103, 83, 16)       64        \n",
      "_________________________________________________________________\n",
      "max_pooling2d_2 (MaxPooling2 (None, 51, 41, 16)        0         \n",
      "_________________________________________________________________\n",
      "dropout_2 (Dropout)          (None, 51, 41, 16)        0         \n",
      "_________________________________________________________________\n",
      "conv2d_5 (Conv2D)            (None, 49, 39, 32)        4640      \n",
      "_________________________________________________________________\n",
      "batch_normalization_3 (Batch (None, 49, 39, 32)        128       \n",
      "_________________________________________________________________\n",
      "conv2d_6 (Conv2D)            (None, 47, 37, 32)        9248      \n",
      "_________________________________________________________________\n",
      "batch_normalization_4 (Batch (None, 47, 37, 32)        128       \n",
      "_________________________________________________________________\n",
      "max_pooling2d_3 (MaxPooling2 (None, 23, 18, 32)        0         \n",
      "_________________________________________________________________\n",
      "dropout_3 (Dropout)          (None, 23, 18, 32)        0         \n",
      "_________________________________________________________________\n",
      "conv2d_7 (Conv2D)            (None, 19, 14, 32)        25632     \n",
      "_________________________________________________________________\n",
      "batch_normalization_5 (Batch (None, 19, 14, 32)        128       \n",
      "_________________________________________________________________\n",
      "conv2d_8 (Conv2D)            (None, 15, 10, 32)        25632     \n",
      "_________________________________________________________________\n",
      "batch_normalization_6 (Batch (None, 15, 10, 32)        128       \n",
      "_________________________________________________________________\n",
      "max_pooling2d_4 (MaxPooling2 (None, 7, 5, 32)          0         \n",
      "_________________________________________________________________\n",
      "dropout_4 (Dropout)          (None, 7, 5, 32)          0         \n",
      "_________________________________________________________________\n",
      "flatten_1 (Flatten)          (None, 1120)              0         \n",
      "_________________________________________________________________\n",
      "dense_1 (Dense)              (None, 512)               573952    \n",
      "_________________________________________________________________\n",
      "batch_normalization_7 (Batch (None, 512)               2048      \n",
      "_________________________________________________________________\n",
      "dropout_5 (Dropout)          (None, 512)               0         \n",
      "_________________________________________________________________\n",
      "dense_2 (Dense)              (None, 3)                 1539      \n",
      "=================================================================\n",
      "Total params: 650,739\n",
      "Trainable params: 649,395\n",
      "Non-trainable params: 1,344\n",
      "_________________________________________________________________\n"
     ]
    }
   ],
   "source": [
    "# Model\n",
    "model = Sequential()\n",
    "\n",
    "model.add(Conv2D(conv_depth, kernel_size = (3,3), activation= 'relu', input_shape = shape))\n",
    "model.add(Conv2D(conv_depth, kernel_size = (3,3), activation= 'relu'))\n",
    "model.add(BatchNormalization())\n",
    "model.add(MaxPooling2D(pool_size=(2, 2),strides=2))\n",
    "model.add(Dropout(drop_rate//2))\n",
    "\n",
    "model.add(Conv2D(conv_depth, kernel_size = (3,3), activation= 'relu'))\n",
    "model.add(Conv2D(conv_depth, kernel_size = (3,3), activation= 'relu'))\n",
    "model.add(BatchNormalization())\n",
    "model.add(MaxPooling2D(pool_size=(2, 2),strides=2))\n",
    "model.add(Dropout(drop_rate//2))\n",
    "\n",
    "model.add(Conv2D(conv_depth*2, kernel_size = (3,3), activation= 'relu'))\n",
    "model.add(BatchNormalization())\n",
    "model.add(Conv2D(conv_depth*2, kernel_size = (3,3), activation= 'relu'))\n",
    "model.add(BatchNormalization())\n",
    "model.add(MaxPooling2D(pool_size=(2, 2),strides=2))\n",
    "model.add(Dropout(drop_rate//2))\n",
    "\n",
    "model.add(Conv2D(conv_depth*2, kernel_size = (5,5), activation= 'relu'))\n",
    "model.add(BatchNormalization())\n",
    "model.add(Conv2D(conv_depth*2, kernel_size = (5,5), activation= 'relu'))\n",
    "model.add(BatchNormalization())\n",
    "model.add(MaxPooling2D(pool_size=(2, 2),strides=2))\n",
    "model.add(Dropout(drop_rate//2))\n",
    "\n",
    "model.add(Flatten())\n",
    "model.add(Dense(512, activation= 'relu'))\n",
    "model.add(BatchNormalization())\n",
    "model.add(Dropout(drop_rate))\n",
    "\n",
    "model.add(Dense(n_classes, activation= 'softmax'))\n",
    "\n",
    "# custom optimizer\n",
    "opt = optimizers.SGD(learning_rate=lr)\n",
    "# AdaBound(lr=lr)\n",
    "\n",
    "\n",
    "model.compile(optimizer = opt,\n",
    "              loss = 'categorical_crossentropy',  \n",
    "              metrics = ['accuracy'])\n",
    "\n",
    "model.summary()"
   ]
  },
  {
   "cell_type": "code",
   "execution_count": 1,
   "metadata": {},
   "outputs": [
    {
     "ename": "NameError",
     "evalue": "name 'os' is not defined",
     "output_type": "error",
     "traceback": [
      "\u001b[1;31m---------------------------------------------------------------------------\u001b[0m",
      "\u001b[1;31mNameError\u001b[0m                                 Traceback (most recent call last)",
      "\u001b[1;32m<ipython-input-1-94904155f14f>\u001b[0m in \u001b[0;36m<module>\u001b[1;34m\u001b[0m\n\u001b[0;32m      1\u001b[0m \u001b[1;31m# plot model tree\u001b[0m\u001b[1;33m\u001b[0m\u001b[1;33m\u001b[0m\u001b[1;33m\u001b[0m\u001b[0m\n\u001b[0;32m      2\u001b[0m \u001b[1;31m# tree_path = './ModelTrees/'\u001b[0m\u001b[1;33m\u001b[0m\u001b[1;33m\u001b[0m\u001b[1;33m\u001b[0m\u001b[0m\n\u001b[1;32m----> 3\u001b[1;33m \u001b[1;32mif\u001b[0m \u001b[0mos\u001b[0m\u001b[1;33m.\u001b[0m\u001b[0mpath\u001b[0m\u001b[1;33m.\u001b[0m\u001b[0mexists\u001b[0m\u001b[1;33m(\u001b[0m\u001b[0mtree_path\u001b[0m\u001b[1;33m)\u001b[0m \u001b[1;33m==\u001b[0m \u001b[1;32mFalse\u001b[0m\u001b[1;33m:\u001b[0m\u001b[1;33m\u001b[0m\u001b[1;33m\u001b[0m\u001b[0m\n\u001b[0m\u001b[0;32m      4\u001b[0m     \u001b[0mos\u001b[0m\u001b[1;33m.\u001b[0m\u001b[0mmakedirs\u001b[0m\u001b[1;33m(\u001b[0m\u001b[0mtree_path\u001b[0m\u001b[1;33m)\u001b[0m\u001b[1;33m\u001b[0m\u001b[1;33m\u001b[0m\u001b[0m\n\u001b[0;32m      5\u001b[0m \u001b[1;32melse\u001b[0m\u001b[1;33m:\u001b[0m\u001b[1;33m\u001b[0m\u001b[1;33m\u001b[0m\u001b[0m\n",
      "\u001b[1;31mNameError\u001b[0m: name 'os' is not defined"
     ]
    }
   ],
   "source": [
    "# Plot model tree\n",
    "# tree_path = './ModelTrees/'\n",
    "tree_path = '/content/drive/My Drive/Deep Learning Project - Image Classification/ModelTrees' \n",
    "\n",
    "if os.path.exists(tree_path) == False:\n",
    "    os.makedirs(tree_path)\n",
    "else: \n",
    "    print('Folder Plots already exists')\n",
    "plot_model(model, to_file=f\"{tree_path}/{file_model}.png\", show_layer_names=True, show_shapes=True)"
   ]
  },
  {
   "cell_type": "code",
   "execution_count": 7,
   "metadata": {
    "colab": {
     "base_uri": "https://localhost:8080/",
     "height": 50
    },
    "colab_type": "code",
    "id": "widg6uNKPa5g",
    "outputId": "c983ddd2-c901-4d07-a9fe-227106d02986"
   },
   "outputs": [
    {
     "name": "stdout",
     "output_type": "stream",
     "text": [
      "Found 7135 images belonging to 3 classes.\n",
      "Found 1529 images belonging to 3 classes.\n",
      "Found 1530 images belonging to 3 classes.\n"
     ]
    }
   ],
   "source": [
    "# Preprocessing\n",
    "\n",
    "# Data augmentation\n",
    "# train_gen = ImageDataGenerator(width_shift_range=[0,0.1],\n",
    "#                             height_shift_range=[0,0.1],\n",
    "#                             zoom_range=[0.85,1.0],\n",
    "#                             fill_mode=\"nearest\")\n",
    "\n",
    "# Without\n",
    "train_gen = ImageDataGenerator()\n",
    "\n",
    "test_gen = ImageDataGenerator()\n",
    "\n",
    "\n",
    "train_generator = train_gen.flow_from_directory(directory=train_dir,\n",
    "                                                    target_size=img_target_size,\n",
    "                                                    color_mode=\"rgb\",\n",
    "                                                    batch_size=batch_size,\n",
    "                                                    class_mode=\"categorical\",\n",
    "                                                    shuffle=True,\n",
    "                                                    seed=42\n",
    "                                                    )\n",
    "\n",
    "val_generator = test_gen.flow_from_directory(directory=val_dir,\n",
    "                                                    target_size=img_target_size,\n",
    "                                                    color_mode=\"rgb\",\n",
    "                                                    batch_size=batch_size,\n",
    "                                                    class_mode=\"categorical\",\n",
    "                                                    shuffle=True,\n",
    "                                                    seed=42\n",
    "                                                    )\n",
    "\n",
    "test_generator = test_gen.flow_from_directory(directory = test_dir,\n",
    "                                                    target_size = img_target_size,\n",
    "                                                    color_mode=\"rgb\",\n",
    "                                                    batch_size = batch_size,\n",
    "                                                    class_mode = \"categorical\",\n",
    "                                                    shuffle=True,\n",
    "                                                    seed=42\n",
    "                                                )"
   ]
  },
  {
   "cell_type": "code",
   "execution_count": 8,
   "metadata": {
    "colab": {
     "base_uri": "https://localhost:8080/",
     "height": 353
    },
    "colab_type": "code",
    "id": "IVNt2_-ydsSZ",
    "outputId": "27ccaa46-6c62-4f6c-a8fe-10427c07aa43"
   },
   "outputs": [
    {
     "name": "stdout",
     "output_type": "stream",
     "text": [
      "Epoch 1/15\n",
      "445/445 [==============================] - 47s 106ms/step - loss: 1.5945 - accuracy: 0.4321 - val_loss: 0.8259 - val_accuracy: 0.6487\n",
      "Epoch 2/15\n",
      "445/445 [==============================] - 45s 102ms/step - loss: 0.9852 - accuracy: 0.5549 - val_loss: 0.4819 - val_accuracy: 0.7541\n",
      "Epoch 3/15\n",
      "445/445 [==============================] - 45s 101ms/step - loss: 0.7903 - accuracy: 0.6473 - val_loss: 0.7788 - val_accuracy: 0.7786\n",
      "Epoch 4/15\n",
      "445/445 [==============================] - 45s 101ms/step - loss: 0.7173 - accuracy: 0.6853 - val_loss: 0.4548 - val_accuracy: 0.7997TA: 33 - ET - ETA: 26s - loss: 0.7456 - accuracy:  - ETA: 25s - loss: 0 - ETA: 1s - loss: 0.7165  - ETA: 0s - loss: 0.7179 - accuracy: 0. - ETA: 0s - loss: 0.7176 - accuracy: 0.\n",
      "Epoch 5/15\n",
      "445/445 [==============================] - 45s 101ms/step - loss: 0.6571 - accuracy: 0.7174 - val_loss: 0.3846 - val_accuracy: 0.7845\n",
      "Epoch 6/15\n",
      "445/445 [==============================] - 45s 101ms/step - loss: 0.6259 - accuracy: 0.7366 - val_loss: 0.6750 - val_accuracy: 0.7555 loss: 0.6383 - ETA: 32s - loss: 0.6389 - a - ETA: 30s - loss: 0.6276 \n",
      "Epoch 7/15\n",
      "445/445 [==============================] - 45s 101ms/step - loss: 0.5992 - accuracy: 0.7463 - val_loss: 0.6261 - val_accuracy: 0.7687\n",
      "Epoch 8/15\n",
      "445/445 [==============================] - 45s 100ms/step - loss: 0.5710 - accuracy: 0.7658 - val_loss: 0.4058 - val_accuracy: 0.8348loss: 0.5856 - accurac - ETA: 31s - loss\n",
      "Epoch 9/15\n",
      "445/445 [==============================] - 45s 100ms/step - loss: 0.5434 - accuracy: 0.7771 - val_loss: 0.2280 - val_accuracy: 0.8341\n",
      "Epoch 10/15\n",
      "445/445 [==============================] - 44s 100ms/step - loss: 0.5146 - accuracy: 0.7875 - val_loss: 0.2069 - val_accuracy: 0.8486\n",
      "Epoch 11/15\n",
      "445/445 [==============================] - 45s 100ms/step - loss: 0.4999 - accuracy: 0.7981 - val_loss: 0.3248 - val_accuracy: 0.8407- loss: 0.4731 - accuracy: 0 - ETA: 15s - loss: 0.4728 - - ETA: 1 - ETA: 10s - loss:  - ETA: 8s - loss: 0.4844 - accuracy: 0.80 - - - ETA: 0s - loss: 0.4977 - accuracy\n",
      "Epoch 12/15\n",
      "445/445 [==============================] - 45s 101ms/step - loss: 0.4975 - accuracy: 0.7988 - val_loss: 0.3766 - val_accuracy: 0.8156\n",
      "Epoch 13/15\n",
      "445/445 [==============================] - 45s 100ms/step - loss: 0.4819 - accuracy: 0.8091 - val_loss: 0.5202 - val_accuracy: 0.8486\n",
      "Epoch 14/15\n",
      "445/445 [==============================] - 44s 100ms/step - loss: 0.4749 - accuracy: 0.8105 - val_loss: 0.7351 - val_accuracy: 0.8473\n",
      "Epoch 15/15\n",
      "445/445 [==============================] - 44s 100ms/step - loss: 0.4650 - accuracy: 0.8142 - val_loss: 0.2656 - val_accuracy: 0.8427\n"
     ]
    }
   ],
   "source": [
    "# Training\n",
    "history = model.fit_generator(generator = train_generator,\n",
    "                             steps_per_epoch = train_generator.n//batch_size,\n",
    "                             epochs = epochs,\n",
    "                             validation_data = val_generator,\n",
    "                             validation_steps=val_generator.n//batch_size\n",
    "                             )"
   ]
  },
  {
   "cell_type": "code",
   "execution_count": 9,
   "metadata": {
    "colab": {
     "base_uri": "https://localhost:8080/",
     "height": 34
    },
    "colab_type": "code",
    "id": "J5zMfS8TeRcN",
    "outputId": "d34aef99-f78c-4b2f-aa4f-74d906ca2e2f"
   },
   "outputs": [
    {
     "name": "stdout",
     "output_type": "stream",
     "text": [
      "Folder Models already exists\n",
      "FromScratchAugSGD_ OR_Bs16_Ep15_Dr0.7_ConvD16_Lr0.004\n",
      "Folder History already exists\n",
      "./History/FromScratchAugSGD_ OR_Bs16_Ep15_Dr0.7_ConvD16_Lr0.004.csv\n"
     ]
    }
   ],
   "source": [
    "# consider highlight the different values of hyperparameters used\n",
    "# OR orient o SL source light, Bs batch size, Ep epochs, Dr drop rate, Lr learning rate\n",
    "# CHECK ALWAYS BOOLEAN PATCH VALUES (on top)\n",
    "\n",
    "# Save model\n",
    "# create models folder if doesn't exist\n",
    "# path_models = './Models/'\n",
    "path_models = '/content/drive/My Drive/Deep Learning Project - Image Classification/Models/' \n",
    "\n",
    "if os.path.exists(path_models) == False:\n",
    "    os.makedirs(path_models)\n",
    "else: \n",
    "    print('Folder Models already exists')\n",
    "\n",
    "model.save(path_models + file_model + '.h5')\n",
    "print(file_model)\n",
    "\n",
    "\n",
    "# Save history\n",
    "# create models folder if doesn't exist\n",
    "# path_history = './History/'\n",
    "path_history = '/content/drive/My Drive/Deep Learning Project - Image Classification/History/' \n",
    "\n",
    "if os.path.exists(path_history) == False:\n",
    "    os.makedirs(path_history)\n",
    "else: \n",
    "    print('Folder History already exists')\n",
    "file_hist = path_history + file_model + '.csv'\n",
    "df_history = pd.DataFrame(history.history)\n",
    "with open(file_hist, 'w') as file:\n",
    "    df_history.to_csv(file)\n",
    "print(file_hist)"
   ]
  },
  {
   "cell_type": "code",
   "execution_count": 10,
   "metadata": {
    "colab": {
     "base_uri": "https://localhost:8080/",
     "height": 573
    },
    "colab_type": "code",
    "id": "0Iq2k-jpeTmf",
    "outputId": "cdafc51c-bb2e-4868-9995-4b0ed6d170ff"
   },
   "outputs": [
    {
     "name": "stdout",
     "output_type": "stream",
     "text": [
      "Folder Plots already exists\n"
     ]
    },
    {
     "data": {
      "image/png": "[encoded data removed]",
      "text/plain": [
       "<Figure size 432x288 with 1 Axes>"
      ]
     },
     "metadata": {
      "needs_background": "light"
     },
     "output_type": "display_data"
    },
    {
     "data": {
      "image/png": "[encoded data removed]",
      "text/plain": [
       "<Figure size 432x288 with 1 Axes>"
      ]
     },
     "metadata": {
      "needs_background": "light"
     },
     "output_type": "display_data"
    }
   ],
   "source": [
    "# Plot path\n",
    "# plot_path = './Plots/'\n",
    "plot_path = '/content/drive/My Drive/Deep Learning Project - Image Classification/History/' \n",
    "\n",
    "if os.path.exists(plot_path) == False:\n",
    "    os.makedirs(plot_path)\n",
    "else: \n",
    "    print('Folder Plots already exists')\n",
    "plot_file = file_model + '.jpg'\n",
    "\n",
    "\n",
    "# plot results\n",
    "# Accuracy\n",
    "plt.plot(history.history['accuracy'])\n",
    "plt.plot(history.history['val_accuracy'])\n",
    "plt.title('model accuracy')\n",
    "plt.ylabel('accuracy')\n",
    "plt.xlabel('epoch')\n",
    "plt.legend(['train', 'val'], loc='upper left')\n",
    "\n",
    "plt.savefig(plot_path + 'Accuracy' + plot_file)\n",
    "\n",
    "plt.show()\n",
    "\n",
    "# Loss\n",
    "plt.plot(history.history['loss'])\n",
    "plt.plot(history.history['val_loss'])\n",
    "plt.title('model loss')\n",
    "plt.ylabel('loss')\n",
    "plt.xlabel('epoch')\n",
    "plt.legend(['train', 'val'], loc='upper left')\n",
    "\n",
    "plt.savefig(plot_path + 'Loss' + plot_file)\n",
    "\n",
    "plt.show()"
   ]
  },
  {
   "cell_type": "code",
   "execution_count": 11,
   "metadata": {
    "colab": {
     "base_uri": "https://localhost:8080/",
     "height": 151
    },
    "colab_type": "code",
    "id": "uAVuWVxIeWTA",
    "outputId": "c39731a4-099a-4fbb-8435-6c0b7f748dbf"
   },
   "outputs": [
    {
     "name": "stdout",
     "output_type": "stream",
     "text": [
      "[0.5527030229568481, 0.8578947186470032]\n"
     ]
    }
   ],
   "source": [
    "# Predict\n",
    "steps = test_generator.n // test_generator.batch_size\n",
    "accuracy_ontest = model.evaluate_generator(test_generator, steps)\n",
    "print(accuracy_ontest)"
   ]
  },
  {
   "cell_type": "code",
   "execution_count": null,
   "metadata": {},
   "outputs": [],
   "source": []
  }
 ],
 "metadata": {
  "accelerator": "GPU",
  "colab": {
   "authorship_tag": "ABX9TyPtQ7KXkTkZS5Vu7zwR5p5Y",
   "include_colab_link": true,
   "name": "FromScratch.ipynb",
   "provenance": []
  },
  "kernelspec": {
   "display_name": "Python 3",
   "language": "python",
   "name": "python3"
  },
  "language_info": {
   "codemirror_mode": {
    "name": "ipython",
    "version": 3
   },
   "file_extension": ".py",
   "mimetype": "text/x-python",
   "name": "python",
   "nbconvert_exporter": "python",
   "pygments_lexer": "ipython3",
   "version": "3.7.3"
  }
 },
 "nbformat": 4,
 "nbformat_minor": 1
}
