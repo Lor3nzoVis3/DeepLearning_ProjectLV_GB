{
  "nbformat": 4,
  "nbformat_minor": 0,
  "metadata": {
    "colab": {
      "name": "TransferLearningV3.ipynb",
      "provenance": [],
      "collapsed_sections": [],
      "include_colab_link": true
    },
    "kernelspec": {
      "display_name": "Python 3",
      "language": "python",
      "name": "python3"
    },
    "language_info": {
      "codemirror_mode": {
        "name": "ipython",
        "version": 3
      },
      "file_extension": ".py",
      "mimetype": "text/x-python",
      "name": "python",
      "nbconvert_exporter": "python",
      "pygments_lexer": "ipython3",
      "version": "3.7.3"
    },
    "accelerator": "GPU"
  },
  "cells": [
    {
      "cell_type": "markdown",
      "metadata": {
        "id": "view-in-github",
        "colab_type": "text"
      },
      "source": [
        "<a href=\"https://colab.research.google.com/github/Lor3nzoVis3/DeepLearning_ProjectLV_GB/blob/master/TransferLearningV3.ipynb\" target=\"_parent\"><img src=\"https://colab.research.google.com/assets/colab-badge.svg\" alt=\"Open In Colab\"/></a>"
      ]
    },
    {
      "cell_type": "code",
      "metadata": {
        "colab_type": "code",
        "id": "dLWDTXgdyOa6",
        "colab": {}
      },
      "source": [
        "\"\"\"\n",
        "@author: LorenzoVisentini\n",
        "\"\"\"\n",
        "\n",
        "#import\n",
        "import numpy as np\n",
        "import pandas as pd\n",
        "import matplotlib.pyplot as plt\n",
        "\n",
        "from sklearn.model_selection import train_test_split\n",
        "#keras\n",
        "import keras\n",
        "from keras.layers import Dense, Dropout, Flatten, GlobalAveragePooling2D\n",
        "from keras.models import Model\n",
        "from keras import optimizers\n",
        "from keras.preprocessing.image import ImageDataGenerator\n",
        "#inception v3\n",
        "from keras.applications.inception_v3 import InceptionV3\n",
        "from keras.applications.inception_v3 import preprocess_input, decode_predictions"
      ],
      "execution_count": 22,
      "outputs": []
    },
    {
      "cell_type": "code",
      "metadata": {
        "id": "h7TvUtZWCd3W",
        "colab_type": "code",
        "colab": {
          "base_uri": "https://localhost:8080/",
          "height": 121
        },
        "outputId": "35cee279-4a19-40fe-eabe-16c8c4832043"
      },
      "source": [
        "from google.colab import drive\n",
        "drive.mount('/content/drive')"
      ],
      "execution_count": null,
      "outputs": [
        {
          "output_type": "stream",
          "text": [
            "Go to this URL in a browser: https://accounts.google.com/o/oauth2/auth?client_id=947318989803-6bn6qk8qdgf4n4g3pfee6491hc0brc4i.apps.googleusercontent.com&redirect_uri=urn%3aietf%3awg%3aoauth%3a2.0%3aoob&response_type=code&scope=email%20https%3a%2f%2fwww.googleapis.com%2fauth%2fdocs.test%20https%3a%2f%2fwww.googleapis.com%2fauth%2fdrive%20https%3a%2f%2fwww.googleapis.com%2fauth%2fdrive.photos.readonly%20https%3a%2f%2fwww.googleapis.com%2fauth%2fpeopleapi.readonly\n",
            "\n",
            "Enter your authorization code:\n",
            "··········\n",
            "Mounted at /content/drive\n"
          ],
          "name": "stdout"
        }
      ]
    },
    {
      "cell_type": "code",
      "metadata": {
        "colab_type": "code",
        "id": "CWOmwzOeySHO",
        "colab": {}
      },
      "source": [
        "#Images parameters\n",
        "img_width = 299\n",
        "img_height = 299\n",
        "\n",
        "# train_dir = './source_light/training'\n",
        "# validation_dir = './source_light/validation' \n",
        "train_dir = '/content/drive/My Drive/Deep Learning Project - Image Classification/source_light/training'\n",
        "validation_dir = '/content/drive/My Drive/Deep Learning Project - Image Classification/source_light/validation' \n"
      ],
      "execution_count": 23,
      "outputs": []
    },
    {
      "cell_type": "code",
      "metadata": {
        "colab_type": "code",
        "id": "ytYyW1qpyTWm",
        "colab": {}
      },
      "source": [
        "#from https://edebrouwer.github.io/deeplearning/carvision/transfer/neural/networks/learning/2017/08/05/TransferLearning.html\n",
        "\n",
        "#Transfer learning on InceptionV3 model\n",
        "#use all the layers except for the last fully connected layer (because its \n",
        "#specific to the ImageNet competition)\n",
        "#we will retrain layers with new inputs\n",
        "pre_trained_model = InceptionV3(input_shape = (img_height, img_width, 3),\n",
        "                               include_top = False, #exclude last flatten layer\n",
        "                               weights = 'imagenet' #weights from imageNet\n",
        "                               ) \n",
        "\n",
        "# pre_trained_model.summary() #check V3 structure"
      ],
      "execution_count": 24,
      "outputs": []
    },
    {
      "cell_type": "code",
      "metadata": {
        "colab_type": "code",
        "id": "PzRXA6HMylNv",
        "colab": {}
      },
      "source": [
        "n_classes = 3\n",
        "\n",
        "#transfer learning phase\n",
        "x = pre_trained_model.output\n",
        "x = GlobalAveragePooling2D()(x)\n",
        "x = Dense(1024, activation= 'relu')(x) #add fully connected layer\n",
        "x = Dense(n_classes, activation= 'softmax')(x)\n",
        "model = Model(inputs = pre_trained_model.input, outputs = x)\n",
        "\n",
        "#freeze the model excepted added layers\n",
        "#freeze the model excepted added layers\n",
        "for layer in pre_trained_model.layers:\n",
        "    layer.trainable = False\n",
        "\n",
        "model.compile(optimizer = 'Adam',\n",
        "              loss = 'categorical_crossentropy',  #because we have 3 possible outputs\n",
        "              metrics = ['accuracy'])"
      ],
      "execution_count": 25,
      "outputs": []
    },
    {
      "cell_type": "code",
      "metadata": {
        "colab_type": "code",
        "id": "DscGjJZl2mHk",
        "colab": {
          "base_uri": "https://localhost:8080/",
          "height": 50
        },
        "outputId": "3f38f096-75fc-4244-d9fe-592262db2773"
      },
      "source": [
        "#preprocessing\n",
        "train_datagen = ImageDataGenerator(preprocessing_function = preprocess_input)\n",
        "train_generator = train_datagen.flow_from_directory(directory=train_dir,\n",
        "                                                    target_size=(img_height, img_width),\n",
        "                                                    color_mode=\"rgb\",\n",
        "                                                    batch_size=64,\n",
        "                                                    class_mode=\"categorical\",\n",
        "                                                    shuffle=True,\n",
        "                                                    seed=42\n",
        "                                                    )\n",
        "\n",
        "val_datagen = ImageDataGenerator(preprocessing_function=preprocess_input)\n",
        "val_generator = val_datagen.flow_from_directory(directory=validation_dir,\n",
        "                                                    target_size=(img_height, img_width),\n",
        "                                                    color_mode=\"rgb\",\n",
        "                                                    batch_size=64,\n",
        "                                                    class_mode=\"categorical\",\n",
        "                                                    shuffle=True,\n",
        "                                                    seed=42\n",
        "                                                    )"
      ],
      "execution_count": 26,
      "outputs": [
        {
          "output_type": "stream",
          "text": [
            "Found 7000 images belonging to 3 classes.\n",
            "Found 3000 images belonging to 3 classes.\n"
          ],
          "name": "stdout"
        }
      ]
    },
    {
      "cell_type": "code",
      "metadata": {
        "id": "ZgVssD27zr1L",
        "colab_type": "code",
        "colab": {
          "base_uri": "https://localhost:8080/",
          "height": 353
        },
        "outputId": "aabdc019-6e9c-47da-fc39-405887bfbdf4"
      },
      "source": [
        "history = model.fit_generator(generator = train_generator,\n",
        "                             steps_per_epoch = train_generator.n//train_generator.batch_size,\n",
        "                             epochs = 10,\n",
        "                             validation_data = val_generator\n",
        "                             )\n"
      ],
      "execution_count": 27,
      "outputs": [
        {
          "output_type": "stream",
          "text": [
            "Epoch 1/10\n",
            "109/109 [==============================] - 126s 1s/step - loss: 1.0529 - accuracy: 0.5288 - val_loss: 1.0104 - val_accuracy: 0.5353\n",
            "Epoch 2/10\n",
            "109/109 [==============================] - 112s 1s/step - loss: 0.8361 - accuracy: 0.5959 - val_loss: 0.7854 - val_accuracy: 0.5753\n",
            "Epoch 3/10\n",
            "109/109 [==============================] - 112s 1s/step - loss: 0.8003 - accuracy: 0.6126 - val_loss: 0.9291 - val_accuracy: 0.5573\n",
            "Epoch 4/10\n",
            "109/109 [==============================] - 112s 1s/step - loss: 0.7753 - accuracy: 0.6311 - val_loss: 0.8862 - val_accuracy: 0.5513\n",
            "Epoch 5/10\n",
            "109/109 [==============================] - 112s 1s/step - loss: 0.7732 - accuracy: 0.6322 - val_loss: 1.2378 - val_accuracy: 0.5493\n",
            "Epoch 6/10\n",
            "109/109 [==============================] - 112s 1s/step - loss: 0.7502 - accuracy: 0.6482 - val_loss: 1.1680 - val_accuracy: 0.5620\n",
            "Epoch 7/10\n",
            "109/109 [==============================] - 112s 1s/step - loss: 0.7358 - accuracy: 0.6609 - val_loss: 0.8588 - val_accuracy: 0.5740\n",
            "Epoch 8/10\n",
            "109/109 [==============================] - 112s 1s/step - loss: 0.7293 - accuracy: 0.6602 - val_loss: 1.2825 - val_accuracy: 0.5627\n",
            "Epoch 9/10\n",
            "109/109 [==============================] - 112s 1s/step - loss: 0.7261 - accuracy: 0.6609 - val_loss: 1.2589 - val_accuracy: 0.5507\n",
            "Epoch 10/10\n",
            "109/109 [==============================] - 113s 1s/step - loss: 0.7267 - accuracy: 0.6657 - val_loss: 1.2985 - val_accuracy: 0.5500\n"
          ],
          "name": "stdout"
        }
      ]
    },
    {
      "cell_type": "code",
      "metadata": {
        "id": "djig05C7I3XQ",
        "colab_type": "code",
        "colab": {}
      },
      "source": [
        "import pickle\n",
        "#save model and history\n",
        "model.save('/content/drive/My Drive/Deep Learning Project - Image Classification/Models/InceptionV3_batch64epoch10.h5')\n",
        "\n",
        "with open('/content/drive/My Drive/Deep Learning Project - Image Classification/History/InceptionV3_batch64epoch10.csv', 'wb') as file:\n",
        "    pickle.dump(history.history, file)\n"
      ],
      "execution_count": 28,
      "outputs": []
    },
    {
      "cell_type": "code",
      "metadata": {
        "id": "SdpO2G_gzr1P",
        "colab_type": "code",
        "colab": {
          "base_uri": "https://localhost:8080/",
          "height": 573
        },
        "outputId": "dd71bdcb-237f-45e8-aafd-c1db1b75a0df"
      },
      "source": [
        "#plot results\n",
        "plt.plot(history.history['accuracy'])\n",
        "plt.plot(history.history['val_accuracy'])\n",
        "plt.title('model accuracy')\n",
        "plt.ylabel('accuracy')\n",
        "plt.xlabel('epoch')\n",
        "plt.legend(['train', 'test'], loc='upper left')\n",
        "plt.show()\n",
        "\n",
        "# summarize history for loss\n",
        "plt.plot(history.history['loss'])\n",
        "plt.plot(history.history['val_loss'])\n",
        "plt.title('model loss')\n",
        "plt.ylabel('loss')\n",
        "plt.xlabel('epoch')\n",
        "plt.legend(['train', 'test'], loc='upper left')\n",
        "plt.show()"
      ],
      "execution_count": 29,
      "outputs": [
        {
          "output_type": "display_data",
          "data": {
            "image/png": "[encoded data removed]",
            "text/plain": [
              "<Figure size 432x288 with 1 Axes>"
            ]
          },
          "metadata": {
            "tags": [],
            "needs_background": "light"
          }
        },
        {
          "output_type": "display_data",
          "data": {
            "image/png": "[encoded data removed]",
            "text/plain": [
              "<Figure size 432x288 with 1 Axes>"
            ]
          },
          "metadata": {
            "tags": [],
            "needs_background": "light"
          }
        }
      ]
    },
    {
      "cell_type": "code",
      "metadata": {
        "id": "Rz3p7fcx8zhB",
        "colab_type": "code",
        "colab": {
          "base_uri": "https://localhost:8080/",
          "height": 151
        },
        "outputId": "5b3c3cb1-007f-4c1f-c030-85e64542072e"
      },
      "source": [
        "#evaluation\n",
        "# https://stackoverflow.com/questions/40564936/keras-what-is-the-difference-between-model-evaluate-generator-and-model-predict\n",
        "steps = val_generator.n // val_generator.batch_size\n",
        "\n",
        "accuracy_ontest = model.evaluate_generator(val_generator, steps)\n",
        "predictions_ontest = model.predict_generator(val_generator, steps)\n",
        "print(accuracy_ontest)\n",
        "print(predictions_ontest)"
      ],
      "execution_count": 30,
      "outputs": [
        {
          "output_type": "stream",
          "text": [
            "[1.3282110691070557, 0.55027174949646]\n",
            "[[0.9427286  0.0141655  0.04310593]\n",
            " [0.50951016 0.21751173 0.27297807]\n",
            " [0.7904144  0.05229604 0.15728952]\n",
            " ...\n",
            " [0.57545555 0.20999745 0.214547  ]\n",
            " [0.9706325  0.00793954 0.02142794]\n",
            " [0.9089068  0.02032491 0.07076833]]\n"
          ],
          "name": "stdout"
        }
      ]
    }
  ]
}