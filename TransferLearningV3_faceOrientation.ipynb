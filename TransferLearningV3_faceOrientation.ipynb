{
  "nbformat": 4,
  "nbformat_minor": 0,
  "metadata": {
    "colab": {
      "name": "TransferLearningV3_faceOrientation.ipynb",
      "provenance": [],
      "authorship_tag": "ABX9TyNm9E62FX/CHAJjur25sKth",
      "include_colab_link": true
    },
    "kernelspec": {
      "name": "python3",
      "display_name": "Python 3"
    },
    "accelerator": "GPU"
  },
  "cells": [
    {
      "cell_type": "markdown",
      "metadata": {
        "id": "view-in-github",
        "colab_type": "text"
      },
      "source": [
        "<a href=\"https://colab.research.google.com/github/Lor3nzoVis3/DeepLearning_ProjectLV_GB/blob/master/TransferLearningV3_faceOrientation.ipynb\" target=\"_parent\"><img src=\"https://colab.research.google.com/assets/colab-badge.svg\" alt=\"Open In Colab\"/></a>"
      ]
    },
    {
      "cell_type": "code",
      "metadata": {
        "id": "yt4PHPdjkmWX",
        "colab_type": "code",
        "colab": {}
      },
      "source": [
        "\"\"\"\n",
        "@author: LorenzoVisentini\n",
        "\"\"\"\n",
        "\n",
        "modelName = \"InceptionV3\"\n",
        "\n",
        "#import\n",
        "import numpy as np\n",
        "import pandas as pd\n",
        "import matplotlib.pyplot as plt\n",
        "\n",
        "from sklearn.model_selection import train_test_split\n",
        "#keras\n",
        "import keras\n",
        "from keras.layers import Dense, Dropout, Flatten, GlobalMaxPooling2D, BatchNormalization\n",
        "from keras.models import Model\n",
        "from keras import optimizers\n",
        "from keras.preprocessing.image import ImageDataGenerator\n",
        "#inception v3\n",
        "from keras.applications.inception_v3 import InceptionV3\n",
        "from keras.applications.inception_v3 import preprocess_input, decode_predictions"
      ],
      "execution_count": 40,
      "outputs": []
    },
    {
      "cell_type": "code",
      "metadata": {
        "id": "7bS35ShKlHgX",
        "colab_type": "code",
        "colab": {
          "base_uri": "https://localhost:8080/",
          "height": 121
        },
        "outputId": "66c6d18b-0894-42d6-9172-974df3de7b53"
      },
      "source": [
        "from google.colab import drive\n",
        "drive.mount('/content/drive')"
      ],
      "execution_count": 2,
      "outputs": [
        {
          "output_type": "stream",
          "text": [
            "Go to this URL in a browser: https://accounts.google.com/o/oauth2/auth?client_id=947318989803-6bn6qk8qdgf4n4g3pfee6491hc0brc4i.apps.googleusercontent.com&redirect_uri=urn%3aietf%3awg%3aoauth%3a2.0%3aoob&scope=email%20https%3a%2f%2fwww.googleapis.com%2fauth%2fdocs.test%20https%3a%2f%2fwww.googleapis.com%2fauth%2fdrive%20https%3a%2f%2fwww.googleapis.com%2fauth%2fdrive.photos.readonly%20https%3a%2f%2fwww.googleapis.com%2fauth%2fpeopleapi.readonly&response_type=code\n",
            "\n",
            "Enter your authorization code:\n",
            "··········\n",
            "Mounted at /content/drive\n"
          ],
          "name": "stdout"
        }
      ]
    },
    {
      "cell_type": "code",
      "metadata": {
        "id": "J1IiAdATlJk8",
        "colab_type": "code",
        "colab": {}
      },
      "source": [
        "#Images parameters\n",
        "img_width = 299\n",
        "img_height = 299\n",
        "\n",
        "# train_dir = './source_light/training'\n",
        "# validation_dir = './source_light/validation' \n",
        "train_dir = '/content/drive/My Drive/Deep Learning Project - Image Classification/orient/train'\n",
        "validation_dir = '/content/drive/My Drive/Deep Learning Project - Image Classification/orient/valid' \n",
        "\n",
        "batch_size = 64\n",
        "epochs = 20"
      ],
      "execution_count": 47,
      "outputs": []
    },
    {
      "cell_type": "code",
      "metadata": {
        "id": "kLO44QeclNGW",
        "colab_type": "code",
        "colab": {}
      },
      "source": [
        "#from https://edebrouwer.github.io/deeplearning/carvision/transfer/neural/networks/learning/2017/08/05/TransferLearning.html\n",
        "\n",
        "#Transfer learning on InceptionV3 model\n",
        "#use all the layers except for the last fully connected layer (because its \n",
        "#specific to the ImageNet competition)\n",
        "#we will retrain layers with new inputs\n",
        "pre_trained_model = InceptionV3(input_shape = (img_height, img_width, 3),\n",
        "                               include_top = False, #exclude last flatten layer\n",
        "                               weights = 'imagenet' #weights from imageNet\n",
        "                               ) \n",
        "\n",
        "# pre_trained_model.summary() #check V3 structure"
      ],
      "execution_count": 48,
      "outputs": []
    },
    {
      "cell_type": "code",
      "metadata": {
        "id": "Nt27T7m5lNx-",
        "colab_type": "code",
        "colab": {}
      },
      "source": [
        "from keras import backend as K\n",
        "n_classes = 3\n",
        "\n",
        "#transfer learning phase\n",
        "x = pre_trained_model.output\n",
        "\n",
        "x = GlobalMaxPooling2D()(x)\n",
        "x = Dropout(rate = 0.7)(x)\n",
        "\n",
        "x = Dense(512, activation= 'relu')(x) #add fully connected layer\n",
        "x = BatchNormalization()(x)\n",
        "\n",
        "x = Dense(n_classes, activation= 'softmax')(x)\n",
        "model = Model(inputs = pre_trained_model.input, outputs = x)\n",
        "\n",
        "#freeze the model excepted added layers\n",
        "#freeze the model excepted added layers\n",
        "#because of BN normalization problem: https://github.com/keras-team/keras/issues/9214\n",
        "for layer in pre_trained_model.layers:\n",
        "        if hasattr(layer, 'moving_mean') and hasattr(layer, 'moving_variance'):\n",
        "            layer.trainable = True\n",
        "            K.eval(K.update(layer.moving_mean, K.zeros_like(layer.moving_mean)))\n",
        "            K.eval(K.update(layer.moving_variance, K.zeros_like(layer.moving_variance)))\n",
        "        else:\n",
        "            layer.trainable = False\n",
        "\n",
        "opt = optimizers.Adam(learning_rate=0.002)\n",
        "model.compile(optimizer = opt,\n",
        "              loss = 'categorical_crossentropy',  #because we have 3 possible outputs\n",
        "              metrics = ['accuracy'])"
      ],
      "execution_count": 49,
      "outputs": []
    },
    {
      "cell_type": "code",
      "metadata": {
        "id": "8HDJwBUnlQN9",
        "colab_type": "code",
        "colab": {
          "base_uri": "https://localhost:8080/",
          "height": 50
        },
        "outputId": "2bc24925-3817-421a-c852-4d64b481acf1"
      },
      "source": [
        "#preprocessing\n",
        "datagen = ImageDataGenerator(preprocessing_function = preprocess_input)\n",
        "train_generator = datagen.flow_from_directory(directory=train_dir,\n",
        "                                                    target_size=(img_height, img_width),\n",
        "                                                    color_mode=\"rgb\",\n",
        "                                                    batch_size=batch_size,\n",
        "                                                    class_mode=\"categorical\",\n",
        "                                                    shuffle=True,\n",
        "                                                    seed=42\n",
        "                                                    )\n",
        "\n",
        "val_generator = datagen.flow_from_directory(directory=validation_dir,\n",
        "                                                    target_size=(img_height, img_width),\n",
        "                                                    color_mode=\"rgb\",\n",
        "                                                    batch_size=batch_size,\n",
        "                                                    class_mode=\"categorical\",\n",
        "                                                    shuffle=True,\n",
        "                                                    seed=42\n",
        "                                                    )"
      ],
      "execution_count": 50,
      "outputs": [
        {
          "output_type": "stream",
          "text": [
            "Found 8383 images belonging to 3 classes.\n",
            "Found 1811 images belonging to 3 classes.\n"
          ],
          "name": "stdout"
        }
      ]
    },
    {
      "cell_type": "code",
      "metadata": {
        "id": "KM3KBW1WlZsq",
        "colab_type": "code",
        "colab": {
          "base_uri": "https://localhost:8080/",
          "height": 689
        },
        "outputId": "680a12f4-5222-4645-e92f-6ece85661572"
      },
      "source": [
        "history = model.fit_generator(generator = train_generator,\n",
        "                             steps_per_epoch = train_generator.n//batch_size,\n",
        "                             epochs = epochs,\n",
        "                             validation_data = val_generator,\n",
        "                             validation_steps=val_generator.n//batch_size\n",
        "                             )"
      ],
      "execution_count": 51,
      "outputs": [
        {
          "output_type": "stream",
          "text": [
            "Epoch 1/20\n",
            "130/130 [==============================] - 51s 389ms/step - loss: 1.1873 - accuracy: 0.5310 - val_loss: 1.8307 - val_accuracy: 0.2310\n",
            "Epoch 2/20\n",
            "130/130 [==============================] - 49s 380ms/step - loss: 0.8873 - accuracy: 0.6025 - val_loss: 0.8837 - val_accuracy: 0.5988\n",
            "Epoch 3/20\n",
            "130/130 [==============================] - 50s 381ms/step - loss: 0.8202 - accuracy: 0.6379 - val_loss: 0.8337 - val_accuracy: 0.6384\n",
            "Epoch 4/20\n",
            "130/130 [==============================] - 49s 380ms/step - loss: 0.7571 - accuracy: 0.6748 - val_loss: 0.7537 - val_accuracy: 0.6998\n",
            "Epoch 5/20\n",
            "130/130 [==============================] - 49s 380ms/step - loss: 0.6982 - accuracy: 0.7109 - val_loss: 0.6727 - val_accuracy: 0.7360\n",
            "Epoch 6/20\n",
            "130/130 [==============================] - 50s 381ms/step - loss: 0.5788 - accuracy: 0.7771 - val_loss: 0.5278 - val_accuracy: 0.8075\n",
            "Epoch 7/20\n",
            "130/130 [==============================] - 49s 378ms/step - loss: 0.4555 - accuracy: 0.8347 - val_loss: 0.4898 - val_accuracy: 0.8298\n",
            "Epoch 8/20\n",
            "130/130 [==============================] - 49s 379ms/step - loss: 0.3933 - accuracy: 0.8556 - val_loss: 0.4434 - val_accuracy: 0.8382\n",
            "Epoch 9/20\n",
            "130/130 [==============================] - 49s 380ms/step - loss: 0.3609 - accuracy: 0.8674 - val_loss: 0.4451 - val_accuracy: 0.8404\n",
            "Epoch 10/20\n",
            "130/130 [==============================] - 49s 381ms/step - loss: 0.3379 - accuracy: 0.8746 - val_loss: 0.4359 - val_accuracy: 0.8454\n",
            "Epoch 11/20\n",
            "130/130 [==============================] - 49s 381ms/step - loss: 0.3143 - accuracy: 0.8832 - val_loss: 0.4471 - val_accuracy: 0.8465\n",
            "Epoch 12/20\n",
            "130/130 [==============================] - 49s 380ms/step - loss: 0.2886 - accuracy: 0.8906 - val_loss: 0.4413 - val_accuracy: 0.8449\n",
            "Epoch 13/20\n",
            "130/130 [==============================] - 49s 379ms/step - loss: 0.2795 - accuracy: 0.8946 - val_loss: 0.9084 - val_accuracy: 0.7427\n",
            "Epoch 14/20\n",
            "130/130 [==============================] - 49s 378ms/step - loss: 0.2589 - accuracy: 0.9050 - val_loss: 0.4984 - val_accuracy: 0.8387\n",
            "Epoch 15/20\n",
            "130/130 [==============================] - 49s 379ms/step - loss: 0.2420 - accuracy: 0.9070 - val_loss: 0.4588 - val_accuracy: 0.8482\n",
            "Epoch 16/20\n",
            "130/130 [==============================] - 49s 377ms/step - loss: 0.2354 - accuracy: 0.9094 - val_loss: 0.4585 - val_accuracy: 0.8426\n",
            "Epoch 17/20\n",
            "130/130 [==============================] - 49s 377ms/step - loss: 0.2094 - accuracy: 0.9197 - val_loss: 0.4723 - val_accuracy: 0.8426\n",
            "Epoch 18/20\n",
            "130/130 [==============================] - 49s 379ms/step - loss: 0.1960 - accuracy: 0.9241 - val_loss: 0.4970 - val_accuracy: 0.8426\n",
            "Epoch 19/20\n",
            "130/130 [==============================] - 49s 378ms/step - loss: 0.1835 - accuracy: 0.9303 - val_loss: 0.5573 - val_accuracy: 0.8404\n",
            "Epoch 20/20\n",
            "130/130 [==============================] - 49s 379ms/step - loss: 0.1623 - accuracy: 0.9381 - val_loss: 0.5634 - val_accuracy: 0.8438\n"
          ],
          "name": "stdout"
        }
      ]
    },
    {
      "cell_type": "code",
      "metadata": {
        "id": "nGeRgbNWlXZc",
        "colab_type": "code",
        "colab": {
          "base_uri": "https://localhost:8080/",
          "height": 34
        },
        "outputId": "ea94524d-6ec0-4c54-c0ae-fe2d0c0ab80d"
      },
      "source": [
        "#save model and history\n",
        "file_model = '/content/drive/My Drive/Deep Learning Project - Image Classification/Models/'+ 'FaceOrientationpostPatch' + modelName + '_' + str(batch_size) + '_' + str(epochs)\n",
        "model.save(file_model + '.h5')\n",
        "print(file_model)\n",
        "#save history\n",
        "file_hist = '/content/drive/My Drive/Deep Learning Project - Image Classification/History/'+ 'FaceOrientationpostPatch' + modelName + '_' + str(batch_size) + '_' + str(epochs) + '.csv'\n",
        "df_history = pd.DataFrame(history.history)\n",
        "with open(file_hist, 'w') as file:\n",
        "    df_history.to_csv(file)"
      ],
      "execution_count": 9,
      "outputs": [
        {
          "output_type": "stream",
          "text": [
            "/content/drive/My Drive/Deep Learning Project - Image Classification/Models/FaceOrientationpostPatchInceptionV3_64_20\n"
          ],
          "name": "stdout"
        }
      ]
    },
    {
      "cell_type": "code",
      "metadata": {
        "id": "7J1531PflugX",
        "colab_type": "code",
        "colab": {
          "base_uri": "https://localhost:8080/",
          "height": 573
        },
        "outputId": "2acb217e-6cdd-4172-a13f-7ff09c9650f5"
      },
      "source": [
        "#plot results\n",
        "plt.plot(history.history['accuracy'])\n",
        "plt.plot(history.history['val_accuracy'])\n",
        "plt.title('model accuracy')\n",
        "plt.ylabel('accuracy')\n",
        "plt.xlabel('epoch')\n",
        "plt.legend(['train', 'test'], loc='upper left')\n",
        "plt.show()\n",
        "\n",
        "# summarize history for loss\n",
        "plt.plot(history.history['loss'])\n",
        "plt.plot(history.history['val_loss'])\n",
        "plt.title('model loss')\n",
        "plt.ylabel('loss')\n",
        "plt.xlabel('epoch')\n",
        "plt.legend(['train', 'test'], loc='upper left')\n",
        "plt.show()"
      ],
      "execution_count": 52,
      "outputs": [
        {
          "output_type": "display_data",
          "data": {
            "image/png": "[encoded data removed]",
            "text/plain": [
              "<Figure size 432x288 with 1 Axes>"
            ]
          },
          "metadata": {
            "tags": [],
            "needs_background": "light"
          }
        },
        {
          "output_type": "display_data",
          "data": {
            "image/png": "[encoded data removed]",
            "text/plain": [
              "<Figure size 432x288 with 1 Axes>"
            ]
          },
          "metadata": {
            "tags": [],
            "needs_background": "light"
          }
        }
      ]
    },
    {
      "cell_type": "code",
      "metadata": {
        "id": "gR4Yk5spl1PW",
        "colab_type": "code",
        "colab": {
          "base_uri": "https://localhost:8080/",
          "height": 151
        },
        "outputId": "ea407122-49f1-401e-cd00-c7a9a841fede"
      },
      "source": [
        "#evaluation\n",
        "# https://stackoverflow.com/questions/40564936/keras-what-is-the-difference-between-model-evaluate-generator-and-model-predict\n",
        "steps = val_generator.n // val_generator.batch_size\n",
        "\n",
        "accuracy_ontest = model.evaluate_generator(val_generator, steps)\n",
        "predictions_ontest = model.predict_generator(val_generator, steps)\n",
        "print(accuracy_ontest)\n",
        "print(predictions_ontest)"
      ],
      "execution_count": null,
      "outputs": [
        {
          "output_type": "stream",
          "text": [
            "[1.4336895942687988, 0.5574776530265808]\n",
            "[[0.81515956 0.05940105 0.12543942]\n",
            " [0.30922788 0.18068106 0.51009107]\n",
            " [0.6954961  0.1510021  0.15350184]\n",
            " ...\n",
            " [0.1459482  0.20645332 0.6475985 ]\n",
            " [0.05147425 0.32250583 0.6260199 ]\n",
            " [0.98905283 0.00117494 0.00977223]]\n"
          ],
          "name": "stdout"
        }
      ]
    }
  ]
}