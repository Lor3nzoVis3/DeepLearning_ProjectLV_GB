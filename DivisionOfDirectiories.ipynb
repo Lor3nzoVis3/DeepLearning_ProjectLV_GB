{
  "nbformat": 4,
  "nbformat_minor": 0,
  "metadata": {
    "colab": {
      "name": "DivisionOfDirectiories.ipynb",
      "provenance": [],
      "authorship_tag": "ABX9TyMaOymVyuYyVf+wOYPvPEip",
      "include_colab_link": true
    },
    "kernelspec": {
      "name": "python3",
      "display_name": "Python 3"
    }
  },
  "cells": [
    {
      "cell_type": "markdown",
      "metadata": {
        "id": "view-in-github",
        "colab_type": "text"
      },
      "source": [
        "<a href=\"https://colab.research.google.com/github/Lor3nzoVis3/DeepLearning_ProjectLV_GB/blob/master/DivisionOfDirectiories.ipynb\" target=\"_parent\"><img src=\"https://colab.research.google.com/assets/colab-badge.svg\" alt=\"Open In Colab\"/></a>"
      ]
    },
    {
      "cell_type": "code",
      "metadata": {
        "id": "ya3bBjGZrTTN",
        "colab_type": "code",
        "colab": {
          "base_uri": "https://localhost:8080/",
          "height": 34
        },
        "outputId": "8c1c34c1-88ce-4a6e-e1e6-d70cb1456f12"
      },
      "source": [
        "from google.colab import drive\n",
        "drive.mount('/content/drive')"
      ],
      "execution_count": 1,
      "outputs": [
        {
          "output_type": "stream",
          "text": [
            "Drive already mounted at /content/drive; to attempt to forcibly remount, call drive.mount(\"/content/drive\", force_remount=True).\n"
          ],
          "name": "stdout"
        }
      ]
    },
    {
      "cell_type": "code",
      "metadata": {
        "id": "eTaGo6Pc808Z",
        "colab_type": "code",
        "colab": {}
      },
      "source": [
        "# import the necessary packages\n",
        "import os\n",
        "import random\n",
        "import shutil\n",
        "import cv2"
      ],
      "execution_count": 2,
      "outputs": []
    },
    {
      "cell_type": "code",
      "metadata": {
        "id": "LcjUYKNBiCS-",
        "colab_type": "code",
        "colab": {}
      },
      "source": [
        "def createDir(dataset):\n",
        "\n",
        "\n",
        "    base_path = f'./{dataset}'\n",
        "    #chrome\n",
        "    base_path = f'/content/drive/My Drive/Deep Learning Project - Image Classification/{dataset}'\n",
        "\n",
        "    # define the names of the training, testing, and validation\n",
        "    directories = ['train', 'test',  'val']\n",
        "    # initialize the list of class label names\n",
        "    classes = ['left', 'center', 'right']\n",
        "\n",
        "    #create directories\n",
        "    for dir in directories:\n",
        "        \n",
        "        path_dir = os.path.join(base_path, dir)\n",
        "        if os.path.exists(path_dir) == False:\n",
        "            os.makedirs(path_dir)\n",
        "\n",
        "            for clas in classes:\n",
        "                path_class = os.path.join(path_dir, clas)\n",
        "                if os.path.exists(path_class) == False:\n",
        "                    os.makedirs(path_class)\n",
        "                else:\n",
        "                    print(\"Already exists\")\n",
        "        else:\n",
        "            print(\"Already exists\")\n",
        "\n",
        "    path_train = f'/content/drive/My Drive/Deep Learning Project - Image Classification/{dataset}/train/'\n",
        "    path_val = f'/content/drive/My Drive/Deep Learning Project - Image Classification/{dataset}/val/'\n",
        "    path_test = f'/content/drive/My Drive/Deep Learning Project - Image Classification/{dataset}/test/'\n",
        "\n",
        "    #left\n",
        "    files = [os.path.join(base_path+'/left',file) for file in os.listdir(base_path+'/left')  if os.path.isfile(os.path.join(base_path+'/left', file))]\n",
        "    \n",
        "    print(len(files))\n",
        "    random.shuffle(files)\n",
        "\n",
        "    for file in files[0:int(0.6*len(files))]:\n",
        "        if file.endswith(('.jpeg', '.jpg')):\n",
        "            shutil.copy(file, path_train+'left')\n",
        "\n",
        "    for file in files[int(0.6*len(files)):int(0.85*len(files))]:\n",
        "        if file.endswith(('.jpeg', '.jpg')):\n",
        "            shutil.copy(file, path_val+'left')\n",
        "\n",
        "    for file in files[int(0.85*len(files)):int(len(files)+1)]:\n",
        "        if file.endswith(('.jpeg', '.jpg')):\n",
        "            shutil.copy(file, path_test+'left')\n",
        "\n",
        "    #right\n",
        "    files = [os.path.join(base_path+'/right',file) for file in os.listdir(base_path+'/right') if os.path.isfile(os.path.join(base_path+'/right', file))]\n",
        "    print(len(files))\n",
        "    random.shuffle(files)\n",
        "    for file in files[0:int(0.6*len(files))]:\n",
        "        if file.endswith(('.jpeg', '.jpg')):\n",
        "            shutil.copy(file, path_train+'right')\n",
        "\n",
        "    for file in files[int(0.6*len(files)):int(0.85*len(files))]:\n",
        "        if file.endswith(('.jpeg', '.jpg')):\n",
        "            shutil.copy(file, path_val+'right')\n",
        "\n",
        "    for file in files[int(0.85*len(files)):int(len(files)+1)]:\n",
        "        if file.endswith(('.jpeg', '.jpg')):\n",
        "            shutil.copy(file, path_test+'right')\n",
        "\n",
        "    #center\n",
        "    files = [os.path.join(base_path+'/center',file) for file in os.listdir(base_path+'/center') if os.path.isfile(os.path.join(base_path+'/center', file))]\n",
        "    print(len(files))\n",
        "    random.shuffle(files)\n",
        "    for file in files[0:int(0.6*len(files))]:\n",
        "        if file.endswith(('.jpeg', '.jpg')):\n",
        "            shutil.copy(file, path_train+'center')\n",
        "\n",
        "    for file in files[int(0.6*len(files)):int(0.85*len(files))]:\n",
        "        if file.endswith(('.jpeg', '.jpg')):\n",
        "            shutil.copy(file, path_val+'center')\n",
        "\n",
        "    for file in files[int(0.85*len(files)):int(len(files)+1)]:\n",
        "        if file.endswith(('.jpeg', '.jpg')):\n",
        "            shutil.copy(file, path_test+'center')"
      ],
      "execution_count": 3,
      "outputs": []
    },
    {
      "cell_type": "code",
      "metadata": {
        "id": "_88S7BoEAjVa",
        "colab_type": "code",
        "colab": {
          "base_uri": "https://localhost:8080/",
          "height": 34
        },
        "outputId": "ac8c1413-ada8-415a-d587-1504d0c14046"
      },
      "source": [
        "# dataset = 'source_light'\n",
        "# base_path = f'/content/drive/My Drive/Deep Learning Project - Image Classification/{dataset}'\n",
        "# print(os.path.join(base_path+'/left','0190.jpg'))"
      ],
      "execution_count": 37,
      "outputs": [
        {
          "output_type": "stream",
          "text": [
            "/content/drive/My Drive/Deep Learning Project - Image Classification/source_light/left/0190.jpg\n"
          ],
          "name": "stdout"
        }
      ]
    },
    {
      "cell_type": "code",
      "metadata": {
        "id": "X_LTzbnUU4Lx",
        "colab_type": "code",
        "colab": {
          "base_uri": "https://localhost:8080/",
          "height": 68
        },
        "outputId": "0959d849-39a4-44de-8a56-e7aa78480cc4"
      },
      "source": [
        "#apply for both the datasets\n",
        "createDir('source_light')\n",
        "createDir('orient')"
      ],
      "execution_count": 4,
      "outputs": [
        {
          "output_type": "stream",
          "text": [
            "2234\n",
            "2105\n",
            "5856\n"
          ],
          "name": "stdout"
        }
      ]
    },
    {
      "cell_type": "code",
      "metadata": {
        "id": "EcKhLWGYS4JP",
        "colab_type": "code",
        "colab": {
          "base_uri": "https://localhost:8080/",
          "height": 34
        },
        "outputId": "f097574b-740d-4efb-8aeb-8080be7530c5"
      },
      "source": [
        "#check if the process ok\n",
        "dataset = 'orient'\n",
        "path_val = f'/content/drive/My Drive/Deep Learning Project - Image Classification/{dataset}/val/'\n",
        "files_ = [os.path.join(path_val+'right',file) for file in os.listdir(path_val+'right')  if os.path.isfile(os.path.join(path_val+'right', file))]\n",
        "print(len(files_))"
      ],
      "execution_count": 5,
      "outputs": [
        {
          "output_type": "stream",
          "text": [
            "526\n"
          ],
          "name": "stdout"
        }
      ]
    }
  ]
}