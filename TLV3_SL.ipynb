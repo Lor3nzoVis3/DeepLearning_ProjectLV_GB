{
 "cells": [
  {
   "cell_type": "markdown",
   "metadata": {
    "colab_type": "text",
    "id": "view-in-github"
   },
   "source": [
    "<a href=\"https://colab.research.google.com/github/Lor3nzoVis3/DeepLearning_ProjectLV_GB/blob/master/TransferLearningV3_sourceLight.ipynb\" target=\"_parent\"><img src=\"https://colab.research.google.com/assets/colab-badge.svg\" alt=\"Open In Colab\"/></a>"
   ]
  },
  {
   "cell_type": "code",
   "execution_count": 1,
   "metadata": {
    "colab": {},
    "colab_type": "code",
    "id": "dLWDTXgdyOa6"
   },
   "outputs": [
    {
     "name": "stderr",
     "output_type": "stream",
     "text": [
      "Using TensorFlow backend.\n"
     ]
    }
   ],
   "source": [
    "\"\"\"\n",
    "@authors: LorenzoVisentini and Gianmarco Bolcato\n",
    "\"\"\"\n",
    "\n",
    "modelName = \"InceptionV3\"\n",
    "\n",
    "#import\n",
    "import os\n",
    "import numpy as np\n",
    "import pandas as pd\n",
    "import matplotlib.pyplot as plt\n",
    "\n",
    "#keras\n",
    "import keras\n",
    "from keras import backend as K\n",
    "from keras.layers import Dense, Dropout, Flatten, GlobalMaxPooling2D, BatchNormalization\n",
    "from keras.models import Model\n",
    "from keras import optimizers\n",
    "from keras.preprocessing.image import ImageDataGenerator\n",
    "#inception v3\n",
    "from keras.applications.inception_v3 import InceptionV3\n",
    "from keras.applications.inception_v3 import preprocess_input\n",
    "from keras.utils import plot_model\n",
    "\n",
    "import random\n",
    "random.seed(42)"
   ]
  },
  {
   "cell_type": "code",
   "execution_count": 2,
   "metadata": {
    "colab": {
     "base_uri": "https://localhost:8080/",
     "height": 34
    },
    "colab_type": "code",
    "id": "h7TvUtZWCd3W",
    "outputId": "3b7383fd-9399-4532-fa46-7e959f1e2ca4"
   },
   "outputs": [],
   "source": [
    "# link with Google Drive\n",
    "# from google.colab import drive\n",
    "# drive.mount('/content/drive')"
   ]
  },
  {
   "cell_type": "code",
   "execution_count": 3,
   "metadata": {
    "colab": {},
    "colab_type": "code",
    "id": "CWOmwzOeySHO"
   },
   "outputs": [],
   "source": [
    "# Images parameters\n",
    "img_target_size = (299, 299)\n",
    "shape = (299, 299, 3)\n",
    "\n",
    "# Jupyter notebook paths\n",
    "train_dir = './source_light/train'\n",
    "val_dir = './source_light/val' \n",
    "test_dir = './source_light/test' \n",
    "\n",
    "# Google Colab paths\n",
    "# train_dir = '/content/drive/My Drive/Deep Learning Project - Image Classification/source_light/train'\n",
    "# val_dir = '/content/drive/My Drive/Deep Learning Project - Image Classification/source_light/val' \n",
    "# test_dir = '/content/drive/My Drive/Deep Learning Project - Image Classification/source_light/test' "
   ]
  },
  {
   "cell_type": "code",
   "execution_count": null,
   "metadata": {},
   "outputs": [],
   "source": [
    "n_classes = 3\n",
    "\n",
    "# Hyperparameters\n",
    "batch_size = 32\n",
    "epochs = 10\n",
    "drop_rate = 0.5\n",
    "lr = 0.002\n",
    "\n",
    "# variable to check if it's applied the batchNormalization patch\n",
    "patch = True\n",
    "\n",
    "# file_model = '/content/drive/My Drive/Deep Learning Project - Image Classification/Models/'+ modelName + 'SL' + '_Bs' + str(batch_size) + '_Ep' + str(epochs) + '_Dr' + str(drop_rate) + '_Lr' + str(lr)\n",
    "file_model = modelName + 'SL' + '_Bs' + str(batch_size) + '_Ep' + str(epochs) + '_Dr' + str(drop_rate) + '_Lr' + str(lr)\n",
    "if patch == True:\n",
    "    file_model = file_model + '_patched'"
   ]
  },
  {
   "cell_type": "code",
   "execution_count": null,
   "metadata": {
    "colab": {},
    "colab_type": "code",
    "id": "ytYyW1qpyTWm"
   },
   "outputs": [],
   "source": [
    "#from https://edebrouwer.github.io/deeplearning/carvision/transfer/neural/networks/learning/2017/08/05/TransferLearning.html\n",
    "# https://www.pyimagesearch.com/2020/04/27/fine-tuning-resnet-with-keras-tensorflow-and-deep-learning/\n",
    "\n",
    "#Transfer learning on InceptionV3 model\n",
    "#use all the layers except for the last fully connected layer (because its \n",
    "#specific to the ImageNet competition)\n",
    "#we will retrain layers with new inputs\n",
    "pre_trained_model = InceptionV3(input_shape = shape,\n",
    "                               include_top = False, #exclude last flatten layer\n",
    "                               weights = 'imagenet' #weights from imageNet\n",
    "                               ) \n",
    "\n",
    "# pre_trained_model.summary() #check V3 structure"
   ]
  },
  {
   "cell_type": "code",
   "execution_count": 6,
   "metadata": {
    "colab": {},
    "colab_type": "code",
    "id": "PzRXA6HMylNv"
   },
   "outputs": [],
   "source": [
    "#transfer learning phase\n",
    "x = pre_trained_model.output\n",
    "\n",
    "# x = GlobalAveragePooling2D()(x)\n",
    "x = AveragePooling2D(pool_size=(8, 8))(x)\n",
    "x = Flatten()(x)\n",
    "\n",
    "# x = Dense(1024, activation= 'relu')(x) #add fully connected layer\n",
    "x = Dropout(drop_rate)(x)\n",
    "x = Dense(512, activation= 'relu')(x)\n",
    "x = Dense(n_classes, activation= 'softmax')(x)\n",
    "model = Model(inputs = pre_trained_model.input, outputs = x)\n",
    "\n",
    "#freeze the model excepted added layers\n",
    "# for layer in pre_trained_model.layers:\n",
    "#     layer.trainable = False\n",
    "    \n",
    "#because of BN normalization problem: https://github.com/keras-team/keras/issues/9214\n",
    "for layer in pre_trained_model.layers:\n",
    "        if hasattr(layer, 'moving_mean') and hasattr(layer, 'moving_variance'):\n",
    "            layer.trainable = True\n",
    "            K.eval(K.update(layer.moving_mean, K.zeros_like(layer.moving_mean)))\n",
    "            K.eval(K.update(layer.moving_variance, K.zeros_like(layer.moving_variance)))\n",
    "        else:\n",
    "            layer.trainable = False\n",
    "\n",
    "# custom optimizer\n",
    "opt = optimizers.Adam(learning_rate=lr)\n",
    "\n",
    "model.compile(optimizer = opt,\n",
    "              loss = 'categorical_crossentropy',  #because we have 3 possible outputs\n",
    "              metrics = ['accuracy'])"
   ]
  },
  {
   "cell_type": "code",
   "execution_count": null,
   "metadata": {},
   "outputs": [],
   "source": [
    "# plot model tree\n",
    "tree_path = './ModelTrees/'\n",
    "if os.path.exists(tree_path) == False:\n",
    "    os.makedirs(tree_path)\n",
    "else: \n",
    "    print('Folder Plots already exists')\n",
    "plot_model(model, to_file=f\"{tree_path}/{file_model}.png\", show_layer_names=True, show_shapes=True)"
   ]
  },
  {
   "cell_type": "code",
   "execution_count": 7,
   "metadata": {
    "colab": {
     "base_uri": "https://localhost:8080/",
     "height": 50
    },
    "colab_type": "code",
    "id": "DscGjJZl2mHk",
    "outputId": "0b0ab991-c03a-4910-f5dc-65dc5e996700"
   },
   "outputs": [
    {
     "name": "stdout",
     "output_type": "stream",
     "text": [
      "Found 5998 images belonging to 3 classes.\n",
      "Found 2501 images belonging to 3 classes.\n",
      "Found 1501 images belonging to 3 classes.\n"
     ]
    }
   ],
   "source": [
    "# preprocessing\n",
    "# https://machinelearningmastery.com/how-to-configure-image-data-augmentation-when-training-deep-learning-neural-networks/\n",
    "# https://www.pyimagesearch.com/2019/07/08/keras-imagedatagenerator-and-data-augmentation/\n",
    "\n",
    "train_gen = ImageDataGenerator(width_shift_range=[0,0.2],\n",
    "                            height_shift_range=[0,0.2],\n",
    "                            zoom_range=[0.8,1.0],\n",
    "                            fill_mode=\"nearest\")\n",
    "# train_gen = ImageDataGenerator()\n",
    "\n",
    "# Set aug variable to save if the model used data augmentation or not\n",
    "aug = True\n",
    "if aug == True:\n",
    "    modelName = modelName+'Aug'\n",
    "\n",
    "test_gen = ImageDataGenerator()\n",
    "\n",
    "train_generator = train_gen.flow_from_directory(directory=train_dir,\n",
    "                                                    target_size=img_target_size,\n",
    "                                                    color_mode=\"rgb\",\n",
    "                                                    batch_size=batch_size,\n",
    "                                                    class_mode=\"categorical\",\n",
    "                                                    shuffle=True,\n",
    "                                                    seed=42\n",
    "                                                    )\n",
    "\n",
    "val_generator = test_gen.flow_from_directory(directory=val_dir,\n",
    "                                                    target_size=img_target_size,\n",
    "                                                    color_mode=\"rgb\",\n",
    "                                                    batch_size=batch_size,\n",
    "                                                    class_mode=\"categorical\",\n",
    "                                                    shuffle=True,\n",
    "                                                    seed=42\n",
    "                                                    )\n",
    "\n",
    "test_generator = test_gen.flow_from_directory(directory = test_dir,\n",
    "                                                    target_size = img_target_size,\n",
    "                                                    color_mode=\"rgb\",\n",
    "                                                    batch_size = batch_size,\n",
    "                                                    class_mode = \"categorical\",\n",
    "                                                    shuffle=True,\n",
    "                                                    seed=42\n",
    "                                                )"
   ]
  },
  {
   "cell_type": "code",
   "execution_count": 8,
   "metadata": {
    "colab": {
     "base_uri": "https://localhost:8080/",
     "height": 689
    },
    "colab_type": "code",
    "id": "ZgVssD27zr1L",
    "outputId": "255c3ddb-3b7f-4e9f-91f9-2033982d3bde"
   },
   "outputs": [
    {
     "name": "stdout",
     "output_type": "stream",
     "text": [
      "Epoch 1/10\n",
      "187/187 [==============================] - 113s 607ms/step - loss: 1.2100 - accuracy: 0.5315 - val_loss: 0.6470 - val_accuracy: 0.6438\n",
      "Epoch 2/10\n",
      "187/187 [==============================] - 97s 517ms/step - loss: 0.7306 - accuracy: 0.6455 - val_loss: 0.7209 - val_accuracy: 0.6687\n",
      "Epoch 3/10\n",
      "187/187 [==============================] - 96s 512ms/step - loss: 0.6650 - accuracy: 0.6887 - val_loss: 0.5757 - val_accuracy: 0.6821\n",
      "Epoch 4/10\n",
      "187/187 [==============================] - 97s 519ms/step - loss: 0.6306 - accuracy: 0.6948 - val_loss: 0.5834 - val_accuracy: 0.7051\n",
      "Epoch 5/10\n",
      "187/187 [==============================] - 96s 511ms/step - loss: 0.5524 - accuracy: 0.7717 - val_loss: 0.5449 - val_accuracy: 0.7975\n",
      "Epoch 6/10\n",
      "187/187 [==============================] - 96s 511ms/step - loss: 0.4300 - accuracy: 0.8538 - val_loss: 0.3074 - val_accuracy: 0.8987\n",
      "Epoch 7/10\n",
      "187/187 [==============================] - 96s 513ms/step - loss: 0.3788 - accuracy: 0.8729 - val_loss: 0.3750 - val_accuracy: 0.9032\n",
      "Epoch 8/10\n",
      "187/187 [==============================] - 96s 513ms/step - loss: 0.3507 - accuracy: 0.8897 - val_loss: 0.4678 - val_accuracy: 0.8886\n",
      "Epoch 9/10\n",
      "187/187 [==============================] - 96s 511ms/step - loss: 0.3075 - accuracy: 0.9028 - val_loss: 0.1837 - val_accuracy: 0.9064\n",
      "Epoch 10/10\n",
      "187/187 [==============================] - 95s 511ms/step - loss: 0.3023 - accuracy: 0.9028 - val_loss: 0.3451 - val_accuracy: 0.9129\n"
     ]
    }
   ],
   "source": [
    "history = model.fit_generator(generator = train_generator,\n",
    "                             steps_per_epoch = train_generator.n//batch_size,\n",
    "                             epochs = epochs,\n",
    "                             validation_data = val_generator,\n",
    "                             validation_steps=val_generator.n//batch_size\n",
    "                             )"
   ]
  },
  {
   "cell_type": "code",
   "execution_count": null,
   "metadata": {
    "colab": {
     "base_uri": "https://localhost:8080/",
     "height": 34
    },
    "colab_type": "code",
    "id": "djig05C7I3XQ",
    "outputId": "746f6848-1f6b-4b70-aa9d-618346359646"
   },
   "outputs": [],
   "source": [
    "# consider highlight the different values of hyperparameters used\n",
    "# OR orient o SL source light, Bs batch size, Ep epochs, Dr drop rate, Lr learning rate\n",
    "# CHECK ALWAYS BOOLEAN PATCH VALUES (on top)\n",
    "\n",
    "# create models folder if doesn't exist\n",
    "path_models = './Models/'\n",
    "if os.path.exists(path_models) == False:\n",
    "    os.makedirs(path_models)\n",
    "else: \n",
    "    print('Folder Models already exists')\n",
    "    \n",
    "# save model and history\n",
    "model.save(path_models + file_model + '.h5')\n",
    "print(file_model)\n",
    "\n",
    "#save history\n",
    "# create models folder if doesn't exist\n",
    "path_history = './History/'\n",
    "if os.path.exists(path_history) == False:\n",
    "    os.makedirs(path_history)\n",
    "else: \n",
    "    print('Folder History already exists')\n",
    "file_hist = path_history + file_model + '.csv'\n",
    "df_history = pd.DataFrame(history.history)\n",
    "with open(file_hist, 'w') as file:\n",
    "    df_history.to_csv(file)\n",
    "print(file_hist)"
   ]
  },
  {
   "cell_type": "code",
   "execution_count": 9,
   "metadata": {
    "colab": {
     "base_uri": "https://localhost:8080/",
     "height": 573
    },
    "colab_type": "code",
    "id": "SdpO2G_gzr1P",
    "outputId": "b1d4067e-fc26-4591-f3a5-b5532649519c"
   },
   "outputs": [
    {
     "data": {
      "image/png": "[encoded data removed]",
      "text/plain": [
       "<Figure size 432x288 with 1 Axes>"
      ]
     },
     "metadata": {
      "needs_background": "light"
     },
     "output_type": "display_data"
    },
    {
     "data": {
      "image/png": "[encoded data removed]",
      "text/plain": [
       "<Figure size 432x288 with 1 Axes>"
      ]
     },
     "metadata": {
      "needs_background": "light"
     },
     "output_type": "display_data"
    }
   ],
   "source": [
    "# Plot path\n",
    "plot_path = './Plots/'\n",
    "if os.path.exists(plot_path) == False:\n",
    "    os.makedirs(plot_path)\n",
    "else: \n",
    "    print('Folder Plots already exists')\n",
    "plot_file = plot_path + file_model + '.png'\n",
    "\n",
    "#plot results\n",
    "plt.plot(history.history['accuracy'])\n",
    "plt.plot(history.history['val_accuracy'])\n",
    "plt.title('model accuracy')\n",
    "plt.ylabel('accuracy')\n",
    "plt.xlabel('epoch')\n",
    "plt.legend(['train', 'val'], loc='upper left')\n",
    "plt.show()\n",
    "\n",
    "# summarize history for loss\n",
    "plt.plot(history.history['loss'])\n",
    "plt.plot(history.history['val_loss'])\n",
    "plt.title('model loss')\n",
    "plt.ylabel('loss')\n",
    "plt.xlabel('epoch')\n",
    "plt.legend(['train', 'val'], loc='upper left')\n",
    "plt.show()\n",
    "\n",
    "plt.savefig(plot_file)"
   ]
  },
  {
   "cell_type": "code",
   "execution_count": 10,
   "metadata": {
    "colab": {
     "base_uri": "https://localhost:8080/",
     "height": 151
    },
    "colab_type": "code",
    "id": "Rz3p7fcx8zhB",
    "outputId": "7b46b1ab-fd5a-481a-d6ad-44b0a5a28b38"
   },
   "outputs": [
    {
     "name": "stdout",
     "output_type": "stream",
     "text": [
      "[0.18285907804965973, 0.8913043737411499]\n"
     ]
    }
   ],
   "source": [
    "#evaluation\n",
    "# https://stackoverflow.com/questions/40564936/keras-what-is-the-difference-between-model-evaluate-generator-and-model-predict\n",
    "steps = test_generator.n // test_generator.batch_size\n",
    "accuracy_ontest = model.evaluate_generator(test_generator, steps)\n",
    "print(accuracy_ontest)"
   ]
  },
  {
   "cell_type": "code",
   "execution_count": null,
   "metadata": {},
   "outputs": [],
   "source": []
  }
 ],
 "metadata": {
  "accelerator": "GPU",
  "colab": {
   "collapsed_sections": [],
   "include_colab_link": true,
   "name": "TransferLearningV3.ipynb",
   "provenance": []
  },
  "kernelspec": {
   "display_name": "Python 3",
   "language": "python",
   "name": "python3"
  },
  "language_info": {
   "codemirror_mode": {
    "name": "ipython",
    "version": 3
   },
   "file_extension": ".py",
   "mimetype": "text/x-python",
   "name": "python",
   "nbconvert_exporter": "python",
   "pygments_lexer": "ipython3",
   "version": "3.7.3"
  }
 },
 "nbformat": 4,
 "nbformat_minor": 1
}
