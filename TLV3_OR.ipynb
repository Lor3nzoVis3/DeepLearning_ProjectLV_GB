{
 "cells": [
  {
   "cell_type": "markdown",
   "metadata": {
    "colab_type": "text",
    "id": "view-in-github"
   },
   "source": [
    "<a href=\"https://colab.research.google.com/github/Lor3nzoVis3/DeepLearning_ProjectLV_GB/blob/master/TransferLearningV3_faceOrientation.ipynb\" target=\"_parent\"><img src=\"https://colab.research.google.com/assets/colab-badge.svg\" alt=\"Open In Colab\"/></a>"
   ]
  },
  {
   "cell_type": "code",
   "execution_count": null,
   "metadata": {
    "colab": {},
    "colab_type": "code",
    "id": "yt4PHPdjkmWX"
   },
   "outputs": [],
   "source": [
    "\"\"\"\n",
    "@authors: LorenzoVisentini and Gianmarco Bolcato\n",
    "\"\"\"\n",
    "\n",
    "modelName = \"InceptionV3\"\n",
    "\n",
    "#import\n",
    "import numpy as np\n",
    "import pandas as pd\n",
    "import matplotlib.pyplot as plt\n",
    "\n",
    "#keras\n",
    "import keras\n",
    "from keras import backend as K\n",
    "from keras.layers import Dense, Dropout, Flatten, GlobalMaxPooling2D, BatchNormalization\n",
    "from keras.models import Model\n",
    "from keras import optimizers\n",
    "from keras.preprocessing.image import ImageDataGenerator\n",
    "#inception v3\n",
    "from keras.applications.inception_v3 import InceptionV3\n",
    "from keras.applications.inception_v3 import preprocess_input, decode_predictions\n",
    "\n",
    "import random\n",
    "random.seed(42)\n",
    "\n",
    "# variable to check if it's applied the batchNormalization patch\n",
    "patch = True"
   ]
  },
  {
   "cell_type": "code",
   "execution_count": null,
   "metadata": {
    "colab": {
     "base_uri": "https://localhost:8080/",
     "height": 121
    },
    "colab_type": "code",
    "id": "7bS35ShKlHgX",
    "outputId": "66c6d18b-0894-42d6-9172-974df3de7b53"
   },
   "outputs": [],
   "source": [
    "# link with Google Drive\n",
    "# from google.colab import drive\n",
    "# drive.mount('/content/drive')"
   ]
  },
  {
   "cell_type": "code",
   "execution_count": 3,
   "metadata": {
    "colab": {},
    "colab_type": "code",
    "id": "J1IiAdATlJk8"
   },
   "outputs": [],
   "source": [
    "# Images parameters\n",
    "img_target_size = (229, 229)\n",
    "shape = (229, 229, 3)\n",
    "\n",
    "# Jupyter notebook paths\n",
    "train_dir = './orient/train'\n",
    "val_dir = './orient/val' \n",
    "test_dir = './orient/test' \n",
    "\n",
    "# Google Colab paths\n",
    "# train_dir = '/content/drive/My Drive/Deep Learning Project - Image Classification/orient/train'\n",
    "# val_dir = '/content/drive/My Drive/Deep Learning Project - Image Classification/orient/val' \n",
    "# test_dir = '/content/drive/My Drive/Deep Learning Project - Image Classification/orient/test' "
   ]
  },
  {
   "cell_type": "code",
   "execution_count": 4,
   "metadata": {},
   "outputs": [],
   "source": [
    "n_classes = 3\n",
    "\n",
    "# Hyperparameters\n",
    "batch_size = 32\n",
    "epochs = 10\n",
    "drop_rate = 0.5\n",
    "lr = 0.002"
   ]
  },
  {
   "cell_type": "code",
   "execution_count": 5,
   "metadata": {
    "colab": {},
    "colab_type": "code",
    "id": "kLO44QeclNGW"
   },
   "outputs": [],
   "source": [
    "#from https://edebrouwer.github.io/deeplearning/carvision/transfer/neural/networks/learning/2017/08/05/TransferLearning.html\n",
    "\n",
    "#Transfer learning on InceptionV3 model\n",
    "#use all the layers except for the last fully connected layer (because its \n",
    "#specific to the ImageNet competition)\n",
    "#we will retrain layers with new inputs\n",
    "pre_trained_model = InceptionV3(input_shape = shape,\n",
    "                               include_top = False, #exclude last flatten layer\n",
    "                               weights = 'imagenet' #weights from imageNet\n",
    "                               ) \n",
    "\n",
    "# pre_trained_model.summary() #check V3 structure"
   ]
  },
  {
   "cell_type": "code",
   "execution_count": 6,
   "metadata": {
    "colab": {},
    "colab_type": "code",
    "id": "Nt27T7m5lNx-"
   },
   "outputs": [],
   "source": [
    "#transfer learning phase\n",
    "x = pre_trained_model.output\n",
    "\n",
    "x = GlobalMaxPooling2D()(x)\n",
    "x = Dropout(drop_rate)(x)\n",
    "\n",
    "x = Dense(512, activation= 'relu')(x) #add fully connected layer\n",
    "x = BatchNormalization()(x)\n",
    "\n",
    "x = Dense(n_classes, activation= 'softmax')(x)\n",
    "model = Model(inputs = pre_trained_model.input, outputs = x)\n",
    "\n",
    "#freeze the model excepted added layers\n",
    "# for layer in pre_trained_model.layers:\n",
    "#     layer.trainable = False\n",
    "\n",
    "#because of BN normalization problem: https://github.com/keras-team/keras/issues/9214\n",
    "for layer in pre_trained_model.layers:\n",
    "        if hasattr(layer, 'moving_mean') and hasattr(layer, 'moving_variance'):\n",
    "            layer.trainable = True\n",
    "            K.eval(K.update(layer.moving_mean, K.zeros_like(layer.moving_mean)))\n",
    "            K.eval(K.update(layer.moving_variance, K.zeros_like(layer.moving_variance)))\n",
    "        else:\n",
    "            layer.trainable = False\n",
    "\n",
    "opt = optimizers.Adam(learning_rate=lr)\n",
    "model.compile(optimizer = opt,\n",
    "              loss = 'categorical_crossentropy',  #because we have 3 possible outputs\n",
    "              metrics = ['accuracy'])"
   ]
  },
  {
   "cell_type": "code",
   "execution_count": 7,
   "metadata": {
    "colab": {
     "base_uri": "https://localhost:8080/",
     "height": 50
    },
    "colab_type": "code",
    "id": "8HDJwBUnlQN9",
    "outputId": "2bc24925-3817-421a-c852-4d64b481acf1"
   },
   "outputs": [
    {
     "name": "stdout",
     "output_type": "stream",
     "text": [
      "Found 6115 images belonging to 3 classes.\n",
      "Found 2548 images belonging to 3 classes.\n",
      "Found 1531 images belonging to 3 classes.\n"
     ]
    }
   ],
   "source": [
    "# preprocessing\n",
    "# https://machinelearningmastery.com/how-to-configure-image-data-augmentation-when-training-deep-learning-neural-networks/\n",
    "# https://www.pyimagesearch.com/2019/07/08/keras-imagedatagenerator-and-data-augmentation/\n",
    "\n",
    "# train_gen = ImageDataGenerator(width_shift_range=[0,0.3],\n",
    "#                             height_shift_range=[0,0.3],\n",
    "#                             zoom_range=[0.8,1.0],\n",
    "#                             fill_mode=\"nearest\")\n",
    "test_gen = ImageDataGenerator()\n",
    "\n",
    "train_generator = test_gen.flow_from_directory(directory=train_dir,\n",
    "                                                    target_size=img_target_size,\n",
    "                                                    color_mode=\"rgb\",\n",
    "                                                    batch_size=batch_size,\n",
    "                                                    class_mode=\"categorical\",\n",
    "                                                    shuffle=True,\n",
    "                                                    seed=42\n",
    "                                                    )\n",
    "\n",
    "val_generator = test_gen.flow_from_directory(directory=val_dir,\n",
    "                                                    target_size=img_target_size,\n",
    "                                                    color_mode=\"rgb\",\n",
    "                                                    batch_size=batch_size,\n",
    "                                                    class_mode=\"categorical\",\n",
    "                                                    shuffle=True,\n",
    "                                                    seed=42\n",
    "                                                    )\n",
    "\n",
    "test_generator = test_gen.flow_from_directory(directory = test_dir,\n",
    "                                                    target_size = img_target_size,\n",
    "                                                    color_mode=\"rgb\",\n",
    "                                                    batch_size = batch_size,\n",
    "                                                    class_mode = \"categorical\",\n",
    "                                                    shuffle=True,\n",
    "                                                    seed=42\n",
    "                                                )\n",
    "# DONT PUT SHUFFLE = FALSE"
   ]
  },
  {
   "cell_type": "code",
   "execution_count": 8,
   "metadata": {
    "colab": {
     "base_uri": "https://localhost:8080/",
     "height": 689
    },
    "colab_type": "code",
    "id": "KM3KBW1WlZsq",
    "outputId": "680a12f4-5222-4645-e92f-6ece85661572"
   },
   "outputs": [
    {
     "name": "stdout",
     "output_type": "stream",
     "text": [
      "Epoch 1/10\n",
      "191/191 [==============================] - 81s 424ms/step - loss: 1.0633 - accuracy: 0.5695 - val_loss: 0.9342 - val_accuracy: 0.6460\n",
      "Epoch 2/10\n",
      "191/191 [==============================] - 63s 332ms/step - loss: 0.7925 - accuracy: 0.6614 - val_loss: 0.8948 - val_accuracy: 0.7206\n",
      "Epoch 3/10\n",
      "191/191 [==============================] - 62s 326ms/step - loss: 0.6679 - accuracy: 0.7343 - val_loss: 0.4944 - val_accuracy: 0.7039\n",
      "Epoch 4/10\n",
      "191/191 [==============================] - 62s 324ms/step - loss: 0.5670 - accuracy: 0.7771 - val_loss: 0.5583 - val_accuracy: 0.7667\n",
      "Epoch 5/10\n",
      "191/191 [==============================] - 62s 324ms/step - loss: 0.4776 - accuracy: 0.8179 - val_loss: 0.4946 - val_accuracy: 0.8176\n",
      "Epoch 6/10\n",
      "191/191 [==============================] - 62s 323ms/step - loss: 0.4280 - accuracy: 0.8345 - val_loss: 0.3561 - val_accuracy: 0.8283\n",
      "Epoch 7/10\n",
      "191/191 [==============================] - 62s 324ms/step - loss: 0.3803 - accuracy: 0.8588 - val_loss: 0.1350 - val_accuracy: 0.8406\n",
      "Epoch 8/10\n",
      "191/191 [==============================] - 62s 323ms/step - loss: 0.3503 - accuracy: 0.8683 - val_loss: 0.6409 - val_accuracy: 0.8355\n",
      "Epoch 9/10\n",
      "191/191 [==============================] - 62s 325ms/step - loss: 0.3400 - accuracy: 0.8716 - val_loss: 0.3542 - val_accuracy: 0.8072\n",
      "Epoch 10/10\n",
      "191/191 [==============================] - 62s 323ms/step - loss: 0.3055 - accuracy: 0.8833 - val_loss: 0.3456 - val_accuracy: 0.8474\n"
     ]
    }
   ],
   "source": [
    "history = model.fit_generator(generator = train_generator,\n",
    "                             steps_per_epoch = train_generator.n//batch_size,\n",
    "                             epochs = epochs,\n",
    "                             validation_data = val_generator,\n",
    "                             validation_steps=val_generator.n//batch_size\n",
    "                             )"
   ]
  },
  {
   "cell_type": "code",
   "execution_count": null,
   "metadata": {
    "colab": {
     "base_uri": "https://localhost:8080/",
     "height": 34
    },
    "colab_type": "code",
    "id": "nGeRgbNWlXZc",
    "outputId": "ea94524d-6ec0-4c54-c0ae-fe2d0c0ab80d"
   },
   "outputs": [],
   "source": [
    "# consider highlight the different values of hyperparameters used\n",
    "# OR orient o SL source light, Bs batch size, Ep epochs, Dr drop rate, Lr learning rate\n",
    "# CHECK ALWAYS BOOLEAN PATCH VALUES (on top)\n",
    "\n",
    "# create models folder if doesn't exist\n",
    "path_models = './Models'\n",
    "if os.path.exists(path_models) == False:\n",
    "    os.makedirs(path_models)\n",
    "else: \n",
    "    print('Folder Models already exists')\n",
    "    \n",
    "# save model and history\n",
    "# file_model = '/content/drive/My Drive/Deep Learning Project - Image Classification/Models/'+ modelName + 'OR' + '_Bs' + str(batch_size) + '_Ep' + str(epochs) + '_Dr' + str(drop_rate) + '_Lr' + str(lr)\n",
    "file_model = './Models/'+ modelName + 'OR' + '_Bs' + str(batch_size) + '_Ep' + str(epochs) + '_Dr' + str(drop_rate) + '_Lr' + str(lr)\n",
    "if patch == True:\n",
    "    file_model = file_model + '_patched'\n",
    "    model.save(file_model + '.h5')\n",
    "else:\n",
    "    model.save(file_model + '.h5')\n",
    "print(file_model)\n",
    "\n",
    "#save history\n",
    "file_hist = file_model + '.csv'\n",
    "df_history = pd.DataFrame(history.history)\n",
    "with open(file_hist, 'w') as file:\n",
    "    df_history.to_csv(file)"
   ]
  },
  {
   "cell_type": "code",
   "execution_count": 9,
   "metadata": {
    "colab": {
     "base_uri": "https://localhost:8080/",
     "height": 573
    },
    "colab_type": "code",
    "id": "7J1531PflugX",
    "outputId": "2acb217e-6cdd-4172-a13f-7ff09c9650f5"
   },
   "outputs": [
    {
     "data": {
      "image/png": "[encoded data removed]",
      "text/plain": [
       "<Figure size 432x288 with 1 Axes>"
      ]
     },
     "metadata": {
      "needs_background": "light"
     },
     "output_type": "display_data"
    },
    {
     "data": {
      "image/png": "[encoded data removed]",
      "text/plain": [
       "<Figure size 432x288 with 1 Axes>"
      ]
     },
     "metadata": {
      "needs_background": "light"
     },
     "output_type": "display_data"
    }
   ],
   "source": [
    "#plot results\n",
    "plt.plot(history.history['accuracy'])\n",
    "plt.plot(history.history['val_accuracy'])\n",
    "plt.title('model accuracy')\n",
    "plt.ylabel('accuracy')\n",
    "plt.xlabel('epoch')\n",
    "plt.legend(['train', 'val'], loc='upper left')\n",
    "plt.show()\n",
    "\n",
    "# summarize history for loss\n",
    "plt.plot(history.history['loss'])\n",
    "plt.plot(history.history['val_loss'])\n",
    "plt.title('model loss')\n",
    "plt.ylabel('loss')\n",
    "plt.xlabel('epoch')\n",
    "plt.legend(['train', 'val'], loc='upper left')\n",
    "plt.show()"
   ]
  },
  {
   "cell_type": "code",
   "execution_count": null,
   "metadata": {
    "colab": {
     "base_uri": "https://localhost:8080/",
     "height": 151
    },
    "colab_type": "code",
    "id": "gR4Yk5spl1PW",
    "outputId": "ea407122-49f1-401e-cd00-c7a9a841fede"
   },
   "outputs": [],
   "source": [
    "#evaluation\n",
    "# https://stackoverflow.com/questions/40564936/keras-what-is-the-difference-between-model-evaluate-generator-and-model-predict\n",
    "steps = test_generator.n // test_generator.batch_size\n",
    "\n",
    "accuracy_ontest = model.evaluate_generator(test_generator, steps)\n",
    "# predictions_ontest = model.predict_generator(test_generator, steps)\n",
    "print(accuracy_ontest)\n",
    "# print(predictions_ontest)"
   ]
  }
 ],
 "metadata": {
  "accelerator": "GPU",
  "colab": {
   "authorship_tag": "ABX9TyNm9E62FX/CHAJjur25sKth",
   "include_colab_link": true,
   "name": "TransferLearningV3_faceOrientation.ipynb",
   "provenance": []
  },
  "kernelspec": {
   "display_name": "Python 3",
   "language": "python",
   "name": "python3"
  },
  "language_info": {
   "codemirror_mode": {
    "name": "ipython",
    "version": 3
   },
   "file_extension": ".py",
   "mimetype": "text/x-python",
   "name": "python",
   "nbconvert_exporter": "python",
   "pygments_lexer": "ipython3",
   "version": "3.7.3"
  }
 },
 "nbformat": 4,
 "nbformat_minor": 1
}
