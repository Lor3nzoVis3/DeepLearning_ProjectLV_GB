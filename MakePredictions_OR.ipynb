{
 "cells": [
  {
   "cell_type": "code",
   "execution_count": null,
   "metadata": {},
   "outputs": [],
   "source": [
    "# Import\n",
    "import os\n",
    "from os import listdir, path\n",
    "import random\n",
    "import numpy as np\n",
    "import pandas as pd\n",
    "\n",
    "# matplotlib\n",
    "import matplotlib.pyplot as plt\n",
    "import matplotlib.image as mpimg\n",
    "\n",
    "# keras\n",
    "import keras\n",
    "from keras.models import load_model\n",
    "from keras.preprocessing.image import load_img\n",
    "from keras.preprocessing.image import img_to_array\n",
    "from keras.utils import plot_model"
   ]
  },
  {
   "cell_type": "code",
   "execution_count": null,
   "metadata": {},
   "outputs": [],
   "source": [
    "# Load model\n",
    "modelName = '' \n",
    "model_path = './Models/'+ modelName + '.h5'\n",
    "model = load_model(model_path)"
   ]
  },
  {
   "cell_type": "code",
   "execution_count": null,
   "metadata": {},
   "outputs": [],
   "source": [
    "%pylab inline\n",
    "\n",
    "# Display model tree\n",
    "# tree_path = '/content/drive/My Drive/Deep Learning Project - Image Classification/ModelTrees' \n",
    "tree_path = './ModelTrees'\n",
    "\n",
    "img = mpimg.imread(f'{tree_path}/{modelName}.png')\n",
    "imgplot = plt.imshow(img)\n",
    "plt.show()"
   ]
  },
  {
   "cell_type": "code",
   "execution_count": null,
   "metadata": {},
   "outputs": [],
   "source": [
    "# Load image\n",
    "\n",
    "# samples_dir = '/content/drive/My Drive/Deep Learning Project - Image Classification/img_align_celeba_1000samples'\n",
    "samples_dir = './img_align_celeba_1000samples'\n",
    "\n",
    "listOfFiles = [os.path.join(samples_dir,file) for file in os.listdir(samples_dir)  if os.path.isfile(os.path.join(samples_dir, file))]\n",
    "print(len(listOfFiles))\n",
    "random.shuffle(listOfFiles)"
   ]
  },
  {
   "cell_type": "code",
   "execution_count": null,
   "metadata": {},
   "outputs": [],
   "source": [
    "# Output some predictions\n",
    "# print 9 predictions (sample)\n",
    "n_files = 9\n",
    "imageShape=(218,178)\n",
    "labels_list = ['center_orient', 'left_orient', 'right_orient']\n",
    "\n",
    "fig, ax = plt.subplots(figsize=(10,10))\n",
    "\n",
    "# Make predictions\n",
    "preds = []\n",
    "labels = []\n",
    "\n",
    "\n",
    "i = 1\n",
    "for image in listOfFiles[0:n_files]:\n",
    "    ax.set_axis_off()\n",
    "    img = load_img(image, target_size=(229, 229))\n",
    "    # convert to array\n",
    "    img = img_to_array(img)\n",
    "    # reshape into a single sample with 3 channels\n",
    "    img = img.reshape(1, 229, 229, 3)\n",
    "    # center pixel data\n",
    "#   img = img.astype('float32')\n",
    "    \n",
    "    pred = model.predict(img)\n",
    "    idx_label = np.argmax(pred[0])\n",
    "    pred_label = labels_list[idx_label]\n",
    "    \n",
    "    preds.append(pred[0][idx_label])\n",
    "    labels.append(pred_label)\n",
    "    \n",
    "    img = mpimg.imread(image)\n",
    "    ax = fig.add_subplot(3,3,i)\n",
    "    ax.imshow(img)      \n",
    "    ax.set_title('{} - {:03.1f}%'.format(pred_label,pred[0][idx_label]*100))\n",
    "    \n",
    "    i += 1"
   ]
  },
  {
   "cell_type": "code",
   "execution_count": null,
   "metadata": {},
   "outputs": [],
   "source": [
    "# Stack together labels and predictions \n",
    "pred_to_print = np.vstack((labels, preds)).T\n",
    "# Save scores in a csv file\n",
    "pred_to_save = pd.DataFrame(pred_to_print, columns=['labels', 'predictions']).to_csv('predictions_prova.csv', sep=';')"
   ]
  },
  {
   "cell_type": "code",
   "execution_count": null,
   "metadata": {},
   "outputs": [],
   "source": [
    "# On the WHOLE dataset\n",
    "# Create a .csv file with all the images labeled and classified\n",
    "samples_dir = './img_align_celeba'\n",
    "listOfFiles = [os.path.join(samples_dir,file) for file in os.listdir(samples_dir)  if os.path.isfile(os.path.join(samples_dir, file))]\n",
    "print(len(listOfFiles))\n",
    "\n",
    "# No need of shuffle\n",
    "\n",
    "for image in listOfFiles:\n",
    "\n",
    "    img = load_img(image, target_size=(218, 178))\n",
    "    # convert to array\n",
    "    img = img_to_array(img)\n",
    "    # reshape into a single sample with 3 channels\n",
    "    img = img.reshape(1, 218, 178, 3)\n",
    "    \n",
    "    pred = model.predict(img)\n",
    "    idx_label = np.argmax(pred[0])\n",
    "    pred_label = labels_list[idx_label]\n",
    "    \n",
    "    preds.append(pred[0][idx_label])\n",
    "    labels.append(pred_label)\n",
    "    \n",
    "# Stack together labels and predictions \n",
    "pred_to_print = np.vstack((labels, preds)).T\n",
    "# Save scores in a csv file\n",
    "pred_to_save = pd.DataFrame(pred_to_print, columns=['labels', 'predictions']).to_csv('predictionsfull_prova.csv', sep=';')"
   ]
  }
 ],
 "metadata": {
  "kernelspec": {
   "display_name": "Python 3",
   "language": "python",
   "name": "python3"
  },
  "language_info": {
   "codemirror_mode": {
    "name": "ipython",
    "version": 3
   },
   "file_extension": ".py",
   "mimetype": "text/x-python",
   "name": "python",
   "nbconvert_exporter": "python",
   "pygments_lexer": "ipython3",
   "version": "3.7.3"
  }
 },
 "nbformat": 4,
 "nbformat_minor": 4
}
