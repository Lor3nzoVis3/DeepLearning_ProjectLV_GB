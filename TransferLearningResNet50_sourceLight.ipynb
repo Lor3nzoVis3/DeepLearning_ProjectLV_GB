{
  "nbformat": 4,
  "nbformat_minor": 0,
  "metadata": {
    "colab": {
      "name": "TransferLearningResNet50_sourceLight",
      "provenance": [],
      "authorship_tag": "ABX9TyORzwQ9xwlZuWfJw7HkNd3a",
      "include_colab_link": true
    },
    "kernelspec": {
      "name": "python3",
      "display_name": "Python 3"
    },
    "accelerator": "GPU"
  },
  "cells": [
    {
      "cell_type": "markdown",
      "metadata": {
        "id": "view-in-github",
        "colab_type": "text"
      },
      "source": [
        "<a href=\"https://colab.research.google.com/github/Lor3nzoVis3/DeepLearning_ProjectLV_GB/blob/master/TransferLearningResNet50_sourceLight.ipynb\" target=\"_parent\"><img src=\"https://colab.research.google.com/assets/colab-badge.svg\" alt=\"Open In Colab\"/></a>"
      ]
    },
    {
      "cell_type": "code",
      "metadata": {
        "id": "uOrA5dznqP2X",
        "colab_type": "code",
        "colab": {}
      },
      "source": [
        "\"\"\"\n",
        "@author: LorenzoVisentini\n",
        "\"\"\"\n",
        "\n",
        "modelName = \"ResNet50\"\n",
        "\n",
        "#import\n",
        "import numpy as np\n",
        "import pandas as pd\n",
        "import matplotlib.pyplot as plt\n",
        "\n",
        "from sklearn.model_selection import train_test_split\n",
        "#keras\n",
        "import keras\n",
        "from keras.layers import Dense, Dropout, Flatten, GlobalAveragePooling2D\n",
        "from keras.models import Model\n",
        "from keras import optimizers\n",
        "from keras.preprocessing.image import ImageDataGenerator\n",
        "#inception v3\n",
        "from keras.applications import ResNet50\n",
        "from keras.applications.resnet50 import preprocess_input, decode_predictions\n",
        "\n",
        "random.seed(42)"
      ],
      "execution_count": null,
      "outputs": []
    },
    {
      "cell_type": "code",
      "metadata": {
        "id": "5F95ZWJo22Fu",
        "colab_type": "code",
        "colab": {
          "base_uri": "https://localhost:8080/",
          "height": 34
        },
        "outputId": "4b5df926-92c1-41e2-e303-a073a71d3cfb"
      },
      "source": [
        "# link with Google Drive\n",
        "from google.colab import drive\n",
        "drive.mount('/content/drive')"
      ],
      "execution_count": null,
      "outputs": [
        {
          "output_type": "stream",
          "text": [
            "Drive already mounted at /content/drive; to attempt to forcibly remount, call drive.mount(\"/content/drive\", force_remount=True).\n"
          ],
          "name": "stdout"
        }
      ]
    },
    {
      "cell_type": "code",
      "metadata": {
        "id": "vLBLO2nU23ws",
        "colab_type": "code",
        "colab": {}
      },
      "source": [
        "# Images parameters\n",
        "img_target_size = (224, 224)\n",
        "shape = (224, 224, 3)\n",
        "\n",
        "# Jupyter notebook paths\n",
        "# train_dir = './source_light/training'\n",
        "# validation_dir = './source_light/validation' \n",
        "\n",
        "# Google Colab paths\n",
        "train_dir = '/content/drive/My Drive/Deep Learning Project - Image Classification/source_light/train'\n",
        "val_dir = '/content/drive/My Drive/Deep Learning Project - Image Classification/source_light/val' \n",
        "test_dir = '/content/drive/My Drive/Deep Learning Project - Image Classification/source_light/test' \n"
      ],
      "execution_count": null,
      "outputs": []
    },
    {
      "cell_type": "code",
      "metadata": {
        "id": "q34m5OG411TQ",
        "colab_type": "code",
        "colab": {}
      },
      "source": [
        "n_classes = 3\n",
        "\n",
        "# Hyperparameters\n",
        "batch_size = 32\n",
        "epochs = 10\n",
        "drop_rate = 0.5\n",
        "lr = 0.002"
      ],
      "execution_count": null,
      "outputs": []
    },
    {
      "cell_type": "code",
      "metadata": {
        "id": "wTTpms6q25mC",
        "colab_type": "code",
        "colab": {
          "base_uri": "https://localhost:8080/",
          "height": 50
        },
        "outputId": "3d0b3782-3f0a-485d-c4d8-87ce1d9e7e76"
      },
      "source": [
        "# from https://www.kaggle.com/suniliitb96/tutorial-keras-transfer-learning-with-resnet50\n",
        "# https://www.pyimagesearch.com/2020/04/27/fine-tuning-resnet-with-keras-tensorflow-and-deep-learning/\n",
        "\n",
        "# Transfer learning on ResNet50 model\n",
        "# use all the layers except for the last fully connected layer (because its \n",
        "# specific to the ImageNet competition)\n",
        "# we will retrain layers with new inputs\n",
        "pre_trained_model = ResNet50(input_shape = shape,\n",
        "                               include_top = False, #exclude last flatten layer\n",
        "                               weights = 'imagenet' #weights from imageNet\n",
        "                               ) \n",
        "\n",
        "pre_trained_model.summary() #check ResNet50 structure"
      ],
      "execution_count": null,
      "outputs": [
        {
          "output_type": "stream",
          "text": [
            "/usr/local/lib/python3.6/dist-packages/keras_applications/resnet50.py:265: UserWarning: The output shape of `ResNet50(include_top=False)` has been changed since Keras 2.2.0.\n",
            "  warnings.warn('The output shape of `ResNet50(include_top=False)` '\n"
          ],
          "name": "stderr"
        }
      ]
    },
    {
      "cell_type": "code",
      "metadata": {
        "id": "rE6_Mley28tT",
        "colab_type": "code",
        "colab": {}
      },
      "source": [
        "#transfer learning phase\n",
        "x = pre_trained_model.output\n",
        "x = GlobalAveragePooling2D()(x)\n",
        "x = Flatten()(x)\n",
        "x = Dense(128, activation= 'relu')(x)\n",
        "x = Dropout(drop_rate)(x)\n",
        "# x = Dense(128, activation= 'relu')(x)\n",
        "x = Dense(n_classes, activation= 'softmax')(x)\n",
        "model = Model(inputs = pre_trained_model.input, outputs = x)\n",
        "\n",
        "#freeze the model excepted added layers\n",
        "#freeze the model excepted added layers\n",
        "for layer in pre_trained_model.layers:\n",
        "    layer.trainable = False\n",
        "\n",
        "# custom optimizer\n",
        "opt = optimizers.Adam(learning_rate=lr)\n",
        "\n",
        "model.compile(optimizer = opt,\n",
        "              loss = 'categorical_crossentropy',  #because we have 3 possible outputs\n",
        "              metrics = ['accuracy'])"
      ],
      "execution_count": null,
      "outputs": []
    },
    {
      "cell_type": "code",
      "metadata": {
        "id": "9qxK4EFG2-2k",
        "colab_type": "code",
        "colab": {
          "base_uri": "https://localhost:8080/",
          "height": 50
        },
        "outputId": "6dcd73ec-a43d-4380-b5e1-b4b3438b0748"
      },
      "source": [
        "#preprocessing\n",
        "datagen = ImageDataGenerator()\n",
        "train_generator = datagen.flow_from_directory(directory=train_dir,\n",
        "                                                    target_size=img_target_size,\n",
        "                                                    color_mode=\"rgb\",\n",
        "                                                    batch_size=batch_size,\n",
        "                                                    class_mode=\"categorical\",\n",
        "                                                    shuffle = False\n",
        "                                                    )\n",
        "\n",
        "val_generator = datagen.flow_from_directory(directory=val_dir,\n",
        "                                                    target_size=img_target_size,\n",
        "                                                    color_mode=\"rgb\",\n",
        "                                                    batch_size=batch_size,\n",
        "                                                    class_mode=\"categorical\",\n",
        "                                                    shuffle = False\n",
        "                                                    )\n",
        "\n",
        "test_generator = datagen.flow_from_directory(directory = test_dir,\n",
        "                                                    target_size = img_target_size,\n",
        "                                                    color_mode=\"rgb\",\n",
        "                                                    batch_size = BATCH_SIZE_TESTING,\n",
        "                                                    class_mode = \"categorical\",\n",
        "                                                    shuffle = False\n",
        "                                                )"
      ],
      "execution_count": null,
      "outputs": [
        {
          "output_type": "stream",
          "text": [
            "Found 7000 images belonging to 3 classes.\n",
            "Found 3000 images belonging to 3 classes.\n"
          ],
          "name": "stdout"
        }
      ]
    },
    {
      "cell_type": "code",
      "metadata": {
        "id": "NChQDcRF3CNF",
        "colab_type": "code",
        "colab": {
          "base_uri": "https://localhost:8080/",
          "height": 353
        },
        "outputId": "b63ca0a5-b5e6-47e3-fa42-09f44e96076f"
      },
      "source": [
        "history = model.fit_generator(generator = train_generator,\n",
        "                             steps_per_epoch = train_generator.n//batch_size,\n",
        "                             epochs = epochs,\n",
        "                             validation_data = val_generator,\n",
        "                             validation_steps = val_generator.n//batch_size\n",
        "                             )"
      ],
      "execution_count": null,
      "outputs": [
        {
          "output_type": "stream",
          "text": [
            "Epoch 1/10\n",
            "218/218 [==============================] - 108s 496ms/step - loss: 0.9148 - accuracy: 0.5550 - val_loss: 0.9179 - val_accuracy: 0.5494\n",
            "Epoch 2/10\n",
            "218/218 [==============================] - 102s 469ms/step - loss: 0.8137 - accuracy: 0.6028 - val_loss: 0.6094 - val_accuracy: 0.5930\n",
            "Epoch 3/10\n",
            "218/218 [==============================] - 102s 469ms/step - loss: 0.7960 - accuracy: 0.6150 - val_loss: 0.8767 - val_accuracy: 0.5654\n",
            "Epoch 4/10\n",
            "218/218 [==============================] - 103s 470ms/step - loss: 0.7721 - accuracy: 0.6221 - val_loss: 0.9614 - val_accuracy: 0.6085\n",
            "Epoch 5/10\n",
            "218/218 [==============================] - 102s 470ms/step - loss: 0.7629 - accuracy: 0.6274 - val_loss: 1.1290 - val_accuracy: 0.5819\n",
            "Epoch 6/10\n",
            "218/218 [==============================] - 102s 469ms/step - loss: 0.7579 - accuracy: 0.6244 - val_loss: 0.6914 - val_accuracy: 0.5714\n",
            "Epoch 7/10\n",
            "218/218 [==============================] - 102s 470ms/step - loss: 0.7435 - accuracy: 0.6326 - val_loss: 0.5981 - val_accuracy: 0.5900\n",
            "Epoch 8/10\n",
            "218/218 [==============================] - 102s 470ms/step - loss: 0.7338 - accuracy: 0.6359 - val_loss: 0.8406 - val_accuracy: 0.5782\n",
            "Epoch 9/10\n",
            "218/218 [==============================] - 102s 470ms/step - loss: 0.7513 - accuracy: 0.6264 - val_loss: 1.2595 - val_accuracy: 0.5718\n",
            "Epoch 10/10\n",
            "218/218 [==============================] - 102s 470ms/step - loss: 0.7202 - accuracy: 0.6428 - val_loss: 0.9793 - val_accuracy: 0.6115\n"
          ],
          "name": "stdout"
        }
      ]
    },
    {
      "cell_type": "code",
      "metadata": {
        "id": "uC6O5NqM3De2",
        "colab_type": "code",
        "colab": {
          "base_uri": "https://localhost:8080/",
          "height": 34
        },
        "outputId": "8a36b29b-4c76-4fdc-be0f-f83e14b99d72"
      },
      "source": [
        "# save model and history\n",
        "# consider highlight the different values of hyperparameters used ()\n",
        "file_model = '/content/drive/My Drive/Deep Learning Project - Image Classification/Models/'+ modelName + 'SL' + '_Bs' + str(batch_size) + '_Ep' + str(epochs) + '_Dr' + str(drop_rate) + '_Lr' + str(lr)\n",
        "model.save(file_model + '.h5')\n",
        "print(file_model)\n",
        "#save history\n",
        "file_hist = file_model + '.csv'\n",
        "df_history = pd.DataFrame(history.history)\n",
        "with open(file_hist, 'w') as file:\n",
        "    df_history.to_csv(file)"
      ],
      "execution_count": null,
      "outputs": [
        {
          "output_type": "stream",
          "text": [
            "/content/drive/My Drive/Deep Learning Project - Image Classification/Models/SourceLightDropoutResNet50_32_10\n"
          ],
          "name": "stdout"
        }
      ]
    },
    {
      "cell_type": "code",
      "metadata": {
        "id": "F0Pb9kTB3FcA",
        "colab_type": "code",
        "colab": {
          "base_uri": "https://localhost:8080/",
          "height": 573
        },
        "outputId": "6d15e8af-0201-40c7-c90a-4deef8ef5921"
      },
      "source": [
        "#plot results\n",
        "plt.plot(history.history['accuracy'])\n",
        "plt.plot(history.history['val_accuracy'])\n",
        "plt.title('model accuracy')\n",
        "plt.ylabel('accuracy')\n",
        "plt.xlabel('epoch')\n",
        "plt.legend(['train', 'val'], loc='upper left')\n",
        "plt.show()\n",
        "\n",
        "# summarize history for loss\n",
        "plt.plot(history.history['loss'])\n",
        "plt.plot(history.history['val_loss'])\n",
        "plt.title('model loss')\n",
        "plt.ylabel('loss')\n",
        "plt.xlabel('epoch')\n",
        "plt.legend(['train', 'val'], loc='upper left')\n",
        "plt.show()"
      ],
      "execution_count": null,
      "outputs": [
        {
          "output_type": "display_data",
          "data": {
            "image/png": "[encoded data removed]",
            "text/plain": [
              "<Figure size 432x288 with 1 Axes>"
            ]
          },
          "metadata": {
            "tags": [],
            "needs_background": "light"
          }
        },
        {
          "output_type": "display_data",
          "data": {
            "image/png": "[encoded data removed]",
            "text/plain": [
              "<Figure size 432x288 with 1 Axes>"
            ]
          },
          "metadata": {
            "tags": [],
            "needs_background": "light"
          }
        }
      ]
    },
    {
      "cell_type": "code",
      "metadata": {
        "id": "q378f0hG3H8s",
        "colab_type": "code",
        "colab": {
          "base_uri": "https://localhost:8080/",
          "height": 151
        },
        "outputId": "d1872bde-92ba-450a-9841-8035099cefef"
      },
      "source": [
        "#evaluation\n",
        "# https://stackoverflow.com/questions/40564936/keras-what-is-the-difference-between-model-evaluate-generator-and-model-predict\n",
        "steps = test_generator.n // test_generator.batch_size\n",
        "\n",
        "accuracy_ontest = model.evaluate_generator(test_generator, steps)\n",
        "# predictions_ontest = model.predict_generator(test_generator, steps)\n",
        "print(accuracy_ontest)\n",
        "print(predictions_ontest)"
      ],
      "execution_count": null,
      "outputs": [
        {
          "output_type": "stream",
          "text": [
            "[0.9919607639312744, 0.6071908473968506]\n",
            "[[0.79349    0.09525254 0.1112574 ]\n",
            " [0.4860824  0.23990974 0.27400783]\n",
            " [0.6153992  0.17599432 0.20860648]\n",
            " ...\n",
            " [0.91050184 0.04023413 0.04926402]\n",
            " [0.5404455  0.23846425 0.22109024]\n",
            " [0.90568614 0.04524339 0.04907048]]\n"
          ],
          "name": "stdout"
        }
      ]
    }
  ]
}