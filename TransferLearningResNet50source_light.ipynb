{
  "nbformat": 4,
  "nbformat_minor": 0,
  "metadata": {
    "colab": {
      "name": "TransferLearningResNet50source_light.ipynb",
      "provenance": [],
      "authorship_tag": "ABX9TyP2Djlj6e0HGQR/UjPW1BNc",
      "include_colab_link": true
    },
    "kernelspec": {
      "name": "python3",
      "display_name": "Python 3"
    }
  },
  "cells": [
    {
      "cell_type": "markdown",
      "metadata": {
        "id": "view-in-github",
        "colab_type": "text"
      },
      "source": [
        "<a href=\"https://colab.research.google.com/github/Lor3nzoVis3/DeepLearning_ProjectLV_GB/blob/master/TransferLearningResNet50source_light.ipynb\" target=\"_parent\"><img src=\"https://colab.research.google.com/assets/colab-badge.svg\" alt=\"Open In Colab\"/></a>"
      ]
    },
    {
      "cell_type": "code",
      "metadata": {
        "id": "uOrA5dznqP2X",
        "colab_type": "code",
        "colab": {}
      },
      "source": [
        "\"\"\"\n",
        "@author: LorenzoVisentini\n",
        "\"\"\"\n",
        "\n",
        "modelName = \"ResNet50\"\n",
        "\n",
        "#import\n",
        "import numpy as np\n",
        "import pandas as pd\n",
        "import matplotlib.pyplot as plt\n",
        "\n",
        "from sklearn.model_selection import train_test_split\n",
        "#keras\n",
        "import keras\n",
        "from keras.layers import Dense, Dropout, Flatten, GlobalAveragePooling2D\n",
        "from keras.models import Model\n",
        "from keras import optimizers\n",
        "from keras.preprocessing.image import ImageDataGenerator\n",
        "#inception v3\n",
        "from keras.applications import ResNet50\n",
        "from keras.applications.resnet50 import preprocess_input, decode_predictions"
      ],
      "execution_count": null,
      "outputs": []
    },
    {
      "cell_type": "code",
      "metadata": {
        "id": "5F95ZWJo22Fu",
        "colab_type": "code",
        "colab": {}
      },
      "source": [
        "from google.colab import drive\n",
        "drive.mount('/content/drive')"
      ],
      "execution_count": null,
      "outputs": []
    },
    {
      "cell_type": "code",
      "metadata": {
        "id": "vLBLO2nU23ws",
        "colab_type": "code",
        "colab": {}
      },
      "source": [
        "#Images parameters\n",
        "img_width = 299\n",
        "img_height = 299\n",
        "\n",
        "# train_dir = './source_light/training'\n",
        "# validation_dir = './source_light/validation' \n",
        "train_dir = '/content/drive/My Drive/Deep Learning Project - Image Classification/source_light/training'\n",
        "validation_dir = '/content/drive/My Drive/Deep Learning Project - Image Classification/source_light/validation' \n",
        "\n",
        "batch_size = 32\n",
        "epochs = 20"
      ],
      "execution_count": null,
      "outputs": []
    },
    {
      "cell_type": "code",
      "metadata": {
        "id": "wTTpms6q25mC",
        "colab_type": "code",
        "colab": {}
      },
      "source": [
        "#from https://edebrouwer.github.io/deeplearning/carvision/transfer/neural/networks/learning/2017/08/05/TransferLearning.html\n",
        "\n",
        "#Transfer learning on InceptionV3 model\n",
        "#use all the layers except for the last fully connected layer (because its \n",
        "#specific to the ImageNet competition)\n",
        "#we will retrain layers with new inputs\n",
        "pre_trained_model = InceptionV3(input_shape = (img_height, img_width, 3),\n",
        "                               include_top = False, #exclude last flatten layer\n",
        "                               weights = 'imagenet' #weights from imageNet\n",
        "                               ) \n",
        "\n",
        "# pre_trained_model.summary() #check V3 structure"
      ],
      "execution_count": null,
      "outputs": []
    },
    {
      "cell_type": "code",
      "metadata": {
        "id": "rE6_Mley28tT",
        "colab_type": "code",
        "colab": {}
      },
      "source": [
        "n_classes = 3\n",
        "\n",
        "#transfer learning phase\n",
        "x = pre_trained_model.output\n",
        "x = GlobalAveragePooling2D()(x)\n",
        "x = Dense(128, activation= 'relu')(x)\n",
        "x = Dense(n_classes, activation= 'softmax')(x)\n",
        "model = Model(inputs = pre_trained_model.input, outputs = x)\n",
        "\n",
        "#freeze the model excepted added layers\n",
        "#freeze the model excepted added layers\n",
        "for layer in pre_trained_model.layers:\n",
        "    layer.trainable = False\n",
        "\n",
        "model.compile(optimizer = 'Adam',\n",
        "              loss = 'categorical_crossentropy',  #because we have 3 possible outputs\n",
        "              metrics = ['accuracy'])"
      ],
      "execution_count": null,
      "outputs": []
    },
    {
      "cell_type": "code",
      "metadata": {
        "id": "9qxK4EFG2-2k",
        "colab_type": "code",
        "colab": {}
      },
      "source": [
        "#preprocessing\n",
        "datagen = ImageDataGenerator(preprocessing_function = preprocess_input)\n",
        "train_generator = datagen.flow_from_directory(directory=train_dir,\n",
        "                                                    target_size=(img_height, img_width),\n",
        "                                                    color_mode=\"rgb\",\n",
        "                                                    batch_size=batch_size,\n",
        "                                                    class_mode=\"categorical\",\n",
        "                                                    shuffle=True,\n",
        "                                                    seed=42\n",
        "                                                    )\n",
        "\n",
        "val_generator = datagen.flow_from_directory(directory=validation_dir,\n",
        "                                                    target_size=(img_height, img_width),\n",
        "                                                    color_mode=\"rgb\",\n",
        "                                                    batch_size=batch_size,\n",
        "                                                    class_mode=\"categorical\",\n",
        "                                                    shuffle=True,\n",
        "                                                    seed=42\n",
        "                                                    )"
      ],
      "execution_count": null,
      "outputs": []
    },
    {
      "cell_type": "code",
      "metadata": {
        "id": "NChQDcRF3CNF",
        "colab_type": "code",
        "colab": {}
      },
      "source": [
        "history = model.fit_generator(generator = train_generator,\n",
        "                             steps_per_epoch = train_generator.n//batch_size,\n",
        "                             epochs = epochs,\n",
        "                             validation_data = val_generator,\n",
        "                             validation_steps=val_generator.n//batch_size\n",
        "                             )"
      ],
      "execution_count": null,
      "outputs": []
    },
    {
      "cell_type": "code",
      "metadata": {
        "id": "uC6O5NqM3De2",
        "colab_type": "code",
        "colab": {}
      },
      "source": [
        "#save model and history\n",
        "file_model = '/content/drive/My Drive/Deep Learning Project - Image Classification/Models/'+ 'SourceLight' + 'Dropout' + modelName + '_' + str(batch_size) + '_' + str(epochs)\n",
        "model.save(file_model + '.h5')\n",
        "print(file_model)\n",
        "#save history\n",
        "file_hist = '/content/drive/My Drive/Deep Learning Project - Image Classification/History/'+ 'SourceLight' + 'Dropout' + modelName + '_' + str(batch_size) + '_' + str(epochs) + '.csv'\n",
        "df_history = pd.DataFrame(history.history)\n",
        "with open(file_hist, 'w') as file:\n",
        "    df_history.to_csv(file)"
      ],
      "execution_count": null,
      "outputs": []
    },
    {
      "cell_type": "code",
      "metadata": {
        "id": "F0Pb9kTB3FcA",
        "colab_type": "code",
        "colab": {}
      },
      "source": [
        "#plot results\n",
        "plt.plot(history.history['accuracy'])\n",
        "plt.plot(history.history['val_accuracy'])\n",
        "plt.title('model accuracy')\n",
        "plt.ylabel('accuracy')\n",
        "plt.xlabel('epoch')\n",
        "plt.legend(['train', 'test'], loc='upper left')\n",
        "plt.show()\n",
        "\n",
        "# summarize history for loss\n",
        "plt.plot(history.history['loss'])\n",
        "plt.plot(history.history['val_loss'])\n",
        "plt.title('model loss')\n",
        "plt.ylabel('loss')\n",
        "plt.xlabel('epoch')\n",
        "plt.legend(['train', 'test'], loc='upper left')\n",
        "plt.show()"
      ],
      "execution_count": null,
      "outputs": []
    },
    {
      "cell_type": "code",
      "metadata": {
        "id": "q378f0hG3H8s",
        "colab_type": "code",
        "colab": {}
      },
      "source": [
        "#evaluation\n",
        "# https://stackoverflow.com/questions/40564936/keras-what-is-the-difference-between-model-evaluate-generator-and-model-predict\n",
        "steps = val_generator.n // val_generator.batch_size\n",
        "\n",
        "accuracy_ontest = model.evaluate_generator(val_generator, steps)\n",
        "predictions_ontest = model.predict_generator(val_generator, steps)\n",
        "print(accuracy_ontest)\n",
        "print(predictions_ontest)"
      ],
      "execution_count": null,
      "outputs": []
    }
  ]
}